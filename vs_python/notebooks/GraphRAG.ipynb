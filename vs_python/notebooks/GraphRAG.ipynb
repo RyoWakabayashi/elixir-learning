{
 "cells": [
  {
   "cell_type": "code",
   "execution_count": 1,
   "id": "bc843a0c-3e00-4226-bc81-0e0146071757",
   "metadata": {},
   "outputs": [],
   "source": [
    "import os\n",
    "\n",
    "from urllib.request import urlretrieve\n",
    "from getpass import getpass\n",
    "\n",
    "from langchain.document_loaders import TextLoader\n",
    "from langchain.docstore.document import Document\n",
    "from langchain.text_splitter import RecursiveCharacterTextSplitter\n",
    "\n",
    "from langchain_experimental.graph_transformers import LLMGraphTransformer\n",
    "from langchain_neo4j import GraphCypherQAChain, Neo4jGraph\n",
    "from langchain_openai import ChatOpenAI"
   ]
  },
  {
   "cell_type": "code",
   "execution_count": 2,
   "id": "d5240052-c068-49b2-bb6a-8bc610525c6a",
   "metadata": {},
   "outputs": [
    {
     "data": {
      "text/plain": [
       "('momotaro.txt', <http.client.HTTPMessage at 0x10f799190>)"
      ]
     },
     "execution_count": 2,
     "metadata": {},
     "output_type": "execute_result"
    }
   ],
   "source": [
    "url = 'https://raw.githubusercontent.com/RyoWakabayashi/elixir-learning/main/livebooks/bumblebee/colab/momotaro.txt'\n",
    "filename = 'momotaro.txt'\n",
    "\n",
    "urlretrieve(url, filename)"
   ]
  },
  {
   "cell_type": "code",
   "execution_count": 3,
   "id": "baa7fbf2-1f41-4c61-9c8f-d1b65820de65",
   "metadata": {},
   "outputs": [],
   "source": [
    "loader = TextLoader(filename)\n",
    "document = loader.load()"
   ]
  },
  {
   "cell_type": "code",
   "execution_count": 4,
   "id": "87e8e17f-1d3f-4f4a-b4fe-ed5715b37b76",
   "metadata": {},
   "outputs": [],
   "source": [
    "def split_text(docs: list) -> list:     \n",
    "    text_splitter = RecursiveCharacterTextSplitter(chunk_size=700, chunk_overlap=100)\n",
    "    return text_splitter.split_documents(docs)"
   ]
  },
  {
   "cell_type": "code",
   "execution_count": 5,
   "id": "f287394c-7a42-4119-a6e9-83d6d4402336",
   "metadata": {},
   "outputs": [],
   "source": [
    "tgt_chunks = split_text(document)"
   ]
  },
  {
   "cell_type": "code",
   "execution_count": 6,
   "id": "76b70daa-7146-419a-8219-a85234d7a3c4",
   "metadata": {},
   "outputs": [
    {
     "name": "stdin",
     "output_type": "stream",
     "text": [
      " ········\n"
     ]
    }
   ],
   "source": [
    "openai_api_key = getpass()"
   ]
  },
  {
   "cell_type": "code",
   "execution_count": 7,
   "id": "1da6d8fb-33ad-46ac-bbb0-ea905ba6d72e",
   "metadata": {},
   "outputs": [
    {
     "name": "stdin",
     "output_type": "stream",
     "text": [
      " ········\n"
     ]
    }
   ],
   "source": [
    "neo4j_uri = getpass()"
   ]
  },
  {
   "cell_type": "code",
   "execution_count": 8,
   "id": "8eb63490-b5fb-49ca-96c0-646475760389",
   "metadata": {},
   "outputs": [
    {
     "name": "stdin",
     "output_type": "stream",
     "text": [
      " ········\n"
     ]
    }
   ],
   "source": [
    "neo4j_username = getpass()"
   ]
  },
  {
   "cell_type": "code",
   "execution_count": 9,
   "id": "009aae7c-e85d-4360-b465-40d71dc9c5a0",
   "metadata": {},
   "outputs": [
    {
     "name": "stdin",
     "output_type": "stream",
     "text": [
      " ········\n"
     ]
    }
   ],
   "source": [
    "neo4j_password = getpass()"
   ]
  },
  {
   "cell_type": "code",
   "execution_count": 10,
   "id": "fbe40774-2836-4f59-9517-728dbf30933b",
   "metadata": {},
   "outputs": [],
   "source": [
    "model_id = 'gpt-4o'\n",
    "\n",
    "llm = ChatOpenAI(model=model_id, api_key=openai_api_key)\n",
    "llm_transformer = LLMGraphTransformer(llm=llm)"
   ]
  },
  {
   "cell_type": "code",
   "execution_count": 13,
   "id": "0ac52599-f957-47a6-a00d-4062d7c03771",
   "metadata": {},
   "outputs": [],
   "source": [
    "register_graph = Neo4jGraph(url=neo4j_uri, username=neo4j_username, password=neo4j_password)"
   ]
  },
  {
   "cell_type": "code",
   "execution_count": 14,
   "id": "e8801a1c-dd70-4261-abe5-9b8a2292bb10",
   "metadata": {},
   "outputs": [],
   "source": [
    "graph_documents = llm_transformer.convert_to_graph_documents(tgt_chunks)\n",
    "register_graph.add_graph_documents(graph_documents)"
   ]
  },
  {
   "cell_type": "code",
   "execution_count": 15,
   "id": "2e540bd2-369a-4e3f-80e4-d874fc5da4ce",
   "metadata": {},
   "outputs": [],
   "source": [
    "qa_graph = Neo4jGraph(url=neo4j_uri, username=neo4j_username, password=neo4j_password)"
   ]
  },
  {
   "cell_type": "code",
   "execution_count": 16,
   "id": "1163a0fb-3ed5-4a87-8b15-a7356e69a477",
   "metadata": {},
   "outputs": [],
   "source": [
    "chain = GraphCypherQAChain.from_llm(llm=llm, graph=qa_graph, allow_dangerous_requests=True, verbose=True)"
   ]
  },
  {
   "cell_type": "code",
   "execution_count": 17,
   "id": "5138fee9-7fc1-4d33-8815-d334bf2d442e",
   "metadata": {},
   "outputs": [
    {
     "data": {
      "text/plain": [
       "{'node_props': {'Person': [{'property': 'id', 'type': 'STRING'}],\n",
       "  'Place': [{'property': 'id', 'type': 'STRING'}],\n",
       "  'Object': [{'property': 'id', 'type': 'STRING'}],\n",
       "  'Creature': [{'property': 'id', 'type': 'STRING'}],\n",
       "  'Animal': [{'property': 'id', 'type': 'STRING'}],\n",
       "  'Location': [{'property': 'id', 'type': 'STRING'}],\n",
       "  'Book': [{'property': 'id', 'type': 'STRING'}],\n",
       "  'Organization': [{'property': 'id', 'type': 'STRING'}],\n",
       "  'Event': [{'property': 'id', 'type': 'STRING'}]},\n",
       " 'rel_props': {},\n",
       " 'relationships': [{'start': 'Person', 'type': 'VISIT', 'end': 'Location'},\n",
       "  {'start': 'Person', 'type': 'AWAITED', 'end': 'Person'},\n",
       "  {'start': 'Person', 'type': '顔を見合わせる', 'end': 'Person'},\n",
       "  {'start': 'Person', 'type': 'RECEIVE', 'end': 'Object'},\n",
       "  {'start': 'Person', 'type': 'ACQUAINTED_WITH', 'end': 'Person'},\n",
       "  {'start': 'Person', 'type': 'SAID', 'end': 'Person'},\n",
       "  {'start': 'Person', 'type': '名付ける', 'end': 'Person'},\n",
       "  {'start': 'Person', 'type': '育てました', 'end': 'Person'},\n",
       "  {'start': 'Person', 'type': 'SPEAK', 'end': 'Person'},\n",
       "  {'start': 'Person', 'type': 'CREATE', 'end': 'Object'},\n",
       "  {'start': 'Person', 'type': 'FIND', 'end': 'Object'},\n",
       "  {'start': 'Person', 'type': 'GIVE', 'end': 'Person'},\n",
       "  {'start': 'Person', 'type': 'FOUND', 'end': 'Object'},\n",
       "  {'start': 'Person', 'type': 'AT', 'end': 'Location'},\n",
       "  {'start': 'Person', 'type': '抱く', 'end': 'Person'},\n",
       "  {'start': 'Person', 'type': 'GRANTED', 'end': 'Person'},\n",
       "  {'start': 'Person', 'type': '生まれる', 'end': 'Object'},\n",
       "  {'start': 'Person', 'type': 'ACCOMPANIED_BY', 'end': 'Animal'},\n",
       "  {'start': 'Person', 'type': 'DISEMBARKED_FROM', 'end': 'Object'},\n",
       "  {'start': 'Person', 'type': 'LANDED_ON', 'end': 'Location'},\n",
       "  {'start': 'Person', 'type': 'HAS_SERVANT', 'end': 'Person'},\n",
       "  {'start': 'Person', 'type': 'DISCUSSED', 'end': 'Event'},\n",
       "  {'start': 'Person', 'type': 'TRAVEL_TO', 'end': 'Location'},\n",
       "  {'start': 'Person', 'type': 'DEFEAT', 'end': 'Creature'},\n",
       "  {'start': 'Person', 'type': 'ENCOUNTERED', 'end': 'Animal'},\n",
       "  {'start': 'Person', 'type': 'HAS', 'end': 'Object'},\n",
       "  {'start': 'Person', 'type': 'BOARD', 'end': 'Object'},\n",
       "  {'start': 'Person', 'type': 'ATTACKED', 'end': 'Object'},\n",
       "  {'start': 'Person', 'type': 'DEFEATED', 'end': 'Person'},\n",
       "  {'start': 'Person', 'type': 'RETURNED_TO', 'end': 'Location'},\n",
       "  {'start': 'Person', 'type': 'FACED', 'end': 'Animal'},\n",
       "  {'start': 'Person', 'type': '住んでいます', 'end': 'Place'},\n",
       "  {'start': 'Person', 'type': '行こうと思います', 'end': 'Place'},\n",
       "  {'start': 'Person', 'type': 'RECEIVED', 'end': 'Object'},\n",
       "  {'start': 'Person', 'type': 'TRAVELING_TO', 'end': 'Location'},\n",
       "  {'start': 'Person', 'type': 'CARRY', 'end': 'Object'},\n",
       "  {'start': 'Person', 'type': 'CLOSED', 'end': 'Object'},\n",
       "  {'start': 'Person', 'type': 'GUARD_AT', 'end': 'Location'},\n",
       "  {'start': 'Person', 'type': 'SURRENDERED_TO', 'end': 'Person'},\n",
       "  {'start': 'Person', 'type': 'FOUGHT_WITH', 'end': 'Person'},\n",
       "  {'start': 'Person', 'type': 'ATTACKED_BY', 'end': 'Animal'},\n",
       "  {'start': 'Person', 'type': 'GAVE', 'end': 'Object'},\n",
       "  {'start': 'Person', 'type': 'INPUT', 'end': 'Book'},\n",
       "  {'start': 'Person', 'type': 'PROOFREAD', 'end': 'Book'},\n",
       "  {'start': 'Person', 'type': 'CONTRIBUTED', 'end': 'Book'},\n",
       "  {'start': 'Object', 'type': 'CONTAINED', 'end': 'Person'},\n",
       "  {'start': 'Object', 'type': 'SAIL_ON', 'end': 'Location'},\n",
       "  {'start': 'Object', 'type': 'ABOVE', 'end': 'Place'},\n",
       "  {'start': 'Object', 'type': 'BLOOMED_IN', 'end': 'Place'},\n",
       "  {'start': 'Animal', 'type': 'KNOCKED_ON', 'end': 'Object'},\n",
       "  {'start': 'Animal', 'type': 'TRAVEL_TO', 'end': 'Location'},\n",
       "  {'start': 'Animal', 'type': 'ROW', 'end': 'Object'},\n",
       "  {'start': 'Animal', 'type': 'RECEIVED', 'end': 'Object'},\n",
       "  {'start': 'Animal', 'type': 'ASKED_DESTINATION', 'end': 'Person'},\n",
       "  {'start': 'Animal', 'type': 'ACCOMPANY', 'end': 'Person'},\n",
       "  {'start': 'Animal', 'type': 'OPENED', 'end': 'Object'},\n",
       "  {'start': 'Animal', 'type': 'STEER', 'end': 'Object'},\n",
       "  {'start': 'Animal', 'type': 'ATTACKED', 'end': 'Person'},\n",
       "  {'start': 'Animal', 'type': 'SCOUT', 'end': 'Object'},\n",
       "  {'start': 'Animal', 'type': 'FLY_TO', 'end': 'Location'},\n",
       "  {'start': 'Animal', 'type': 'LOCATED_AT', 'end': 'Location'},\n",
       "  {'start': 'Location', 'type': 'LOCATED_AT', 'end': 'Location'},\n",
       "  {'start': 'Book', 'type': 'PUBLISHED_BY', 'end': 'Organization'},\n",
       "  {'start': 'Organization', 'type': 'CREATED_FILE', 'end': 'Book'}],\n",
       " 'metadata': {'constraint': [], 'index': []}}"
      ]
     },
     "execution_count": 17,
     "metadata": {},
     "output_type": "execute_result"
    }
   ],
   "source": [
    "qa_graph.get_structured_schema"
   ]
  },
  {
   "cell_type": "code",
   "execution_count": 18,
   "id": "40d12c2f-f6c3-4de9-924a-303b25398b93",
   "metadata": {},
   "outputs": [
    {
     "name": "stdout",
     "output_type": "stream",
     "text": [
      "\n",
      "\n",
      "\u001b[1m> Entering new GraphCypherQAChain chain...\u001b[0m\n",
      "Generated Cypher:\n",
      "\u001b[32;1m\u001b[1;3mcypher\n",
      "MATCH (p:Person {id: \"桃太郎\"})-[:ACCOMPANIED_BY]->(a:Animal)\n",
      "RETURN a\n",
      "\u001b[0m\n",
      "Full Context:\n",
      "\u001b[32;1m\u001b[1;3m[{'a': {'id': '犬'}}, {'a': {'id': '猿'}}]\u001b[0m\n",
      "\n",
      "\u001b[1m> Finished chain.\u001b[0m\n"
     ]
    },
    {
     "data": {
      "text/plain": [
       "{'query': '桃太郎の仲間を教えてください', 'result': '犬と猿が桃太郎の仲間です。'}"
      ]
     },
     "execution_count": 18,
     "metadata": {},
     "output_type": "execute_result"
    }
   ],
   "source": [
    "chain.invoke('桃太郎の仲間を教えてください')"
   ]
  },
  {
   "cell_type": "code",
   "execution_count": null,
   "id": "01613eaf-7064-4245-90f8-0ad6bf067eb4",
   "metadata": {},
   "outputs": [],
   "source": []
  }
 ],
 "metadata": {
  "kernelspec": {
   "display_name": "Python 3 (ipykernel)",
   "language": "python",
   "name": "python3"
  },
  "language_info": {
   "codemirror_mode": {
    "name": "ipython",
    "version": 3
   },
   "file_extension": ".py",
   "mimetype": "text/x-python",
   "name": "python",
   "nbconvert_exporter": "python",
   "pygments_lexer": "ipython3",
   "version": "3.12.8"
  }
 },
 "nbformat": 4,
 "nbformat_minor": 5
}
