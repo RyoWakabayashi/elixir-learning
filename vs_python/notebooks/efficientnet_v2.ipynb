{
 "cells": [
  {
   "cell_type": "code",
   "execution_count": 1,
   "id": "cbe14b0e-ee4f-4705-8f69-4f244b490cd2",
   "metadata": {
    "tags": []
   },
   "outputs": [
    {
     "name": "stdout",
     "output_type": "stream",
     "text": [
      "Looking in indexes: https://pypi.org/simple, https://pip.repos.neuron.amazonaws.com\n",
      "Requirement already satisfied: torch==2.0.1 in /Users/oec/.asdf/installs/python/3.11.3/lib/python3.11/site-packages (2.0.1)\n",
      "Requirement already satisfied: torchvision==0.15.2 in /Users/oec/.asdf/installs/python/3.11.3/lib/python3.11/site-packages (0.15.2)\n",
      "Requirement already satisfied: filelock in /Users/oec/.asdf/installs/python/3.11.3/lib/python3.11/site-packages (from torch==2.0.1) (3.11.0)\n",
      "Requirement already satisfied: typing-extensions in /Users/oec/.asdf/installs/python/3.11.3/lib/python3.11/site-packages (from torch==2.0.1) (4.6.3)\n",
      "Requirement already satisfied: sympy in /Users/oec/.asdf/installs/python/3.11.3/lib/python3.11/site-packages (from torch==2.0.1) (1.12)\n",
      "Requirement already satisfied: networkx in /Users/oec/.asdf/installs/python/3.11.3/lib/python3.11/site-packages (from torch==2.0.1) (3.1)\n",
      "Requirement already satisfied: jinja2 in /Users/oec/.asdf/installs/python/3.11.3/lib/python3.11/site-packages (from torch==2.0.1) (3.1.2)\n",
      "Requirement already satisfied: numpy in /Users/oec/.asdf/installs/python/3.11.3/lib/python3.11/site-packages (from torchvision==0.15.2) (1.24.3)\n",
      "Requirement already satisfied: requests in /Users/oec/.asdf/installs/python/3.11.3/lib/python3.11/site-packages (from torchvision==0.15.2) (2.28.2)\n",
      "Requirement already satisfied: pillow!=8.3.*,>=5.3.0 in /Users/oec/.asdf/installs/python/3.11.3/lib/python3.11/site-packages (from torchvision==0.15.2) (9.5.0)\n",
      "Requirement already satisfied: MarkupSafe>=2.0 in /Users/oec/.asdf/installs/python/3.11.3/lib/python3.11/site-packages (from jinja2->torch==2.0.1) (2.1.2)\n",
      "Requirement already satisfied: charset-normalizer<4,>=2 in /Users/oec/.asdf/installs/python/3.11.3/lib/python3.11/site-packages (from requests->torchvision==0.15.2) (3.1.0)\n",
      "Requirement already satisfied: idna<4,>=2.5 in /Users/oec/.asdf/installs/python/3.11.3/lib/python3.11/site-packages (from requests->torchvision==0.15.2) (3.4)\n",
      "Requirement already satisfied: urllib3<1.27,>=1.21.1 in /Users/oec/.asdf/installs/python/3.11.3/lib/python3.11/site-packages (from requests->torchvision==0.15.2) (1.26.15)\n",
      "Requirement already satisfied: certifi>=2017.4.17 in /Users/oec/.asdf/installs/python/3.11.3/lib/python3.11/site-packages (from requests->torchvision==0.15.2) (2022.12.7)\n",
      "Requirement already satisfied: mpmath>=0.19 in /Users/oec/.asdf/installs/python/3.11.3/lib/python3.11/site-packages (from sympy->torch==2.0.1) (1.3.0)\n"
     ]
    }
   ],
   "source": [
    "!pip install torch==2.0.1 torchvision==0.15.2"
   ]
  },
  {
   "cell_type": "code",
   "execution_count": 2,
   "id": "6931951a-401a-41c9-ab13-117bf0e0d745",
   "metadata": {
    "tags": []
   },
   "outputs": [],
   "source": [
    "import os\n",
    "\n",
    "import torch\n",
    "import torch.nn as nn\n",
    "import torchvision\n",
    "\n",
    "from glob import glob\n",
    "\n",
    "from torch.utils.data.dataloader import default_collate\n",
    "from torchvision import datasets, models, transforms"
   ]
  },
  {
   "cell_type": "code",
   "execution_count": 40,
   "id": "4a86b30f-c6af-4bf8-85b4-db087bf82815",
   "metadata": {
    "tags": []
   },
   "outputs": [
    {
     "data": {
      "text/plain": [
       "['cloudy', 'desert', 'green_area', 'water']"
      ]
     },
     "execution_count": 40,
     "metadata": {},
     "output_type": "execute_result"
    }
   ],
   "source": [
    "classes = [os.path.basename(folder) for folder in sorted(glob(\"../../tmp/test_data/*\"))]\n",
    "\n",
    "classes"
   ]
  },
  {
   "cell_type": "code",
   "execution_count": 4,
   "id": "9a2cfa04-a49f-4c79-a562-1d4e46c3b5ab",
   "metadata": {
    "tags": []
   },
   "outputs": [],
   "source": [
    "device = torch.device(\"cpu\")"
   ]
  },
  {
   "cell_type": "code",
   "execution_count": 5,
   "id": "cdbf9d7a-8f4b-451e-9028-8ad6b10610dd",
   "metadata": {
    "tags": []
   },
   "outputs": [],
   "source": [
    "model = models.efficientnet_v2_m()"
   ]
  },
  {
   "cell_type": "code",
   "execution_count": 12,
   "id": "299ca209-d88b-4600-9b9c-01603e70c724",
   "metadata": {
    "tags": []
   },
   "outputs": [],
   "source": [
    "num_ftrs = model.classifier[1].in_features\n",
    "model.classifier[1] = nn.Linear(num_ftrs, len(classes))"
   ]
  },
  {
   "cell_type": "code",
   "execution_count": 13,
   "id": "8ddc4ed4-a54d-4caa-ad8c-eff557cd6d4b",
   "metadata": {
    "tags": []
   },
   "outputs": [
    {
     "data": {
      "text/plain": [
       "<All keys matched successfully>"
      ]
     },
     "execution_count": 13,
     "metadata": {},
     "output_type": "execute_result"
    }
   ],
   "source": [
    "model.load_state_dict(torch.load(\"../../tmp/efficientnet_v2_m.pth\", map_location=device))"
   ]
  },
  {
   "cell_type": "code",
   "execution_count": 17,
   "id": "81744b79-8d02-4563-aa0e-a746829c998d",
   "metadata": {
    "tags": []
   },
   "outputs": [],
   "source": [
    "data_transform = transforms.Compose([\n",
    "    transforms.Resize(224),\n",
    "    transforms.ToTensor()\n",
    "])\n",
    "\n",
    "image_dataset = datasets.ImageFolder(\"../../tmp/test_data\", data_transform)\n",
    "\n",
    "dataloader = torch.utils.data.DataLoader(image_dataset, batch_size=4, shuffle=False, num_workers=2)"
   ]
  },
  {
   "cell_type": "code",
   "execution_count": 21,
   "id": "a59a01b7-6096-4034-bd61-2a1f91134be5",
   "metadata": {
    "tags": []
   },
   "outputs": [
    {
     "data": {
      "text/plain": [
       "tensor([[-0.9691, -0.2161, -5.5451, -4.1060],\n",
       "        [-0.1002, -5.4098, -1.0635, -0.3583],\n",
       "        [-5.6530, -6.5186, -3.4168, -1.7497],\n",
       "        [-2.6396, -2.3899, -2.5033, -1.6456]], grad_fn=<AddmmBackward0>)"
      ]
     },
     "execution_count": 21,
     "metadata": {},
     "output_type": "execute_result"
    }
   ],
   "source": [
    "inputs, labels = next(iter(dataloader))\n",
    "\n",
    "outputs = model(inputs)\n",
    "\n",
    "outputs"
   ]
  },
  {
   "cell_type": "code",
   "execution_count": 23,
   "id": "e338d033-f701-40e7-bb61-948b159b6f79",
   "metadata": {
    "tags": []
   },
   "outputs": [
    {
     "data": {
      "text/plain": [
       "tensor([1, 0, 3, 3])"
      ]
     },
     "execution_count": 23,
     "metadata": {},
     "output_type": "execute_result"
    }
   ],
   "source": [
    "_, preds = torch.max(outputs, 1)\n",
    "\n",
    "preds"
   ]
  },
  {
   "cell_type": "code",
   "execution_count": 43,
   "id": "23eea3d8-0839-4f83-89c2-ea23bf1daa6b",
   "metadata": {
    "tags": []
   },
   "outputs": [
    {
     "data": {
      "text/plain": [
       "tensor([0.6683, 0.4632, 0.8214, 0.4407], grad_fn=<MaxBackward0>)"
      ]
     },
     "execution_count": 43,
     "metadata": {},
     "output_type": "execute_result"
    }
   ],
   "source": [
    "softmax = nn.Softmax(dim=1)\n",
    "\n",
    "scores = softmax(outputs)\n",
    "\n",
    "scores = torch.max(scores, 1).values\n",
    "\n",
    "scores"
   ]
  },
  {
   "cell_type": "code",
   "execution_count": 42,
   "id": "592ab04c-30ba-4184-8c87-22b055111f85",
   "metadata": {
    "tags": []
   },
   "outputs": [
    {
     "data": {
      "text/plain": [
       "[{'correct_class': 'cloudy',\n",
       "  'predicted_class': 'desert',\n",
       "  'predicted_score': 0.6683429479598999},\n",
       " {'correct_class': 'cloudy',\n",
       "  'predicted_class': 'cloudy',\n",
       "  'predicted_score': 0.4631504714488983},\n",
       " {'correct_class': 'cloudy',\n",
       "  'predicted_class': 'water',\n",
       "  'predicted_score': 0.8213943243026733},\n",
       " {'correct_class': 'cloudy',\n",
       "  'predicted_class': 'water',\n",
       "  'predicted_score': 0.4406794309616089}]"
      ]
     },
     "execution_count": 42,
     "metadata": {},
     "output_type": "execute_result"
    }
   ],
   "source": [
    "predictions = []\n",
    "for j in range(inputs.size()[0]):\n",
    "    predictions.append({\n",
    "        \"correct_class\": classes[labels[j]],\n",
    "        \"predicted_class\": classes[preds[j]],\n",
    "        \"predicted_score\": float(scores[j])\n",
    "    })\n",
    "\n",
    "predictions"
   ]
  },
  {
   "cell_type": "code",
   "execution_count": 46,
   "id": "3038e1dd-f012-4f52-bf7c-54ba8417f7bc",
   "metadata": {
    "scrolled": true,
    "tags": []
   },
   "outputs": [
    {
     "name": "stdout",
     "output_type": "stream",
     "text": [
      "CPU times: user 33.2 s, sys: 15.4 s, total: 48.6 s\n",
      "Wall time: 52.4 s\n"
     ]
    },
    {
     "data": {
      "text/plain": [
       "[{'correct_class': 'cloudy',\n",
       "  'predicted_class': 'desert',\n",
       "  'predicted_score': 0.6706036329269409},\n",
       " {'correct_class': 'cloudy',\n",
       "  'predicted_class': 'water',\n",
       "  'predicted_score': 0.8571392893791199},\n",
       " {'correct_class': 'cloudy',\n",
       "  'predicted_class': 'water',\n",
       "  'predicted_score': 0.48427340388298035},\n",
       " {'correct_class': 'cloudy',\n",
       "  'predicted_class': 'water',\n",
       "  'predicted_score': 0.4000720679759979},\n",
       " {'correct_class': 'cloudy',\n",
       "  'predicted_class': 'green_area',\n",
       "  'predicted_score': 0.4143807590007782},\n",
       " {'correct_class': 'cloudy',\n",
       "  'predicted_class': 'cloudy',\n",
       "  'predicted_score': 0.8403739929199219},\n",
       " {'correct_class': 'cloudy',\n",
       "  'predicted_class': 'water',\n",
       "  'predicted_score': 0.6990119218826294},\n",
       " {'correct_class': 'cloudy',\n",
       "  'predicted_class': 'cloudy',\n",
       "  'predicted_score': 0.40804314613342285},\n",
       " {'correct_class': 'cloudy',\n",
       "  'predicted_class': 'green_area',\n",
       "  'predicted_score': 0.35332876443862915},\n",
       " {'correct_class': 'cloudy',\n",
       "  'predicted_class': 'water',\n",
       "  'predicted_score': 0.6586602926254272},\n",
       " {'correct_class': 'cloudy',\n",
       "  'predicted_class': 'cloudy',\n",
       "  'predicted_score': 0.4387316107749939},\n",
       " {'correct_class': 'cloudy',\n",
       "  'predicted_class': 'cloudy',\n",
       "  'predicted_score': 0.6549767851829529},\n",
       " {'correct_class': 'cloudy',\n",
       "  'predicted_class': 'green_area',\n",
       "  'predicted_score': 0.32602688670158386},\n",
       " {'correct_class': 'cloudy',\n",
       "  'predicted_class': 'water',\n",
       "  'predicted_score': 0.7220320701599121},\n",
       " {'correct_class': 'cloudy',\n",
       "  'predicted_class': 'desert',\n",
       "  'predicted_score': 0.4704681634902954},\n",
       " {'correct_class': 'cloudy',\n",
       "  'predicted_class': 'water',\n",
       "  'predicted_score': 0.5903961062431335},\n",
       " {'correct_class': 'cloudy',\n",
       "  'predicted_class': 'green_area',\n",
       "  'predicted_score': 0.909353494644165},\n",
       " {'correct_class': 'cloudy',\n",
       "  'predicted_class': 'water',\n",
       "  'predicted_score': 0.8866907358169556},\n",
       " {'correct_class': 'cloudy',\n",
       "  'predicted_class': 'green_area',\n",
       "  'predicted_score': 0.6559696793556213},\n",
       " {'correct_class': 'cloudy',\n",
       "  'predicted_class': 'cloudy',\n",
       "  'predicted_score': 0.6263659596443176},\n",
       " {'correct_class': 'cloudy',\n",
       "  'predicted_class': 'water',\n",
       "  'predicted_score': 0.6970741152763367},\n",
       " {'correct_class': 'cloudy',\n",
       "  'predicted_class': 'water',\n",
       "  'predicted_score': 0.45938071608543396},\n",
       " {'correct_class': 'cloudy',\n",
       "  'predicted_class': 'green_area',\n",
       "  'predicted_score': 0.552421510219574},\n",
       " {'correct_class': 'cloudy',\n",
       "  'predicted_class': 'water',\n",
       "  'predicted_score': 0.6795649528503418},\n",
       " {'correct_class': 'cloudy',\n",
       "  'predicted_class': 'green_area',\n",
       "  'predicted_score': 0.8729106783866882},\n",
       " {'correct_class': 'desert',\n",
       "  'predicted_class': 'water',\n",
       "  'predicted_score': 0.5860490798950195},\n",
       " {'correct_class': 'desert',\n",
       "  'predicted_class': 'water',\n",
       "  'predicted_score': 0.3491654694080353},\n",
       " {'correct_class': 'desert',\n",
       "  'predicted_class': 'water',\n",
       "  'predicted_score': 0.5028929710388184},\n",
       " {'correct_class': 'desert',\n",
       "  'predicted_class': 'water',\n",
       "  'predicted_score': 0.9390558004379272},\n",
       " {'correct_class': 'desert',\n",
       "  'predicted_class': 'cloudy',\n",
       "  'predicted_score': 0.6069396138191223},\n",
       " {'correct_class': 'desert',\n",
       "  'predicted_class': 'cloudy',\n",
       "  'predicted_score': 0.9062719345092773},\n",
       " {'correct_class': 'desert',\n",
       "  'predicted_class': 'water',\n",
       "  'predicted_score': 0.8919286131858826},\n",
       " {'correct_class': 'desert',\n",
       "  'predicted_class': 'cloudy',\n",
       "  'predicted_score': 0.6681245565414429},\n",
       " {'correct_class': 'desert',\n",
       "  'predicted_class': 'water',\n",
       "  'predicted_score': 0.6584841012954712},\n",
       " {'correct_class': 'desert',\n",
       "  'predicted_class': 'green_area',\n",
       "  'predicted_score': 0.7123267650604248},\n",
       " {'correct_class': 'desert',\n",
       "  'predicted_class': 'water',\n",
       "  'predicted_score': 0.5594282150268555},\n",
       " {'correct_class': 'desert',\n",
       "  'predicted_class': 'water',\n",
       "  'predicted_score': 0.9438566565513611},\n",
       " {'correct_class': 'desert',\n",
       "  'predicted_class': 'water',\n",
       "  'predicted_score': 0.6383487582206726},\n",
       " {'correct_class': 'desert',\n",
       "  'predicted_class': 'green_area',\n",
       "  'predicted_score': 0.5847094058990479},\n",
       " {'correct_class': 'desert',\n",
       "  'predicted_class': 'cloudy',\n",
       "  'predicted_score': 0.7702590823173523},\n",
       " {'correct_class': 'desert',\n",
       "  'predicted_class': 'desert',\n",
       "  'predicted_score': 0.6710439920425415},\n",
       " {'correct_class': 'desert',\n",
       "  'predicted_class': 'cloudy',\n",
       "  'predicted_score': 0.6762665510177612},\n",
       " {'correct_class': 'desert',\n",
       "  'predicted_class': 'green_area',\n",
       "  'predicted_score': 0.4542993903160095},\n",
       " {'correct_class': 'desert',\n",
       "  'predicted_class': 'cloudy',\n",
       "  'predicted_score': 0.8842551112174988},\n",
       " {'correct_class': 'desert',\n",
       "  'predicted_class': 'water',\n",
       "  'predicted_score': 0.5573021173477173},\n",
       " {'correct_class': 'desert',\n",
       "  'predicted_class': 'cloudy',\n",
       "  'predicted_score': 0.4075181186199188},\n",
       " {'correct_class': 'desert',\n",
       "  'predicted_class': 'cloudy',\n",
       "  'predicted_score': 0.6201937794685364},\n",
       " {'correct_class': 'desert',\n",
       "  'predicted_class': 'water',\n",
       "  'predicted_score': 0.8046532273292542},\n",
       " {'correct_class': 'desert',\n",
       "  'predicted_class': 'cloudy',\n",
       "  'predicted_score': 0.6615497469902039},\n",
       " {'correct_class': 'desert',\n",
       "  'predicted_class': 'water',\n",
       "  'predicted_score': 0.494632363319397},\n",
       " {'correct_class': 'green_area',\n",
       "  'predicted_class': 'green_area',\n",
       "  'predicted_score': 0.8713845014572144},\n",
       " {'correct_class': 'green_area',\n",
       "  'predicted_class': 'green_area',\n",
       "  'predicted_score': 0.7974904179573059},\n",
       " {'correct_class': 'green_area',\n",
       "  'predicted_class': 'desert',\n",
       "  'predicted_score': 0.5811052322387695},\n",
       " {'correct_class': 'green_area',\n",
       "  'predicted_class': 'water',\n",
       "  'predicted_score': 0.9779244065284729},\n",
       " {'correct_class': 'green_area',\n",
       "  'predicted_class': 'green_area',\n",
       "  'predicted_score': 0.665773332118988},\n",
       " {'correct_class': 'green_area',\n",
       "  'predicted_class': 'green_area',\n",
       "  'predicted_score': 0.605185866355896},\n",
       " {'correct_class': 'green_area',\n",
       "  'predicted_class': 'green_area',\n",
       "  'predicted_score': 0.43882107734680176},\n",
       " {'correct_class': 'green_area',\n",
       "  'predicted_class': 'cloudy',\n",
       "  'predicted_score': 0.9467709064483643},\n",
       " {'correct_class': 'green_area',\n",
       "  'predicted_class': 'water',\n",
       "  'predicted_score': 0.7721549272537231},\n",
       " {'correct_class': 'green_area',\n",
       "  'predicted_class': 'cloudy',\n",
       "  'predicted_score': 0.7436437010765076},\n",
       " {'correct_class': 'green_area',\n",
       "  'predicted_class': 'water',\n",
       "  'predicted_score': 0.5923575758934021},\n",
       " {'correct_class': 'green_area',\n",
       "  'predicted_class': 'cloudy',\n",
       "  'predicted_score': 0.8454155325889587},\n",
       " {'correct_class': 'green_area',\n",
       "  'predicted_class': 'water',\n",
       "  'predicted_score': 0.8567178845405579},\n",
       " {'correct_class': 'green_area',\n",
       "  'predicted_class': 'green_area',\n",
       "  'predicted_score': 0.5053575038909912},\n",
       " {'correct_class': 'green_area',\n",
       "  'predicted_class': 'water',\n",
       "  'predicted_score': 0.6425530910491943},\n",
       " {'correct_class': 'green_area',\n",
       "  'predicted_class': 'water',\n",
       "  'predicted_score': 0.5972546339035034},\n",
       " {'correct_class': 'green_area',\n",
       "  'predicted_class': 'desert',\n",
       "  'predicted_score': 0.5234184265136719},\n",
       " {'correct_class': 'green_area',\n",
       "  'predicted_class': 'cloudy',\n",
       "  'predicted_score': 0.6553896069526672},\n",
       " {'correct_class': 'green_area',\n",
       "  'predicted_class': 'green_area',\n",
       "  'predicted_score': 0.7911752462387085},\n",
       " {'correct_class': 'green_area',\n",
       "  'predicted_class': 'desert',\n",
       "  'predicted_score': 0.3795555830001831},\n",
       " {'correct_class': 'green_area',\n",
       "  'predicted_class': 'water',\n",
       "  'predicted_score': 0.73625248670578},\n",
       " {'correct_class': 'green_area',\n",
       "  'predicted_class': 'cloudy',\n",
       "  'predicted_score': 0.8830132484436035},\n",
       " {'correct_class': 'green_area',\n",
       "  'predicted_class': 'desert',\n",
       "  'predicted_score': 0.6587331295013428},\n",
       " {'correct_class': 'green_area',\n",
       "  'predicted_class': 'cloudy',\n",
       "  'predicted_score': 0.8999610543251038},\n",
       " {'correct_class': 'green_area',\n",
       "  'predicted_class': 'green_area',\n",
       "  'predicted_score': 0.40520110726356506},\n",
       " {'correct_class': 'water',\n",
       "  'predicted_class': 'water',\n",
       "  'predicted_score': 0.5006173849105835},\n",
       " {'correct_class': 'water',\n",
       "  'predicted_class': 'cloudy',\n",
       "  'predicted_score': 0.48079532384872437},\n",
       " {'correct_class': 'water',\n",
       "  'predicted_class': 'green_area',\n",
       "  'predicted_score': 0.34539300203323364},\n",
       " {'correct_class': 'water',\n",
       "  'predicted_class': 'green_area',\n",
       "  'predicted_score': 0.621587872505188},\n",
       " {'correct_class': 'water',\n",
       "  'predicted_class': 'cloudy',\n",
       "  'predicted_score': 0.5006826519966125},\n",
       " {'correct_class': 'water',\n",
       "  'predicted_class': 'water',\n",
       "  'predicted_score': 0.5805114507675171},\n",
       " {'correct_class': 'water',\n",
       "  'predicted_class': 'water',\n",
       "  'predicted_score': 0.5304285883903503},\n",
       " {'correct_class': 'water',\n",
       "  'predicted_class': 'cloudy',\n",
       "  'predicted_score': 0.7901312112808228},\n",
       " {'correct_class': 'water',\n",
       "  'predicted_class': 'water',\n",
       "  'predicted_score': 0.7883086204528809},\n",
       " {'correct_class': 'water',\n",
       "  'predicted_class': 'cloudy',\n",
       "  'predicted_score': 0.4756903350353241},\n",
       " {'correct_class': 'water',\n",
       "  'predicted_class': 'green_area',\n",
       "  'predicted_score': 0.7650967240333557},\n",
       " {'correct_class': 'water',\n",
       "  'predicted_class': 'green_area',\n",
       "  'predicted_score': 0.4713234007358551},\n",
       " {'correct_class': 'water',\n",
       "  'predicted_class': 'water',\n",
       "  'predicted_score': 0.6887389421463013},\n",
       " {'correct_class': 'water',\n",
       "  'predicted_class': 'water',\n",
       "  'predicted_score': 0.7950858473777771},\n",
       " {'correct_class': 'water',\n",
       "  'predicted_class': 'cloudy',\n",
       "  'predicted_score': 0.6240445971488953},\n",
       " {'correct_class': 'water',\n",
       "  'predicted_class': 'cloudy',\n",
       "  'predicted_score': 0.517411470413208},\n",
       " {'correct_class': 'water',\n",
       "  'predicted_class': 'green_area',\n",
       "  'predicted_score': 0.4584497809410095},\n",
       " {'correct_class': 'water',\n",
       "  'predicted_class': 'cloudy',\n",
       "  'predicted_score': 0.9551701545715332},\n",
       " {'correct_class': 'water',\n",
       "  'predicted_class': 'water',\n",
       "  'predicted_score': 0.9082831740379333},\n",
       " {'correct_class': 'water',\n",
       "  'predicted_class': 'green_area',\n",
       "  'predicted_score': 0.5872230529785156},\n",
       " {'correct_class': 'water',\n",
       "  'predicted_class': 'green_area',\n",
       "  'predicted_score': 0.7310453057289124},\n",
       " {'correct_class': 'water',\n",
       "  'predicted_class': 'water',\n",
       "  'predicted_score': 0.7350795269012451},\n",
       " {'correct_class': 'water',\n",
       "  'predicted_class': 'water',\n",
       "  'predicted_score': 0.44034308195114136},\n",
       " {'correct_class': 'water',\n",
       "  'predicted_class': 'cloudy',\n",
       "  'predicted_score': 0.5525091290473938},\n",
       " {'correct_class': 'water',\n",
       "  'predicted_class': 'water',\n",
       "  'predicted_score': 0.707061767578125}]"
      ]
     },
     "execution_count": 46,
     "metadata": {},
     "output_type": "execute_result"
    }
   ],
   "source": [
    "%%time\n",
    "\n",
    "predictions = []\n",
    "for inputs, labels in dataloader:\n",
    "    inputs = inputs.to(device)\n",
    "    labels = labels.to(device)\n",
    "\n",
    "    outputs = model(inputs)\n",
    "    \n",
    "    _, preds = torch.max(outputs, 1)\n",
    "    scores = torch.max(softmax(outputs), 1).values\n",
    "\n",
    "    for j in range(inputs.size()[0]):\n",
    "        predictions.append({\n",
    "            \"correct_class\": classes[labels[j]],\n",
    "            \"predicted_class\": classes[preds[j]],\n",
    "            \"predicted_score\": float(scores[j])\n",
    "        })\n",
    "\n",
    "predictions"
   ]
  },
  {
   "cell_type": "code",
   "execution_count": null,
   "id": "d92c8664-bf98-433c-b1af-ff8e7fa5dffb",
   "metadata": {},
   "outputs": [],
   "source": []
  }
 ],
 "metadata": {
  "kernelspec": {
   "display_name": "Python 3 (ipykernel)",
   "language": "python",
   "name": "python3"
  },
  "language_info": {
   "codemirror_mode": {
    "name": "ipython",
    "version": 3
   },
   "file_extension": ".py",
   "mimetype": "text/x-python",
   "name": "python",
   "nbconvert_exporter": "python",
   "pygments_lexer": "ipython3",
   "version": "3.11.3"
  }
 },
 "nbformat": 4,
 "nbformat_minor": 5
}
