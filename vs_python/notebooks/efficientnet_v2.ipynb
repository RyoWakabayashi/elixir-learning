{
 "cells": [
  {
   "cell_type": "code",
   "execution_count": 1,
   "id": "cbe14b0e-ee4f-4705-8f69-4f244b490cd2",
   "metadata": {
    "tags": []
   },
   "outputs": [
    {
     "name": "stdout",
     "output_type": "stream",
     "text": [
      "Looking in indexes: https://pypi.org/simple, https://pip.repos.neuron.amazonaws.com\n",
      "Requirement already satisfied: torch==2.5.1 in /Users/rwakabay/.local/share/mise/installs/python/3.12.8/lib/python3.12/site-packages (2.5.1)\n",
      "Requirement already satisfied: torchvision==0.20.1 in /Users/rwakabay/.local/share/mise/installs/python/3.12.8/lib/python3.12/site-packages (0.20.1)\n",
      "Requirement already satisfied: filelock in /Users/rwakabay/.local/share/mise/installs/python/3.12.8/lib/python3.12/site-packages (from torch==2.5.1) (3.16.1)\n",
      "Requirement already satisfied: typing-extensions>=4.8.0 in /Users/rwakabay/.local/share/mise/installs/python/3.12.8/lib/python3.12/site-packages (from torch==2.5.1) (4.12.2)\n",
      "Requirement already satisfied: networkx in /Users/rwakabay/.local/share/mise/installs/python/3.12.8/lib/python3.12/site-packages (from torch==2.5.1) (3.4.2)\n",
      "Requirement already satisfied: jinja2 in /Users/rwakabay/.local/share/mise/installs/python/3.12.8/lib/python3.12/site-packages (from torch==2.5.1) (3.1.5)\n",
      "Requirement already satisfied: fsspec in /Users/rwakabay/.local/share/mise/installs/python/3.12.8/lib/python3.12/site-packages (from torch==2.5.1) (2024.12.0)\n",
      "Requirement already satisfied: setuptools in /Users/rwakabay/.local/share/mise/installs/python/3.12.8/lib/python3.12/site-packages (from torch==2.5.1) (75.7.0)\n",
      "Requirement already satisfied: sympy==1.13.1 in /Users/rwakabay/.local/share/mise/installs/python/3.12.8/lib/python3.12/site-packages (from torch==2.5.1) (1.13.1)\n",
      "Requirement already satisfied: numpy in /Users/rwakabay/.local/share/mise/installs/python/3.12.8/lib/python3.12/site-packages (from torchvision==0.20.1) (2.2.1)\n",
      "Requirement already satisfied: pillow!=8.3.*,>=5.3.0 in /Users/rwakabay/.local/share/mise/installs/python/3.12.8/lib/python3.12/site-packages (from torchvision==0.20.1) (11.1.0)\n",
      "Requirement already satisfied: mpmath<1.4,>=1.1.0 in /Users/rwakabay/.local/share/mise/installs/python/3.12.8/lib/python3.12/site-packages (from sympy==1.13.1->torch==2.5.1) (1.3.0)\n",
      "Requirement already satisfied: MarkupSafe>=2.0 in /Users/rwakabay/.local/share/mise/installs/python/3.12.8/lib/python3.12/site-packages (from jinja2->torch==2.5.1) (3.0.2)\n"
     ]
    }
   ],
   "source": [
    "!pip install torch==2.5.1 torchvision==0.20.1"
   ]
  },
  {
   "cell_type": "code",
   "execution_count": 2,
   "id": "6931951a-401a-41c9-ab13-117bf0e0d745",
   "metadata": {
    "tags": []
   },
   "outputs": [],
   "source": [
    "import os\n",
    "\n",
    "import torch\n",
    "import torch.nn as nn\n",
    "import torchvision\n",
    "\n",
    "from glob import glob\n",
    "\n",
    "from torch.utils.data.dataloader import default_collate\n",
    "from torchvision import datasets, models, transforms"
   ]
  },
  {
   "cell_type": "code",
   "execution_count": 3,
   "id": "4a86b30f-c6af-4bf8-85b4-db087bf82815",
   "metadata": {
    "tags": []
   },
   "outputs": [
    {
     "data": {
      "text/plain": [
       "['cloudy', 'others']"
      ]
     },
     "execution_count": 3,
     "metadata": {},
     "output_type": "execute_result"
    }
   ],
   "source": [
    "classes = [os.path.basename(folder) for folder in sorted(glob(\"../../tmp/test_data/*\"))]\n",
    "\n",
    "classes"
   ]
  },
  {
   "cell_type": "code",
   "execution_count": 4,
   "id": "9a2cfa04-a49f-4c79-a562-1d4e46c3b5ab",
   "metadata": {
    "tags": []
   },
   "outputs": [],
   "source": [
    "device = torch.device(\"cpu\")"
   ]
  },
  {
   "cell_type": "code",
   "execution_count": 5,
   "id": "cdbf9d7a-8f4b-451e-9028-8ad6b10610dd",
   "metadata": {
    "tags": []
   },
   "outputs": [],
   "source": [
    "model = models.efficientnet_v2_m()"
   ]
  },
  {
   "cell_type": "code",
   "execution_count": 6,
   "id": "299ca209-d88b-4600-9b9c-01603e70c724",
   "metadata": {
    "tags": []
   },
   "outputs": [],
   "source": [
    "num_ftrs = model.classifier[1].in_features\n",
    "model.classifier[1] = nn.Linear(num_ftrs, len(classes))"
   ]
  },
  {
   "cell_type": "code",
   "execution_count": 7,
   "id": "8ddc4ed4-a54d-4caa-ad8c-eff557cd6d4b",
   "metadata": {
    "tags": []
   },
   "outputs": [
    {
     "data": {
      "text/plain": [
       "<All keys matched successfully>"
      ]
     },
     "execution_count": 7,
     "metadata": {},
     "output_type": "execute_result"
    }
   ],
   "source": [
    "model.load_state_dict(torch.load(\"../../tmp/efficientnet_v2_m.pth\", map_location=device, weights_only=False))"
   ]
  },
  {
   "cell_type": "code",
   "execution_count": 8,
   "id": "81744b79-8d02-4563-aa0e-a746829c998d",
   "metadata": {
    "tags": []
   },
   "outputs": [],
   "source": [
    "data_transform = transforms.Compose([\n",
    "    transforms.Resize(224),\n",
    "    transforms.ToTensor()\n",
    "])\n",
    "\n",
    "image_dataset = datasets.ImageFolder(\"../../tmp/test_data\", data_transform)\n",
    "\n",
    "dataloader = torch.utils.data.DataLoader(image_dataset, batch_size=4, shuffle=False, num_workers=2)"
   ]
  },
  {
   "cell_type": "code",
   "execution_count": 9,
   "id": "a59a01b7-6096-4034-bd61-2a1f91134be5",
   "metadata": {
    "tags": []
   },
   "outputs": [
    {
     "data": {
      "text/plain": [
       "tensor([[-2.4023e-01,  4.6065e-01],\n",
       "        [-6.1739e-04, -7.0223e-02],\n",
       "        [-1.6689e+00,  9.4089e-01],\n",
       "        [ 1.7426e-01, -5.0595e-01]], grad_fn=<AddmmBackward0>)"
      ]
     },
     "execution_count": 9,
     "metadata": {},
     "output_type": "execute_result"
    }
   ],
   "source": [
    "inputs, labels = next(iter(dataloader))\n",
    "\n",
    "outputs = model(inputs)\n",
    "\n",
    "outputs"
   ]
  },
  {
   "cell_type": "code",
   "execution_count": 10,
   "id": "e338d033-f701-40e7-bb61-948b159b6f79",
   "metadata": {
    "tags": []
   },
   "outputs": [
    {
     "data": {
      "text/plain": [
       "tensor([1, 0, 1, 0])"
      ]
     },
     "execution_count": 10,
     "metadata": {},
     "output_type": "execute_result"
    }
   ],
   "source": [
    "_, preds = torch.max(outputs, 1)\n",
    "\n",
    "preds"
   ]
  },
  {
   "cell_type": "code",
   "execution_count": 11,
   "id": "23eea3d8-0839-4f83-89c2-ea23bf1daa6b",
   "metadata": {
    "tags": []
   },
   "outputs": [
    {
     "data": {
      "text/plain": [
       "tensor([0.6684, 0.5174, 0.9315, 0.6638], grad_fn=<MaxBackward0>)"
      ]
     },
     "execution_count": 11,
     "metadata": {},
     "output_type": "execute_result"
    }
   ],
   "source": [
    "softmax = nn.Softmax(dim=1)\n",
    "\n",
    "scores = softmax(outputs)\n",
    "\n",
    "scores = torch.max(scores, 1).values\n",
    "\n",
    "scores"
   ]
  },
  {
   "cell_type": "code",
   "execution_count": 12,
   "id": "592ab04c-30ba-4184-8c87-22b055111f85",
   "metadata": {
    "tags": []
   },
   "outputs": [
    {
     "data": {
      "text/plain": [
       "[{'correct_class': 'cloudy',\n",
       "  'predicted_class': 'others',\n",
       "  'predicted_score': 0.6683817505836487},\n",
       " {'correct_class': 'cloudy',\n",
       "  'predicted_class': 'cloudy',\n",
       "  'predicted_score': 0.517394483089447},\n",
       " {'correct_class': 'cloudy',\n",
       "  'predicted_class': 'others',\n",
       "  'predicted_score': 0.9314864277839661},\n",
       " {'correct_class': 'cloudy',\n",
       "  'predicted_class': 'cloudy',\n",
       "  'predicted_score': 0.6637860536575317}]"
      ]
     },
     "execution_count": 12,
     "metadata": {},
     "output_type": "execute_result"
    }
   ],
   "source": [
    "predictions = []\n",
    "for j in range(inputs.size()[0]):\n",
    "    predictions.append({\n",
    "        \"correct_class\": classes[labels[j]],\n",
    "        \"predicted_class\": classes[preds[j]],\n",
    "        \"predicted_score\": float(scores[j])\n",
    "    })\n",
    "\n",
    "predictions"
   ]
  },
  {
   "cell_type": "code",
   "execution_count": 13,
   "id": "3038e1dd-f012-4f52-bf7c-54ba8417f7bc",
   "metadata": {
    "scrolled": true,
    "tags": []
   },
   "outputs": [
    {
     "name": "stdout",
     "output_type": "stream",
     "text": [
      "CPU times: user 1min 7s, sys: 10.4 s, total: 1min 17s\n",
      "Wall time: 31 s\n"
     ]
    },
    {
     "data": {
      "text/plain": [
       "[{'correct_class': 'cloudy',\n",
       "  'predicted_class': 'others',\n",
       "  'predicted_score': 0.5029999017715454},\n",
       " {'correct_class': 'cloudy',\n",
       "  'predicted_class': 'others',\n",
       "  'predicted_score': 0.5805233120918274},\n",
       " {'correct_class': 'cloudy',\n",
       "  'predicted_class': 'others',\n",
       "  'predicted_score': 0.9115483164787292},\n",
       " {'correct_class': 'cloudy',\n",
       "  'predicted_class': 'cloudy',\n",
       "  'predicted_score': 0.5687546133995056},\n",
       " {'correct_class': 'cloudy',\n",
       "  'predicted_class': 'cloudy',\n",
       "  'predicted_score': 0.7493675947189331},\n",
       " {'correct_class': 'cloudy',\n",
       "  'predicted_class': 'cloudy',\n",
       "  'predicted_score': 0.7625610828399658},\n",
       " {'correct_class': 'cloudy',\n",
       "  'predicted_class': 'others',\n",
       "  'predicted_score': 0.7457485198974609},\n",
       " {'correct_class': 'cloudy',\n",
       "  'predicted_class': 'others',\n",
       "  'predicted_score': 0.7063394784927368},\n",
       " {'correct_class': 'cloudy',\n",
       "  'predicted_class': 'others',\n",
       "  'predicted_score': 0.5802710056304932},\n",
       " {'correct_class': 'cloudy',\n",
       "  'predicted_class': 'others',\n",
       "  'predicted_score': 0.5187650918960571},\n",
       " {'correct_class': 'cloudy',\n",
       "  'predicted_class': 'others',\n",
       "  'predicted_score': 0.6692688465118408},\n",
       " {'correct_class': 'cloudy',\n",
       "  'predicted_class': 'others',\n",
       "  'predicted_score': 0.5157849788665771},\n",
       " {'correct_class': 'cloudy',\n",
       "  'predicted_class': 'others',\n",
       "  'predicted_score': 0.5499007105827332},\n",
       " {'correct_class': 'cloudy',\n",
       "  'predicted_class': 'others',\n",
       "  'predicted_score': 0.8496392965316772},\n",
       " {'correct_class': 'cloudy',\n",
       "  'predicted_class': 'cloudy',\n",
       "  'predicted_score': 0.8104720115661621},\n",
       " {'correct_class': 'cloudy',\n",
       "  'predicted_class': 'others',\n",
       "  'predicted_score': 0.7169268727302551},\n",
       " {'correct_class': 'cloudy',\n",
       "  'predicted_class': 'others',\n",
       "  'predicted_score': 0.905889630317688},\n",
       " {'correct_class': 'cloudy',\n",
       "  'predicted_class': 'others',\n",
       "  'predicted_score': 0.7952505946159363},\n",
       " {'correct_class': 'cloudy',\n",
       "  'predicted_class': 'cloudy',\n",
       "  'predicted_score': 0.5608822703361511},\n",
       " {'correct_class': 'cloudy',\n",
       "  'predicted_class': 'cloudy',\n",
       "  'predicted_score': 0.6724465489387512},\n",
       " {'correct_class': 'cloudy',\n",
       "  'predicted_class': 'others',\n",
       "  'predicted_score': 0.9287362694740295},\n",
       " {'correct_class': 'cloudy',\n",
       "  'predicted_class': 'cloudy',\n",
       "  'predicted_score': 0.6242111921310425},\n",
       " {'correct_class': 'cloudy',\n",
       "  'predicted_class': 'others',\n",
       "  'predicted_score': 0.7450569272041321},\n",
       " {'correct_class': 'cloudy',\n",
       "  'predicted_class': 'cloudy',\n",
       "  'predicted_score': 0.519266664981842},\n",
       " {'correct_class': 'cloudy',\n",
       "  'predicted_class': 'cloudy',\n",
       "  'predicted_score': 0.7058847546577454},\n",
       " {'correct_class': 'others',\n",
       "  'predicted_class': 'cloudy',\n",
       "  'predicted_score': 0.544802725315094},\n",
       " {'correct_class': 'others',\n",
       "  'predicted_class': 'others',\n",
       "  'predicted_score': 0.8928190469741821},\n",
       " {'correct_class': 'others',\n",
       "  'predicted_class': 'others',\n",
       "  'predicted_score': 0.9801297187805176},\n",
       " {'correct_class': 'others',\n",
       "  'predicted_class': 'others',\n",
       "  'predicted_score': 0.9539613723754883},\n",
       " {'correct_class': 'others',\n",
       "  'predicted_class': 'others',\n",
       "  'predicted_score': 0.6632523536682129},\n",
       " {'correct_class': 'others',\n",
       "  'predicted_class': 'cloudy',\n",
       "  'predicted_score': 0.6089134812355042},\n",
       " {'correct_class': 'others',\n",
       "  'predicted_class': 'others',\n",
       "  'predicted_score': 0.5520527362823486},\n",
       " {'correct_class': 'others',\n",
       "  'predicted_class': 'cloudy',\n",
       "  'predicted_score': 0.5278754234313965},\n",
       " {'correct_class': 'others',\n",
       "  'predicted_class': 'others',\n",
       "  'predicted_score': 0.604090690612793},\n",
       " {'correct_class': 'others',\n",
       "  'predicted_class': 'cloudy',\n",
       "  'predicted_score': 0.7262939810752869},\n",
       " {'correct_class': 'others',\n",
       "  'predicted_class': 'others',\n",
       "  'predicted_score': 0.9332531094551086},\n",
       " {'correct_class': 'others',\n",
       "  'predicted_class': 'others',\n",
       "  'predicted_score': 0.8201627135276794},\n",
       " {'correct_class': 'others',\n",
       "  'predicted_class': 'cloudy',\n",
       "  'predicted_score': 0.7339445352554321},\n",
       " {'correct_class': 'others',\n",
       "  'predicted_class': 'others',\n",
       "  'predicted_score': 0.8043472766876221},\n",
       " {'correct_class': 'others',\n",
       "  'predicted_class': 'others',\n",
       "  'predicted_score': 0.8488765358924866},\n",
       " {'correct_class': 'others',\n",
       "  'predicted_class': 'others',\n",
       "  'predicted_score': 0.8502117991447449},\n",
       " {'correct_class': 'others',\n",
       "  'predicted_class': 'others',\n",
       "  'predicted_score': 0.822920560836792},\n",
       " {'correct_class': 'others',\n",
       "  'predicted_class': 'cloudy',\n",
       "  'predicted_score': 0.5787167549133301},\n",
       " {'correct_class': 'others',\n",
       "  'predicted_class': 'others',\n",
       "  'predicted_score': 0.5985904932022095},\n",
       " {'correct_class': 'others',\n",
       "  'predicted_class': 'others',\n",
       "  'predicted_score': 0.5039818286895752},\n",
       " {'correct_class': 'others',\n",
       "  'predicted_class': 'others',\n",
       "  'predicted_score': 0.8844994902610779},\n",
       " {'correct_class': 'others',\n",
       "  'predicted_class': 'others',\n",
       "  'predicted_score': 0.7210455536842346},\n",
       " {'correct_class': 'others',\n",
       "  'predicted_class': 'cloudy',\n",
       "  'predicted_score': 0.5450289249420166},\n",
       " {'correct_class': 'others',\n",
       "  'predicted_class': 'others',\n",
       "  'predicted_score': 0.9125613570213318},\n",
       " {'correct_class': 'others',\n",
       "  'predicted_class': 'others',\n",
       "  'predicted_score': 0.9197450280189514},\n",
       " {'correct_class': 'others',\n",
       "  'predicted_class': 'cloudy',\n",
       "  'predicted_score': 0.9050202965736389},\n",
       " {'correct_class': 'others',\n",
       "  'predicted_class': 'cloudy',\n",
       "  'predicted_score': 0.6132116317749023},\n",
       " {'correct_class': 'others',\n",
       "  'predicted_class': 'others',\n",
       "  'predicted_score': 0.8205195665359497},\n",
       " {'correct_class': 'others',\n",
       "  'predicted_class': 'others',\n",
       "  'predicted_score': 0.8452984094619751},\n",
       " {'correct_class': 'others',\n",
       "  'predicted_class': 'others',\n",
       "  'predicted_score': 0.9184489250183105},\n",
       " {'correct_class': 'others',\n",
       "  'predicted_class': 'cloudy',\n",
       "  'predicted_score': 0.7283402681350708},\n",
       " {'correct_class': 'others',\n",
       "  'predicted_class': 'others',\n",
       "  'predicted_score': 0.684299647808075},\n",
       " {'correct_class': 'others',\n",
       "  'predicted_class': 'others',\n",
       "  'predicted_score': 0.8748376369476318},\n",
       " {'correct_class': 'others',\n",
       "  'predicted_class': 'others',\n",
       "  'predicted_score': 0.5333956480026245},\n",
       " {'correct_class': 'others',\n",
       "  'predicted_class': 'others',\n",
       "  'predicted_score': 0.6170822978019714},\n",
       " {'correct_class': 'others',\n",
       "  'predicted_class': 'others',\n",
       "  'predicted_score': 0.8803354501724243},\n",
       " {'correct_class': 'others',\n",
       "  'predicted_class': 'others',\n",
       "  'predicted_score': 0.8595573902130127},\n",
       " {'correct_class': 'others',\n",
       "  'predicted_class': 'others',\n",
       "  'predicted_score': 0.5898248553276062},\n",
       " {'correct_class': 'others',\n",
       "  'predicted_class': 'others',\n",
       "  'predicted_score': 0.7564681172370911},\n",
       " {'correct_class': 'others',\n",
       "  'predicted_class': 'cloudy',\n",
       "  'predicted_score': 0.7530854940414429},\n",
       " {'correct_class': 'others',\n",
       "  'predicted_class': 'cloudy',\n",
       "  'predicted_score': 0.5647233724594116},\n",
       " {'correct_class': 'others',\n",
       "  'predicted_class': 'others',\n",
       "  'predicted_score': 0.83017897605896},\n",
       " {'correct_class': 'others',\n",
       "  'predicted_class': 'others',\n",
       "  'predicted_score': 0.548079252243042},\n",
       " {'correct_class': 'others',\n",
       "  'predicted_class': 'cloudy',\n",
       "  'predicted_score': 0.508542001247406},\n",
       " {'correct_class': 'others',\n",
       "  'predicted_class': 'others',\n",
       "  'predicted_score': 0.5938358902931213},\n",
       " {'correct_class': 'others',\n",
       "  'predicted_class': 'others',\n",
       "  'predicted_score': 0.610089898109436},\n",
       " {'correct_class': 'others',\n",
       "  'predicted_class': 'others',\n",
       "  'predicted_score': 0.5417274236679077},\n",
       " {'correct_class': 'others',\n",
       "  'predicted_class': 'others',\n",
       "  'predicted_score': 0.8952327370643616},\n",
       " {'correct_class': 'others',\n",
       "  'predicted_class': 'others',\n",
       "  'predicted_score': 0.8338974714279175},\n",
       " {'correct_class': 'others',\n",
       "  'predicted_class': 'cloudy',\n",
       "  'predicted_score': 0.5298917889595032},\n",
       " {'correct_class': 'others',\n",
       "  'predicted_class': 'cloudy',\n",
       "  'predicted_score': 0.5643818378448486},\n",
       " {'correct_class': 'others',\n",
       "  'predicted_class': 'others',\n",
       "  'predicted_score': 0.727775514125824},\n",
       " {'correct_class': 'others',\n",
       "  'predicted_class': 'others',\n",
       "  'predicted_score': 0.7793039679527283},\n",
       " {'correct_class': 'others',\n",
       "  'predicted_class': 'others',\n",
       "  'predicted_score': 0.9178928136825562},\n",
       " {'correct_class': 'others',\n",
       "  'predicted_class': 'others',\n",
       "  'predicted_score': 0.6165515780448914},\n",
       " {'correct_class': 'others',\n",
       "  'predicted_class': 'others',\n",
       "  'predicted_score': 0.8233845233917236},\n",
       " {'correct_class': 'others',\n",
       "  'predicted_class': 'others',\n",
       "  'predicted_score': 0.716069221496582},\n",
       " {'correct_class': 'others',\n",
       "  'predicted_class': 'others',\n",
       "  'predicted_score': 0.621634840965271},\n",
       " {'correct_class': 'others',\n",
       "  'predicted_class': 'cloudy',\n",
       "  'predicted_score': 0.5551071763038635},\n",
       " {'correct_class': 'others',\n",
       "  'predicted_class': 'others',\n",
       "  'predicted_score': 0.9355412125587463},\n",
       " {'correct_class': 'others',\n",
       "  'predicted_class': 'cloudy',\n",
       "  'predicted_score': 0.7763615250587463},\n",
       " {'correct_class': 'others',\n",
       "  'predicted_class': 'others',\n",
       "  'predicted_score': 0.764639139175415},\n",
       " {'correct_class': 'others',\n",
       "  'predicted_class': 'cloudy',\n",
       "  'predicted_score': 0.5446202754974365},\n",
       " {'correct_class': 'others',\n",
       "  'predicted_class': 'others',\n",
       "  'predicted_score': 0.6939912438392639},\n",
       " {'correct_class': 'others',\n",
       "  'predicted_class': 'others',\n",
       "  'predicted_score': 0.9175172448158264},\n",
       " {'correct_class': 'others',\n",
       "  'predicted_class': 'cloudy',\n",
       "  'predicted_score': 0.6716659665107727},\n",
       " {'correct_class': 'others',\n",
       "  'predicted_class': 'others',\n",
       "  'predicted_score': 0.7128200531005859},\n",
       " {'correct_class': 'others',\n",
       "  'predicted_class': 'cloudy',\n",
       "  'predicted_score': 0.8558827638626099},\n",
       " {'correct_class': 'others',\n",
       "  'predicted_class': 'others',\n",
       "  'predicted_score': 0.9819862842559814},\n",
       " {'correct_class': 'others',\n",
       "  'predicted_class': 'cloudy',\n",
       "  'predicted_score': 0.5568333864212036},\n",
       " {'correct_class': 'others',\n",
       "  'predicted_class': 'others',\n",
       "  'predicted_score': 0.7079704999923706},\n",
       " {'correct_class': 'others',\n",
       "  'predicted_class': 'cloudy',\n",
       "  'predicted_score': 0.5721830725669861},\n",
       " {'correct_class': 'others',\n",
       "  'predicted_class': 'others',\n",
       "  'predicted_score': 0.6586527228355408},\n",
       " {'correct_class': 'others',\n",
       "  'predicted_class': 'others',\n",
       "  'predicted_score': 0.931769073009491},\n",
       " {'correct_class': 'others',\n",
       "  'predicted_class': 'cloudy',\n",
       "  'predicted_score': 0.709321916103363}]"
      ]
     },
     "execution_count": 13,
     "metadata": {},
     "output_type": "execute_result"
    }
   ],
   "source": [
    "%%time\n",
    "\n",
    "predictions = []\n",
    "for inputs, labels in dataloader:\n",
    "    inputs = inputs.to(device)\n",
    "    labels = labels.to(device)\n",
    "\n",
    "    outputs = model(inputs)\n",
    "    \n",
    "    _, preds = torch.max(outputs, 1)\n",
    "    scores = torch.max(softmax(outputs), 1).values\n",
    "\n",
    "    for j in range(inputs.size()[0]):\n",
    "        predictions.append({\n",
    "            \"correct_class\": classes[labels[j]],\n",
    "            \"predicted_class\": classes[preds[j]],\n",
    "            \"predicted_score\": float(scores[j])\n",
    "        })\n",
    "\n",
    "predictions"
   ]
  }
 ],
 "metadata": {
  "kernelspec": {
   "display_name": "Python 3 (ipykernel)",
   "language": "python",
   "name": "python3"
  },
  "language_info": {
   "codemirror_mode": {
    "name": "ipython",
    "version": 3
   },
   "file_extension": ".py",
   "mimetype": "text/x-python",
   "name": "python",
   "nbconvert_exporter": "python",
   "pygments_lexer": "ipython3",
   "version": "3.12.8"
  }
 },
 "nbformat": 4,
 "nbformat_minor": 5
}
