{
  "cells": [
    {
      "cell_type": "markdown",
      "metadata": {},
      "source": [
        "# 家計調査データ視覚化"
      ]
    },
    {
      "cell_type": "markdown",
      "metadata": {
        "id": "jMGhE-Jl1wsI"
      },
      "source": [
        "## 出典\n",
        "\n",
        "総務省統計局ホームページ\n",
        "\n",
        "家計調査（家計収支編）　時系列データ（二人以上の世帯）\n",
        "\n",
        "https://www.stat.go.jp/data/kakei/longtime/index.html#time\n",
        "\n",
        "- 月 全品目（2020年改定）\n",
        "\n",
        "（2024年6月3日に利用）"
      ]
    },
    {
      "cell_type": "markdown",
      "metadata": {
        "id": "4qOPBUKZ17Wj"
      },
      "source": [
        "## 準備\n",
        "\n",
        "必要な Python モジュール（プログラム部品）のインストール、読込"
      ]
    },
    {
      "cell_type": "code",
      "execution_count": null,
      "metadata": {
        "id": "_2Cg6DWRx_J2"
      },
      "outputs": [],
      "source": [
        "# グラフで日本語を表示するためのモジュールをインストールする\n",
        "!pip install japanize-matplotlib"
      ]
    },
    {
      "cell_type": "code",
      "execution_count": null,
      "metadata": {
        "id": "ZybZZlqt5i17"
      },
      "outputs": [],
      "source": [
        "# 必要なモジュールを読み込む\n",
        "import io\n",
        "\n",
        "import japanize_matplotlib\n",
        "import matplotlib.dates as mdates\n",
        "import pandas as pd\n",
        "import requests\n",
        "import seaborn as sns\n",
        "\n",
        "from matplotlib import pyplot as plt"
      ]
    },
    {
      "cell_type": "markdown",
      "metadata": {
        "id": "m7Cu3xuP2FNu"
      },
      "source": [
        "## データダウンロード"
      ]
    },
    {
      "cell_type": "markdown",
      "metadata": {
        "id": "YfLT8MHq2wwB"
      },
      "source": [
        "URL を指定してダウンロードする\n",
        "\n",
        "直接ブラウザからURLにアクセスするとCSVファイルをダウンロード・表示できる"
      ]
    },
    {
      "cell_type": "code",
      "execution_count": null,
      "metadata": {
        "id": "ioV2FLYw6LZn"
      },
      "outputs": [],
      "source": [
        "DATA_URL = 'https://www.stat.go.jp/data/kakei/longtime/csv/h-mon-2020.csv'\n",
        "response = requests.get(DATA_URL)"
      ]
    },
    {
      "cell_type": "markdown",
      "metadata": {
        "id": "vyqf-U6z2IwN"
      },
      "source": [
        "ダウンロードしたデータはバイナリ（2進数）形式になっているため、そのまま表示しても意味が分からない"
      ]
    },
    {
      "cell_type": "code",
      "execution_count": null,
      "metadata": {
        "id": "Qgw85UgCfICG"
      },
      "outputs": [],
      "source": [
        "response.content"
      ]
    },
    {
      "cell_type": "markdown",
      "metadata": {
        "id": "0a0tAco12YFh"
      },
      "source": [
        "「ShiftJIS」の文字コードで変換すると、文字として読むことができるようになる"
      ]
    },
    {
      "cell_type": "code",
      "execution_count": null,
      "metadata": {
        "id": "MS4ryCu-6bR1"
      },
      "outputs": [],
      "source": [
        "raw_data = response.content.decode('sjis')\n",
        "raw_data"
      ]
    },
    {
      "cell_type": "markdown",
      "metadata": {
        "id": "XRCCmhPL3LY1"
      },
      "source": [
        "`pd.read_csv` でデータを構造化して読み込むことができる\n",
        "\n",
        "ただし、そのままだと先頭の3行が邪魔で、正しく構造化されません"
      ]
    },
    {
      "cell_type": "code",
      "execution_count": null,
      "metadata": {
        "id": "XulNOGsL6_Dt"
      },
      "outputs": [],
      "source": [
        "# データフレームという形式で読み込む\n",
        "df = pd.read_csv(io.StringIO(raw_data))\n",
        "df"
      ]
    },
    {
      "cell_type": "markdown",
      "metadata": {
        "id": "5KGqUW5T95Nc"
      },
      "source": [
        "## データ加工\n",
        "\n",
        "先頭3行を消します"
      ]
    },
    {
      "cell_type": "code",
      "execution_count": null,
      "metadata": {
        "id": "fBJomYwB7xu8"
      },
      "outputs": [],
      "source": [
        "# '\\r\\n' は改行を意味するコード\n",
        "# 改行で区切る（split）ことで、文字列を行毎に分割する\n",
        "rows = raw_data.split('\\r\\n')\n",
        "rows"
      ]
    },
    {
      "cell_type": "code",
      "execution_count": null,
      "metadata": {
        "id": "LWaimVWAfhsW"
      },
      "outputs": [],
      "source": [
        "# [3:]で範囲を指定している\n",
        "# Python では 0, 1, 2, 3 ... と順序を指定するため、 [3:] は4行目以降という意味になる\n",
        "essential_rows = rows[3:]\n",
        "essential_rows"
      ]
    },
    {
      "cell_type": "markdown",
      "metadata": {
        "id": "_i9GZcM0-EvX"
      },
      "source": [
        "先頭行が「列名」として使えるものになりました\n",
        "ただし、「1月」「2月」「3月」などの列名に年が含まれていないため、加工します"
      ]
    },
    {
      "cell_type": "code",
      "execution_count": null,
      "metadata": {
        "id": "vClI2tmfgPgl"
      },
      "outputs": [],
      "source": [
        "# [0]で先頭行だけを取得する\n",
        "header = essential_rows[0]\n",
        "header"
      ]
    },
    {
      "cell_type": "code",
      "execution_count": null,
      "metadata": {
        "id": "sF5VIMjkgYzM"
      },
      "outputs": [],
      "source": [
        "# 先頭行を`,`(カンマ)で区切り、各列名を処理する\n",
        "new_cols = []\n",
        "key_cols = []\n",
        "month_cols = []\n",
        "for (index, col) in enumerate(header.split(',')):\n",
        "  if index <= 7:\n",
        "    new_cols.append(col)\n",
        "    key_cols.append(col)\n",
        "  else:\n",
        "    month = (index - 8) % 12 + 1\n",
        "    year = (index - 8) // 12 + 2020\n",
        "    col = f\"month{year}{('0' + str(month))[-2:]}01\"\n",
        "    new_cols.append(col)\n",
        "    month_cols.append(col)\n",
        "\n",
        "new_header = ','.join(new_cols)\n",
        "new_header"
      ]
    },
    {
      "cell_type": "code",
      "execution_count": null,
      "metadata": {
        "id": "hjn6HTWBhu0z"
      },
      "outputs": [],
      "source": [
        "# 先頭行を変換後の文字列に入れ替える\n",
        "essential_rows[0] = new_header\n",
        "essential_rows"
      ]
    },
    {
      "cell_type": "markdown",
      "metadata": {
        "id": "TgkYPwi2-RpZ"
      },
      "source": [
        "加工したデータを構造化することで、表として見ることができるようになりました\n",
        "\n",
        "例えば2020年1月、1世帯当たり784円食パンに消費していることが分かります"
      ]
    },
    {
      "cell_type": "code",
      "execution_count": null,
      "metadata": {
        "id": "DYPFiWslh4uG"
      },
      "outputs": [],
      "source": [
        "# 全ての行を改めて結合し、データフレームに読み込む\n",
        "df = pd.read_csv(io.StringIO('\\r\\n'.join(essential_rows)))\n",
        "df"
      ]
    },
    {
      "cell_type": "markdown",
      "metadata": {
        "id": "DuXISdwW-Y9O"
      },
      "source": [
        "時間による推移を見たいため、年月を「列」ではなく「行」にします\n",
        "\n",
        "このように「列」と「行」を入れ替える = 軸を回転することをピボットといいます\n",
        "\n",
        "ピボットにより、品目分類と年月を指定して検索するようなことがしやすくなりました"
      ]
    },
    {
      "cell_type": "code",
      "execution_count": null,
      "metadata": {
        "id": "C-ptpUpuqyel"
      },
      "outputs": [],
      "source": [
        "# `wide_to_long` で横長（wide）になっているデータを縦長(long)にする\n",
        "pivot_df = pd.wide_to_long(df,stubnames=['month'],i='品目分類',j='yyyymmdd').reset_index()\n",
        "pivot_df['yyyymmdd'] = pd.to_datetime(pivot_df['yyyymmdd'].astype('str'))\n",
        "pivot_df = pivot_df[key_cols + ['yyyymmdd', 'month']].rename(columns={'yyyymmdd': '年月', 'month': '支出額'})\n",
        "pivot_df"
      ]
    },
    {
      "cell_type": "markdown",
      "metadata": {
        "id": "Hcs5ct_XA-Ku"
      },
      "source": [
        "## データ抽出"
      ]
    },
    {
      "cell_type": "markdown",
      "metadata": {
        "id": "OTPOgj0_AwS4"
      },
      "source": [
        "以下のように指定することで、ケーキの支出額推移を見ることができます"
      ]
    },
    {
      "cell_type": "code",
      "execution_count": null,
      "metadata": {
        "id": "jPjszAVAxdK-"
      },
      "outputs": [],
      "source": [
        "pivot_df[pivot_df['品目分類'] == 'ケーキ']"
      ]
    },
    {
      "cell_type": "markdown",
      "metadata": {
        "id": "-7Z2kprmBPFZ"
      },
      "source": [
        "## データ集計"
      ]
    },
    {
      "cell_type": "markdown",
      "metadata": {
        "id": "j7zOxIo2BM4q"
      },
      "source": [
        "以下のようにすることでケーキの支出額について、基本統計量を確認することができます\n",
        "\n",
        "各行の意味は以下の通りです\n",
        "\n",
        "- mean: 平均\n",
        "- min: 最小値\n",
        "- 25%: 第１四分位数\n",
        "- 50%: 中央値\n",
        "- 75%: 第3四分位数\n",
        "- max: 最大値\n",
        "- std: 標準偏差\n",
        "\n",
        "各列について見てみましょう\n",
        "\n",
        "- 「表側連番」は名義尺度なので基本統計量に意味がありません\n",
        "- 「年月」は間隔尺度です。このデータの時間的な範囲を確認できます。\n",
        "- 「支出額」は比例尺度です。おおよそどのように分布しているのか見ることができます。"
      ]
    },
    {
      "cell_type": "code",
      "execution_count": null,
      "metadata": {
        "id": "EHuy0WJxBDYf"
      },
      "outputs": [],
      "source": [
        "pivot_df[pivot_df['品目分類'] == 'ケーキ'].describe()"
      ]
    },
    {
      "cell_type": "markdown",
      "metadata": {
        "id": "skgrjbbuCaXN"
      },
      "source": [
        "## データの視覚化"
      ]
    },
    {
      "cell_type": "markdown",
      "metadata": {
        "id": "_qP7HRJMCk7N"
      },
      "source": [
        "以下のようにして支出額の箱ひげ図が作成できます\n",
        "\n",
        "中央値「564円」の近辺に箱、ひげが描画され、1400近辺に外れ値があることが分かります"
      ]
    },
    {
      "cell_type": "code",
      "execution_count": null,
      "metadata": {
        "id": "BsSl8jMeCOvs"
      },
      "outputs": [],
      "source": [
        "fig, ax = plt.subplots()\n",
        "ax.boxplot(pivot_df[pivot_df['品目分類'] == 'ケーキ']['支出額'])\n",
        "plt.show()"
      ]
    },
    {
      "cell_type": "markdown",
      "metadata": {
        "id": "ob5UKK2VDDH8"
      },
      "source": [
        "以下のようにして時系列のグラフを作成できます\n",
        "\n",
        "ケーキの支出額が毎年12月に突出していることが分かります\n",
        "\n",
        "ここから、クリスマスに圧倒的にケーキが多く買われていることが推測できます"
      ]
    },
    {
      "cell_type": "code",
      "execution_count": null,
      "metadata": {
        "id": "MSZZs8tnycmf"
      },
      "outputs": [],
      "source": [
        "# 時系列グラフを出力するための関数（処理のかたまり）\n",
        "def _plot_series(series, series_name, series_index=0):\n",
        "  palette = list(sns.palettes.mpl_palette('Dark2'))\n",
        "  xs = series['年月']\n",
        "  ys = series['支出額']\n",
        "  plt.plot(xs, ys, label=series_name, color=palette[series_index % len(palette)])"
      ]
    },
    {
      "cell_type": "code",
      "execution_count": null,
      "metadata": {
        "id": "8me7fpVAxuvQ"
      },
      "outputs": [],
      "source": [
        "fig, ax = plt.subplots(figsize=(12, 5.2), layout='constrained')\n",
        "\n",
        "# 毎月ラベルを表示する\n",
        "ax.xaxis.set_major_formatter(mdates.DateFormatter(\"%Y-%m\"))\n",
        "ax.xaxis.set_major_locator(mdates.MonthLocator())\n",
        "\n",
        "# 年月で並び替えて時系列にする\n",
        "df_sorted = pivot_df[pivot_df['品目分類'] == 'ケーキ'].sort_values('年月', ascending=True)\n",
        "\n",
        "# 時系列グラフを出力する\n",
        "_plot_series(df_sorted, '')\n",
        "\n",
        "sns.despine(fig=fig, ax=ax)\n",
        "plt.xlabel('年月')\n",
        "_ = plt.ylabel('支出額')\n",
        "\n",
        "# ラベルを垂直にする\n",
        "fig.autofmt_xdate(rotation=90, ha=\"center\")"
      ]
    }
  ],
  "metadata": {
    "colab": {
      "provenance": []
    },
    "kernelspec": {
      "display_name": "Python 3",
      "name": "python3"
    },
    "language_info": {
      "name": "python"
    }
  },
  "nbformat": 4,
  "nbformat_minor": 0
}
