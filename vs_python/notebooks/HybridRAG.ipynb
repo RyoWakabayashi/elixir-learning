{
 "cells": [
  {
   "cell_type": "code",
   "execution_count": 1,
   "id": "bc843a0c-3e00-4226-bc81-0e0146071757",
   "metadata": {},
   "outputs": [],
   "source": [
    "import os\n",
    "\n",
    "from urllib.request import urlretrieve\n",
    "from getpass import getpass\n",
    "\n",
    "from langchain.document_loaders import TextLoader\n",
    "from langchain.docstore.document import Document\n",
    "from langchain.text_splitter import RecursiveCharacterTextSplitter\n",
    "\n",
    "from langchain_core.output_parsers import StrOutputParser\n",
    "from langchain_core.prompts import ChatPromptTemplate\n",
    "from langchain_core.runnables import RunnableParallel, RunnablePassthrough\n",
    "\n",
    "from langchain_experimental.graph_transformers import LLMGraphTransformer\n",
    "from langchain_neo4j import Neo4jGraph, Neo4jVector\n",
    "from langchain_openai import ChatOpenAI, OpenAIEmbeddings\n",
    "\n",
    "from pydantic import BaseModel, Field\n",
    "\n",
    "from typing import List"
   ]
  },
  {
   "cell_type": "code",
   "execution_count": 2,
   "id": "87e8e17f-1d3f-4f4a-b4fe-ed5715b37b76",
   "metadata": {},
   "outputs": [],
   "source": [
    "def split_text(docs: list) -> list:     \n",
    "    text_splitter = RecursiveCharacterTextSplitter(chunk_size=700, chunk_overlap=100)\n",
    "    return text_splitter.split_documents(docs)"
   ]
  },
  {
   "cell_type": "code",
   "execution_count": 3,
   "id": "76b70daa-7146-419a-8219-a85234d7a3c4",
   "metadata": {},
   "outputs": [
    {
     "name": "stdin",
     "output_type": "stream",
     "text": [
      " ········\n"
     ]
    }
   ],
   "source": [
    "openai_api_key = getpass()"
   ]
  },
  {
   "cell_type": "code",
   "execution_count": 4,
   "id": "1da6d8fb-33ad-46ac-bbb0-ea905ba6d72e",
   "metadata": {},
   "outputs": [
    {
     "name": "stdin",
     "output_type": "stream",
     "text": [
      " ········\n"
     ]
    }
   ],
   "source": [
    "neo4j_uri = getpass()"
   ]
  },
  {
   "cell_type": "code",
   "execution_count": 5,
   "id": "8eb63490-b5fb-49ca-96c0-646475760389",
   "metadata": {},
   "outputs": [
    {
     "name": "stdin",
     "output_type": "stream",
     "text": [
      " ········\n"
     ]
    }
   ],
   "source": [
    "neo4j_username = getpass()"
   ]
  },
  {
   "cell_type": "code",
   "execution_count": 6,
   "id": "009aae7c-e85d-4360-b465-40d71dc9c5a0",
   "metadata": {},
   "outputs": [
    {
     "name": "stdin",
     "output_type": "stream",
     "text": [
      " ········\n"
     ]
    }
   ],
   "source": [
    "neo4j_password = getpass()"
   ]
  },
  {
   "cell_type": "code",
   "execution_count": 7,
   "id": "fbe40774-2836-4f59-9517-728dbf30933b",
   "metadata": {},
   "outputs": [],
   "source": [
    "model_id = 'gpt-4o'\n",
    "\n",
    "llm = ChatOpenAI(model=model_id, api_key=openai_api_key)\n",
    "llm_transformer = LLMGraphTransformer(llm=llm)"
   ]
  },
  {
   "cell_type": "code",
   "execution_count": 8,
   "id": "0ac52599-f957-47a6-a00d-4062d7c03771",
   "metadata": {},
   "outputs": [],
   "source": [
    "register_graph = Neo4jGraph(url=neo4j_uri, username=neo4j_username, password=neo4j_password)"
   ]
  },
  {
   "cell_type": "code",
   "execution_count": 9,
   "id": "d5240052-c068-49b2-bb6a-8bc610525c6a",
   "metadata": {},
   "outputs": [],
   "source": [
    "document_urls = [\n",
    "    'https://raw.githubusercontent.com/RyoWakabayashi/elixir-learning/main/livebooks/bumblebee/colab/momotaro.txt',\n",
    "    'https://raw.githubusercontent.com/RyoWakabayashi/elixir-learning/main/livebooks/bumblebee/colab/urashimataro.txt',\n",
    "    'https://raw.githubusercontent.com/RyoWakabayashi/elixir-learning/main/livebooks/bumblebee/colab/kintaro.txt'\n",
    "]\n",
    "\n",
    "for url in document_urls:\n",
    "    filename = os.path.basename(url)\n",
    "    urlretrieve(url, filename)\n",
    "\n",
    "    loader = TextLoader(filename)\n",
    "    document = loader.load()\n",
    "    tgt_chunks = split_text(document)\n",
    "\n",
    "    graph_documents = llm_transformer.convert_to_graph_documents(tgt_chunks)\n",
    "    register_graph.add_graph_documents(\n",
    "        graph_documents,\n",
    "        baseEntityLabel=True,\n",
    "        include_source=True\n",
    "    )"
   ]
  },
  {
   "cell_type": "code",
   "execution_count": 10,
   "id": "76fa301c-4988-444e-9d9c-79341c8eab37",
   "metadata": {},
   "outputs": [],
   "source": [
    "vector_index = Neo4jVector.from_existing_graph(\n",
    "    OpenAIEmbeddings(model='text-embedding-3-small', api_key=openai_api_key),\n",
    "    url=neo4j_uri,\n",
    "    username=neo4j_username,\n",
    "    password=neo4j_password,\n",
    "    search_type=\"hybrid\",\n",
    "    node_label=\"Document\",\n",
    "    text_node_properties=[\"text\"],\n",
    "    embedding_node_property=\"embedding\"\n",
    ")"
   ]
  },
  {
   "cell_type": "code",
   "execution_count": 11,
   "id": "f2dc9218-8002-4475-82d9-b85f5f08cd81",
   "metadata": {},
   "outputs": [
    {
     "data": {
      "text/plain": [
       "[]"
      ]
     },
     "execution_count": 11,
     "metadata": {},
     "output_type": "execute_result"
    }
   ],
   "source": [
    "register_graph.query(\n",
    "    \"CREATE FULLTEXT INDEX entity IF NOT EXISTS FOR (e:__Entity__) ON EACH [e.id] OPTIONS {indexConfig: {`fulltext.analyzer`: 'cjk'}}\"\n",
    ")"
   ]
  },
  {
   "cell_type": "code",
   "execution_count": 12,
   "id": "2e540bd2-369a-4e3f-80e4-d874fc5da4ce",
   "metadata": {},
   "outputs": [],
   "source": [
    "qa_graph = Neo4jGraph(url=neo4j_uri, username=neo4j_username, password=neo4j_password)\n",
    "\n",
    "qa_vector_index = Neo4jVector.from_existing_graph(\n",
    "    OpenAIEmbeddings(model='text-embedding-3-small', api_key=openai_api_key),\n",
    "    url=neo4j_uri,\n",
    "    username=neo4j_username,\n",
    "    password=neo4j_password,\n",
    "    search_type=\"hybrid\",\n",
    "    node_label=\"Document\",\n",
    "    text_node_properties=[\"text\"],\n",
    "    embedding_node_property=\"embedding\",\n",
    "    index_name=\"vector\"\n",
    ")"
   ]
  },
  {
   "cell_type": "code",
   "execution_count": 13,
   "id": "650d7f3b-3658-402d-a1f4-6a4c53b15c1f",
   "metadata": {},
   "outputs": [],
   "source": [
    "question = '桃太郎の仲間を教えてください'"
   ]
  },
  {
   "cell_type": "code",
   "execution_count": 14,
   "id": "a4790303-cc41-4c9e-b364-aff3d11a3c8d",
   "metadata": {},
   "outputs": [
    {
     "data": {
      "text/plain": [
       "['\\ntext: 「うん。」\\n\\u3000と言いながら、赤さんは抱いているおばあさんの手をはねのけました。\\n「おやおや、何という元気のいい子だろう。」\\n\\u3000おじいさんとおばあさんは、こう言って顔を見合わせながら、「あッは、あッは。」とおもしろそうに笑いました。\\n\\u3000そして桃の中から生まれた子だというので、この子に桃太郎という名をつけました。',\n",
       " '\\ntext: 桃太郎もすぐきじの立ったあとから向こうを見ますと、なるほど、遠い遠い海のはてに、ぼんやり雲のような薄ぐろいものが見えました。船の進むにしたがって、雲のように見えていたものが、だんだんはっきりと島の形になって、あらわれてきました。\\n「ああ、見える、見える、鬼が島が見える。」\\n\\u3000桃太郎がこういうと、犬も、猿も、声をそろえて、「万歳、万歳。」とさけびました。\\n\\u3000見る見る鬼が島が近くなって、もう硬い岩で畳んだ鬼のお城が見えました。いかめしいくろがねの門の前に見はりをしている鬼の兵隊のすがたも見えました。\\nそのお城のいちばん高い屋根の上に、きじがとまって、こちらを見ていました。\\nこうして何年も、何年もこいで行かなければならないという鬼が島へ、ほんの目をつぶっている間に来たのです。',\n",
       " '\\ntext: 桃太郎は、犬と猿をしたがえて、船からひらりと陸の上にとび上がりました。\\n\\u3000見はりをしていた鬼の兵隊は、その見なれないすがたを見ると、びっくりして、あわてて門の中に逃げ込んで、くろがねの門を固くしめてしまいました。その時犬は門の前に立って、\\n「日本の桃太郎さんが、お前たちをせいばいにおいでになったのだぞ。あけろ、あけろ。」\\n\\u3000とどなりながら、ドン、ドン、扉をたたきました。鬼はその声を聞くと、ふるえ上がって、よけい一生懸命に、中から押さえていました。\\n\\u3000するときじが屋根の上からとび下りてきて、門を押さえている鬼どもの目をつつきまわりましたから、鬼はへいこうして逃げ出しました。その間に、猿がするすると高い岩壁をよじ登っていって、ぞうさなく門を中からあけました。\\n「わあッ。」とときの声を上げて、桃太郎の主従が、いさましくお城の中に攻め込んでいきますと、鬼の大将も大ぜいの家来を引き連れて、一人一人、太い鉄の棒をふりまわしながら、「おう、おう。」とさけんで、向かってきました。\\n\\u3000けれども、体が大きいばっかりで、いくじのない鬼どもは、さんざんきじに目をつつかれた上に、こんどは犬に向こうずねをくいつかれたといっては、痛い、痛いと逃げまわり、猿に顔を引っかかれたといっては、おいおい泣き出して、鉄の棒も何もほうり出して、降参してしまいました。\\n\\u3000おしまいまでがまんして、たたかっていた鬼の大将も、とうとう桃太郎に組みふせられてしまいました。桃太郎は大きな鬼の背中に、馬乗りにまたがって、\\n「どうだ、これでも降参しないか。」\\n\\u3000といって、ぎゅうぎゅう、ぎゅうぎゅう、押さえつけました。',\n",
       " '\\ntext: 「どうだ、これでも降参しないか。」\\n\\u3000といって、ぎゅうぎゅう、ぎゅうぎゅう、押さえつけました。\\n\\u3000鬼の大将は、桃太郎の大力で首をしめられて、もう苦しくってたまりませんから、大つぶの涙をぼろぼろこぼしながら、\\n「降参します、降参します。命だけはお助け下さい。その代わりに宝物をのこらずさし上げます。」\\n\\u3000こう言って、ゆるしてもらいました。\\n\\u3000鬼の大将は約束のとおり、お城から、かくれみのに、かくれ笠、うちでの小づちに如意宝珠、そのほかさんごだの、たいまいだの、るりだの、世界でいちばん貴い宝物を山のように車に積んで出しました。\\n\\u3000桃太郎はたくさんの宝物をのこらず積んで、三にんの家来といっしょに、また船に乗りました。帰りは行きよりもまた一そう船の走るのが速くって、間もなく日本の国に着きました。\\n\\u3000船が陸に着きますと、宝物をいっぱい積んだ車を、犬が先に立って引き出しました。きじが綱を引いて、猿があとを押しました。\\n「えんやらさ、えんやらさ。」\\n\\u3000三にんは重そうに、かけ声をかけかけ進んでいきました。\\n\\u3000うちではおじいさんと、おばあさんが、かわるがわる、\\n「もう桃太郎が帰りそうなものだが。」\\n\\u3000と言い言い、首をのばして待っていました。そこへ桃太郎が三にんのりっぱな家来に、ぶんどりの宝物を引かせて、さもとくいらしい様子をして帰って来ましたので、おじいさんもおばあさんも、目も鼻もなくして喜びました。\\n「えらいぞ、えらいぞ、それこそ日本一だ。」\\n\\u3000とおじいさんは言いました。\\n「まあ、まあ、けががなくって、何よりさ。」\\n\\u3000とおばあさんは言いました。']"
      ]
     },
     "execution_count": 14,
     "metadata": {},
     "output_type": "execute_result"
    }
   ],
   "source": [
    "unstructured_data = [el.page_content for el in vector_index.similarity_search(question)]\n",
    "unstructured_data"
   ]
  },
  {
   "cell_type": "code",
   "execution_count": 15,
   "id": "1163a0fb-3ed5-4a87-8b15-a7356e69a477",
   "metadata": {},
   "outputs": [
    {
     "data": {
      "text/plain": [
       "['桃太郎']"
      ]
     },
     "execution_count": 15,
     "metadata": {},
     "output_type": "execute_result"
    }
   ],
   "source": [
    "class Entities(BaseModel):\n",
    "    \"\"\"Identifying information about entities.\"\"\"\n",
    "\n",
    "    names: List[str] = Field(\n",
    "        ...,\n",
    "        description=\"All the entities that appear in the text\",\n",
    "    )\n",
    "\n",
    "prompt = ChatPromptTemplate.from_messages(\n",
    "    [\n",
    "        (\n",
    "            \"system\",\n",
    "            \"You are extracting entities from the text.\",\n",
    "        ),\n",
    "        (\n",
    "            \"human\",\n",
    "            \"Use the given format to extract information from the following \"\n",
    "            \"input: {question}\",\n",
    "        ),\n",
    "    ]\n",
    ")\n",
    "\n",
    "# Entity ExtractionのChain\n",
    "llm_ner=ChatOpenAI(model_name=model_id, api_key=openai_api_key) \n",
    "entity_chain = prompt | llm_ner.with_structured_output(Entities)\n",
    "entities = entity_chain.invoke({\"question\": question}).names\n",
    "\n",
    "entities"
   ]
  },
  {
   "cell_type": "code",
   "execution_count": 16,
   "id": "5138fee9-7fc1-4d33-8815-d334bf2d442e",
   "metadata": {},
   "outputs": [],
   "source": [
    "def generate_full_text_query(input: str) -> str:\n",
    "    \"\"\"\n",
    "    Generate a full-text search query for a given input string.\n",
    "\n",
    "    This function constructs a query string suitable for a full-text search.\n",
    "    It processes the input string by splitting it into words and appending a\n",
    "    similarity threshold (~2 changed characters) to each word, then combines\n",
    "    them using the AND operator. Useful for mapping entities from user questions\n",
    "    to database values, and allows for some misspelings.\n",
    "    \"\"\"\n",
    "    full_text_query = \"\"\n",
    "\n",
    "    words = [el for el in input.split() if el]\n",
    "    \n",
    "    # ANDを末尾につけるのは最後以外\n",
    "    for word in words[:-1]:\n",
    "        full_text_query += f\" {word}~2 AND\"\n",
    "    full_text_query += f\" {words[-1]}~2\"\n",
    "\n",
    "    return full_text_query.strip()"
   ]
  },
  {
   "cell_type": "code",
   "execution_count": 17,
   "id": "527ee38d-6038-4b73-b2fe-53b95ba5f46e",
   "metadata": {},
   "outputs": [],
   "source": [
    "def structured_retriever(question: str) -> str:\n",
    "    \"\"\"\n",
    "    Collects the neighborhood of entities mentioned\n",
    "    in the question\n",
    "    \"\"\"\n",
    "    result = \"\"\n",
    "\n",
    "    # Entity Extraction\n",
    "    entities = entity_chain.invoke({\"question\": question})\n",
    "\n",
    "    for entity in entities.names:\n",
    "        # 方向が逆のものをUNIONしている\n",
    "        response = qa_graph.query(\n",
    "            \"\"\"CALL db.index.fulltext.queryNodes('entity', $query, {limit:2})\n",
    "            YIELD node,score\n",
    "            CALL (node,node) {\n",
    "              WITH node\n",
    "              MATCH (node)-[r:!MENTIONS]->(neighbor)\n",
    "              RETURN node.id + ' - ' + type(r) + ' -> ' + neighbor.id AS output\n",
    "              UNION ALL\n",
    "              WITH node\n",
    "              MATCH (node)<-[r:!MENTIONS]-(neighbor)\n",
    "              RETURN neighbor.id + ' - ' + type(r) + ' -> ' +  node.id AS output\n",
    "            }\n",
    "            RETURN output LIMIT 50\n",
    "            \"\"\",\n",
    "            {\"query\": generate_full_text_query(entity)},\n",
    "        )\n",
    "        result += \"\\n\".join([el['output'] for el in response])\n",
    "    return result"
   ]
  },
  {
   "cell_type": "code",
   "execution_count": 18,
   "id": "d20d537e-0199-4860-8dde-33c8651187fe",
   "metadata": {},
   "outputs": [
    {
     "data": {
      "text/plain": [
       "'桃太郎 - DESTINATION -> 鬼が島\\n桃太郎 - 持つ -> きびだんご\\n桃太郎 - RETURN -> おじいさん\\n桃太郎 - RETURN -> おばあさん\\n桃太郎 - DEFEATS -> 鬼の大将\\n桃太郎 - POSSESSION -> きびだんご\\n桃太郎 - COMPANION -> 犬\\n桃太郎 - COMPANION -> 猿\\n桃太郎 - COMPANION -> きじ\\n桃太郎 - SPOKE_TO -> 犬\\n桃太郎 - SPOKE_TO -> 猿\\n桃太郎 - SPOKE_TO -> きじ\\n桃太郎 - 生まれた -> 桃\\n桃太郎 - USES -> 船\\n桃太郎 - STRONGEST_IN -> 日本\\n桃太郎 - INTERESTED_IN -> 鬼が島\\n桃太郎 - SEE -> 鬼が島\\n桃太郎 - 退治 -> 鬼\\n桃太郎 - OWNS -> 日本一のきびだんご\\n桃太郎 - LEADS -> 犬\\n桃太郎 - LEADS -> 猿\\n桃太郎 - CONFLICT -> 鬼の大将\\n桃太郎 - TAKE -> 宝物\\nおじいさん - RAISED -> 桃太郎\\nおばあさん - RAISED -> 桃太郎\\nおじいさん - SAID -> 桃太郎\\nおばあさん - SAID -> 桃太郎\\n犬 - COMPANION -> 桃太郎\\n猿 - COMPANION -> 桃太郎\\nきじ - COMPANION -> 桃太郎\\nおじいさん - 言う -> 桃太郎\\nおばあさん - 言う -> 桃太郎\\n鬼の大将 - SURRENDER -> 桃太郎\\n金太郎 - VISIT -> 都\\n金太郎 - DEFEATED -> 熊\\n金太郎 - DEFEATS -> 猿\\n金太郎 - DEFEATS -> 熊\\n金太郎 - DEFEATS -> うさぎ\\n金太郎 - DEFEATS -> 鹿\\n金太郎 - VISITS -> 森\\n金太郎 - ACCOMPANIED_BY -> 貞光\\n金太郎 - GOES_TO -> 森\\n金太郎 - LIVES_WITH -> 山うば\\n金太郎 - CALLS -> 猿\\n金太郎 - CALLS -> 熊\\n金太郎 - CALLS -> うさぎ\\n金太郎 - CALLS -> 鹿\\n金太郎 - CHILD_OF -> おかあさん\\n金太郎 - INTRODUCED_TO -> 頼光\\n金太郎 - RENAMED_TO -> 坂田金時'"
      ]
     },
     "execution_count": 18,
     "metadata": {},
     "output_type": "execute_result"
    }
   ],
   "source": [
    "structured_retriever(question)"
   ]
  },
  {
   "cell_type": "code",
   "execution_count": 20,
   "id": "2e15390b-5dd3-462c-a330-05e86fcde4f6",
   "metadata": {},
   "outputs": [
    {
     "name": "stdout",
     "output_type": "stream",
     "text": [
      "Structured data:\n",
      "桃太郎 - DESTINATION -> 鬼が島\n",
      "桃太郎 - 持つ -> きびだんご\n",
      "桃太郎 - RETURN -> おじいさん\n",
      "桃太郎 - RETURN -> おばあさん\n",
      "桃太郎 - DEFEATS -> 鬼の大将\n",
      "桃太郎 - POSSESSION -> きびだんご\n",
      "桃太郎 - COMPANION -> 犬\n",
      "桃太郎 - COMPANION -> 猿\n",
      "桃太郎 - COMPANION -> きじ\n",
      "桃太郎 - SPOKE_TO -> 犬\n",
      "桃太郎 - SPOKE_TO -> 猿\n",
      "桃太郎 - SPOKE_TO -> きじ\n",
      "桃太郎 - 生まれた -> 桃\n",
      "桃太郎 - USES -> 船\n",
      "桃太郎 - STRONGEST_IN -> 日本\n",
      "桃太郎 - INTERESTED_IN -> 鬼が島\n",
      "桃太郎 - SEE -> 鬼が島\n",
      "桃太郎 - 退治 -> 鬼\n",
      "桃太郎 - OWNS -> 日本一のきびだんご\n",
      "桃太郎 - LEADS -> 犬\n",
      "桃太郎 - LEADS -> 猿\n",
      "桃太郎 - CONFLICT -> 鬼の大将\n",
      "桃太郎 - TAKE -> 宝物\n",
      "おじいさん - RAISED -> 桃太郎\n",
      "おばあさん - RAISED -> 桃太郎\n",
      "おじいさん - SAID -> 桃太郎\n",
      "おばあさん - SAID -> 桃太郎\n",
      "犬 - COMPANION -> 桃太郎\n",
      "猿 - COMPANION -> 桃太郎\n",
      "きじ - COMPANION -> 桃太郎\n",
      "おじいさん - 言う -> 桃太郎\n",
      "おばあさん - 言う -> 桃太郎\n",
      "鬼の大将 - SURRENDER -> 桃太郎\n",
      "金太郎 - VISIT -> 都\n",
      "金太郎 - DEFEATED -> 熊\n",
      "金太郎 - DEFEATS -> 猿\n",
      "金太郎 - DEFEATS -> 熊\n",
      "金太郎 - DEFEATS -> うさぎ\n",
      "金太郎 - DEFEATS -> 鹿\n",
      "金太郎 - VISITS -> 森\n",
      "金太郎 - ACCOMPANIED_BY -> 貞光\n",
      "金太郎 - GOES_TO -> 森\n",
      "金太郎 - LIVES_WITH -> 山うば\n",
      "金太郎 - CALLS -> 猿\n",
      "金太郎 - CALLS -> 熊\n",
      "金太郎 - CALLS -> うさぎ\n",
      "金太郎 - CALLS -> 鹿\n",
      "金太郎 - CHILD_OF -> おかあさん\n",
      "金太郎 - INTRODUCED_TO -> 頼光\n",
      "金太郎 - RENAMED_TO -> 坂田金時\n",
      "Unstructured data:\n",
      "\n",
      "text: 「うん。」\n",
      "　と言いながら、赤さんは抱いているおばあさんの手をはねのけました。\n",
      "「おやおや、何という元気のいい子だろう。」\n",
      "　おじいさんとおばあさんは、こう言って顔を見合わせながら、「あッは、あッは。」とおもしろそうに笑いました。\n",
      "　そして桃の中から生まれた子だというので、この子に桃太郎という名をつけました。#Document \n",
      "text: 桃太郎もすぐきじの立ったあとから向こうを見ますと、なるほど、遠い遠い海のはてに、ぼんやり雲のような薄ぐろいものが見えました。船の進むにしたがって、雲のように見えていたものが、だんだんはっきりと島の形になって、あらわれてきました。\n",
      "「ああ、見える、見える、鬼が島が見える。」\n",
      "　桃太郎がこういうと、犬も、猿も、声をそろえて、「万歳、万歳。」とさけびました。\n",
      "　見る見る鬼が島が近くなって、もう硬い岩で畳んだ鬼のお城が見えました。いかめしいくろがねの門の前に見はりをしている鬼の兵隊のすがたも見えました。\n",
      "そのお城のいちばん高い屋根の上に、きじがとまって、こちらを見ていました。\n",
      "こうして何年も、何年もこいで行かなければならないという鬼が島へ、ほんの目をつぶっている間に来たのです。#Document \n",
      "text: 桃太郎は、犬と猿をしたがえて、船からひらりと陸の上にとび上がりました。\n",
      "　見はりをしていた鬼の兵隊は、その見なれないすがたを見ると、びっくりして、あわてて門の中に逃げ込んで、くろがねの門を固くしめてしまいました。その時犬は門の前に立って、\n",
      "「日本の桃太郎さんが、お前たちをせいばいにおいでになったのだぞ。あけろ、あけろ。」\n",
      "　とどなりながら、ドン、ドン、扉をたたきました。鬼はその声を聞くと、ふるえ上がって、よけい一生懸命に、中から押さえていました。\n",
      "　するときじが屋根の上からとび下りてきて、門を押さえている鬼どもの目をつつきまわりましたから、鬼はへいこうして逃げ出しました。その間に、猿がするすると高い岩壁をよじ登っていって、ぞうさなく門を中からあけました。\n",
      "「わあッ。」とときの声を上げて、桃太郎の主従が、いさましくお城の中に攻め込んでいきますと、鬼の大将も大ぜいの家来を引き連れて、一人一人、太い鉄の棒をふりまわしながら、「おう、おう。」とさけんで、向かってきました。\n",
      "　けれども、体が大きいばっかりで、いくじのない鬼どもは、さんざんきじに目をつつかれた上に、こんどは犬に向こうずねをくいつかれたといっては、痛い、痛いと逃げまわり、猿に顔を引っかかれたといっては、おいおい泣き出して、鉄の棒も何もほうり出して、降参してしまいました。\n",
      "　おしまいまでがまんして、たたかっていた鬼の大将も、とうとう桃太郎に組みふせられてしまいました。桃太郎は大きな鬼の背中に、馬乗りにまたがって、\n",
      "「どうだ、これでも降参しないか。」\n",
      "　といって、ぎゅうぎゅう、ぎゅうぎゅう、押さえつけました。#Document \n",
      "text: 「どうだ、これでも降参しないか。」\n",
      "　といって、ぎゅうぎゅう、ぎゅうぎゅう、押さえつけました。\n",
      "　鬼の大将は、桃太郎の大力で首をしめられて、もう苦しくってたまりませんから、大つぶの涙をぼろぼろこぼしながら、\n",
      "「降参します、降参します。命だけはお助け下さい。その代わりに宝物をのこらずさし上げます。」\n",
      "　こう言って、ゆるしてもらいました。\n",
      "　鬼の大将は約束のとおり、お城から、かくれみのに、かくれ笠、うちでの小づちに如意宝珠、そのほかさんごだの、たいまいだの、るりだの、世界でいちばん貴い宝物を山のように車に積んで出しました。\n",
      "　桃太郎はたくさんの宝物をのこらず積んで、三にんの家来といっしょに、また船に乗りました。帰りは行きよりもまた一そう船の走るのが速くって、間もなく日本の国に着きました。\n",
      "　船が陸に着きますと、宝物をいっぱい積んだ車を、犬が先に立って引き出しました。きじが綱を引いて、猿があとを押しました。\n",
      "「えんやらさ、えんやらさ。」\n",
      "　三にんは重そうに、かけ声をかけかけ進んでいきました。\n",
      "　うちではおじいさんと、おばあさんが、かわるがわる、\n",
      "「もう桃太郎が帰りそうなものだが。」\n",
      "　と言い言い、首をのばして待っていました。そこへ桃太郎が三にんのりっぱな家来に、ぶんどりの宝物を引かせて、さもとくいらしい様子をして帰って来ましたので、おじいさんもおばあさんも、目も鼻もなくして喜びました。\n",
      "「えらいぞ、えらいぞ、それこそ日本一だ。」\n",
      "　とおじいさんは言いました。\n",
      "「まあ、まあ、けががなくって、何よりさ。」\n",
      "　とおばあさんは言いました。\n",
      "    \n"
     ]
    },
    {
     "data": {
      "text/plain": [
       "'Structured data:\\n桃太郎 - DESTINATION -> 鬼が島\\n桃太郎 - 持つ -> きびだんご\\n桃太郎 - RETURN -> おじいさん\\n桃太郎 - RETURN -> おばあさん\\n桃太郎 - DEFEATS -> 鬼の大将\\n桃太郎 - POSSESSION -> きびだんご\\n桃太郎 - COMPANION -> 犬\\n桃太郎 - COMPANION -> 猿\\n桃太郎 - COMPANION -> きじ\\n桃太郎 - SPOKE_TO -> 犬\\n桃太郎 - SPOKE_TO -> 猿\\n桃太郎 - SPOKE_TO -> きじ\\n桃太郎 - 生まれた -> 桃\\n桃太郎 - USES -> 船\\n桃太郎 - STRONGEST_IN -> 日本\\n桃太郎 - INTERESTED_IN -> 鬼が島\\n桃太郎 - SEE -> 鬼が島\\n桃太郎 - 退治 -> 鬼\\n桃太郎 - OWNS -> 日本一のきびだんご\\n桃太郎 - LEADS -> 犬\\n桃太郎 - LEADS -> 猿\\n桃太郎 - CONFLICT -> 鬼の大将\\n桃太郎 - TAKE -> 宝物\\nおじいさん - RAISED -> 桃太郎\\nおばあさん - RAISED -> 桃太郎\\nおじいさん - SAID -> 桃太郎\\nおばあさん - SAID -> 桃太郎\\n犬 - COMPANION -> 桃太郎\\n猿 - COMPANION -> 桃太郎\\nきじ - COMPANION -> 桃太郎\\nおじいさん - 言う -> 桃太郎\\nおばあさん - 言う -> 桃太郎\\n鬼の大将 - SURRENDER -> 桃太郎\\n金太郎 - VISIT -> 都\\n金太郎 - DEFEATED -> 熊\\n金太郎 - DEFEATS -> 猿\\n金太郎 - DEFEATS -> 熊\\n金太郎 - DEFEATS -> うさぎ\\n金太郎 - DEFEATS -> 鹿\\n金太郎 - VISITS -> 森\\n金太郎 - ACCOMPANIED_BY -> 貞光\\n金太郎 - GOES_TO -> 森\\n金太郎 - LIVES_WITH -> 山うば\\n金太郎 - CALLS -> 猿\\n金太郎 - CALLS -> 熊\\n金太郎 - CALLS -> うさぎ\\n金太郎 - CALLS -> 鹿\\n金太郎 - CHILD_OF -> おかあさん\\n金太郎 - INTRODUCED_TO -> 頼光\\n金太郎 - RENAMED_TO -> 坂田金時\\nUnstructured data:\\n\\ntext: 「うん。」\\n\\u3000と言いながら、赤さんは抱いているおばあさんの手をはねのけました。\\n「おやおや、何という元気のいい子だろう。」\\n\\u3000おじいさんとおばあさんは、こう言って顔を見合わせながら、「あッは、あッは。」とおもしろそうに笑いました。\\n\\u3000そして桃の中から生まれた子だというので、この子に桃太郎という名をつけました。#Document \\ntext: 桃太郎もすぐきじの立ったあとから向こうを見ますと、なるほど、遠い遠い海のはてに、ぼんやり雲のような薄ぐろいものが見えました。船の進むにしたがって、雲のように見えていたものが、だんだんはっきりと島の形になって、あらわれてきました。\\n「ああ、見える、見える、鬼が島が見える。」\\n\\u3000桃太郎がこういうと、犬も、猿も、声をそろえて、「万歳、万歳。」とさけびました。\\n\\u3000見る見る鬼が島が近くなって、もう硬い岩で畳んだ鬼のお城が見えました。いかめしいくろがねの門の前に見はりをしている鬼の兵隊のすがたも見えました。\\nそのお城のいちばん高い屋根の上に、きじがとまって、こちらを見ていました。\\nこうして何年も、何年もこいで行かなければならないという鬼が島へ、ほんの目をつぶっている間に来たのです。#Document \\ntext: 桃太郎は、犬と猿をしたがえて、船からひらりと陸の上にとび上がりました。\\n\\u3000見はりをしていた鬼の兵隊は、その見なれないすがたを見ると、びっくりして、あわてて門の中に逃げ込んで、くろがねの門を固くしめてしまいました。その時犬は門の前に立って、\\n「日本の桃太郎さんが、お前たちをせいばいにおいでになったのだぞ。あけろ、あけろ。」\\n\\u3000とどなりながら、ドン、ドン、扉をたたきました。鬼はその声を聞くと、ふるえ上がって、よけい一生懸命に、中から押さえていました。\\n\\u3000するときじが屋根の上からとび下りてきて、門を押さえている鬼どもの目をつつきまわりましたから、鬼はへいこうして逃げ出しました。その間に、猿がするすると高い岩壁をよじ登っていって、ぞうさなく門を中からあけました。\\n「わあッ。」とときの声を上げて、桃太郎の主従が、いさましくお城の中に攻め込んでいきますと、鬼の大将も大ぜいの家来を引き連れて、一人一人、太い鉄の棒をふりまわしながら、「おう、おう。」とさけんで、向かってきました。\\n\\u3000けれども、体が大きいばっかりで、いくじのない鬼どもは、さんざんきじに目をつつかれた上に、こんどは犬に向こうずねをくいつかれたといっては、痛い、痛いと逃げまわり、猿に顔を引っかかれたといっては、おいおい泣き出して、鉄の棒も何もほうり出して、降参してしまいました。\\n\\u3000おしまいまでがまんして、たたかっていた鬼の大将も、とうとう桃太郎に組みふせられてしまいました。桃太郎は大きな鬼の背中に、馬乗りにまたがって、\\n「どうだ、これでも降参しないか。」\\n\\u3000といって、ぎゅうぎゅう、ぎゅうぎゅう、押さえつけました。#Document \\ntext: 「どうだ、これでも降参しないか。」\\n\\u3000といって、ぎゅうぎゅう、ぎゅうぎゅう、押さえつけました。\\n\\u3000鬼の大将は、桃太郎の大力で首をしめられて、もう苦しくってたまりませんから、大つぶの涙をぼろぼろこぼしながら、\\n「降参します、降参します。命だけはお助け下さい。その代わりに宝物をのこらずさし上げます。」\\n\\u3000こう言って、ゆるしてもらいました。\\n\\u3000鬼の大将は約束のとおり、お城から、かくれみのに、かくれ笠、うちでの小づちに如意宝珠、そのほかさんごだの、たいまいだの、るりだの、世界でいちばん貴い宝物を山のように車に積んで出しました。\\n\\u3000桃太郎はたくさんの宝物をのこらず積んで、三にんの家来といっしょに、また船に乗りました。帰りは行きよりもまた一そう船の走るのが速くって、間もなく日本の国に着きました。\\n\\u3000船が陸に着きますと、宝物をいっぱい積んだ車を、犬が先に立って引き出しました。きじが綱を引いて、猿があとを押しました。\\n「えんやらさ、えんやらさ。」\\n\\u3000三にんは重そうに、かけ声をかけかけ進んでいきました。\\n\\u3000うちではおじいさんと、おばあさんが、かわるがわる、\\n「もう桃太郎が帰りそうなものだが。」\\n\\u3000と言い言い、首をのばして待っていました。そこへ桃太郎が三にんのりっぱな家来に、ぶんどりの宝物を引かせて、さもとくいらしい様子をして帰って来ましたので、おじいさんもおばあさんも、目も鼻もなくして喜びました。\\n「えらいぞ、えらいぞ、それこそ日本一だ。」\\n\\u3000とおじいさんは言いました。\\n「まあ、まあ、けががなくって、何よりさ。」\\n\\u3000とおばあさんは言いました。\\n    '"
      ]
     },
     "execution_count": 20,
     "metadata": {},
     "output_type": "execute_result"
    }
   ],
   "source": [
    "def retriever(question: str):\n",
    "    structured_data = structured_retriever(question)\n",
    "    unstructured_data = [el.page_content for el in vector_index.similarity_search(question)]\n",
    "    final_data = f\"\"\"Structured data:\n",
    "{structured_data}\n",
    "Unstructured data:\n",
    "{\"#Document \". join(unstructured_data)}\n",
    "    \"\"\"\n",
    "    print(final_data)\n",
    "    return final_data\n",
    "\n",
    "retriever(question)"
   ]
  },
  {
   "cell_type": "code",
   "execution_count": 21,
   "id": "40d12c2f-f6c3-4de9-924a-303b25398b93",
   "metadata": {},
   "outputs": [],
   "source": [
    "template = \"\"\"Answer the question based only on the following context:\n",
    "{context}\n",
    "\n",
    "Question: {question}\n",
    "Use natural language and be concise.\n",
    "Answer:\"\"\"\n",
    "prompt = ChatPromptTemplate.from_template(template)\n",
    "\n",
    "chain = (\n",
    "    RunnableParallel(\n",
    "        {\n",
    "            \"context\": retriever,\n",
    "            \"question\": RunnablePassthrough(),\n",
    "        }\n",
    "    )\n",
    "    | prompt\n",
    "    | ChatOpenAI(temperature=0, model_name=model_id, api_key=openai_api_key)\n",
    "    | StrOutputParser()\n",
    ")"
   ]
  },
  {
   "cell_type": "code",
   "execution_count": 22,
   "id": "004bb3a9-e803-437b-9c99-6d1658fcc5ce",
   "metadata": {},
   "outputs": [
    {
     "name": "stdout",
     "output_type": "stream",
     "text": [
      "Structured data:\n",
      "桃太郎 - DESTINATION -> 鬼が島\n",
      "桃太郎 - 持つ -> きびだんご\n",
      "桃太郎 - RETURN -> おじいさん\n",
      "桃太郎 - RETURN -> おばあさん\n",
      "桃太郎 - DEFEATS -> 鬼の大将\n",
      "桃太郎 - POSSESSION -> きびだんご\n",
      "桃太郎 - COMPANION -> 犬\n",
      "桃太郎 - COMPANION -> 猿\n",
      "桃太郎 - COMPANION -> きじ\n",
      "桃太郎 - SPOKE_TO -> 犬\n",
      "桃太郎 - SPOKE_TO -> 猿\n",
      "桃太郎 - SPOKE_TO -> きじ\n",
      "桃太郎 - 生まれた -> 桃\n",
      "桃太郎 - USES -> 船\n",
      "桃太郎 - STRONGEST_IN -> 日本\n",
      "桃太郎 - INTERESTED_IN -> 鬼が島\n",
      "桃太郎 - SEE -> 鬼が島\n",
      "桃太郎 - 退治 -> 鬼\n",
      "桃太郎 - OWNS -> 日本一のきびだんご\n",
      "桃太郎 - LEADS -> 犬\n",
      "桃太郎 - LEADS -> 猿\n",
      "桃太郎 - CONFLICT -> 鬼の大将\n",
      "桃太郎 - TAKE -> 宝物\n",
      "おじいさん - RAISED -> 桃太郎\n",
      "おばあさん - RAISED -> 桃太郎\n",
      "おじいさん - SAID -> 桃太郎\n",
      "おばあさん - SAID -> 桃太郎\n",
      "犬 - COMPANION -> 桃太郎\n",
      "猿 - COMPANION -> 桃太郎\n",
      "きじ - COMPANION -> 桃太郎\n",
      "おじいさん - 言う -> 桃太郎\n",
      "おばあさん - 言う -> 桃太郎\n",
      "鬼の大将 - SURRENDER -> 桃太郎\n",
      "金太郎 - VISIT -> 都\n",
      "金太郎 - DEFEATED -> 熊\n",
      "金太郎 - DEFEATS -> 猿\n",
      "金太郎 - DEFEATS -> 熊\n",
      "金太郎 - DEFEATS -> うさぎ\n",
      "金太郎 - DEFEATS -> 鹿\n",
      "金太郎 - VISITS -> 森\n",
      "金太郎 - ACCOMPANIED_BY -> 貞光\n",
      "金太郎 - GOES_TO -> 森\n",
      "金太郎 - LIVES_WITH -> 山うば\n",
      "金太郎 - CALLS -> 猿\n",
      "金太郎 - CALLS -> 熊\n",
      "金太郎 - CALLS -> うさぎ\n",
      "金太郎 - CALLS -> 鹿\n",
      "金太郎 - CHILD_OF -> おかあさん\n",
      "金太郎 - INTRODUCED_TO -> 頼光\n",
      "金太郎 - RENAMED_TO -> 坂田金時\n",
      "Unstructured data:\n",
      "\n",
      "text: 「うん。」\n",
      "　と言いながら、赤さんは抱いているおばあさんの手をはねのけました。\n",
      "「おやおや、何という元気のいい子だろう。」\n",
      "　おじいさんとおばあさんは、こう言って顔を見合わせながら、「あッは、あッは。」とおもしろそうに笑いました。\n",
      "　そして桃の中から生まれた子だというので、この子に桃太郎という名をつけました。#Document \n",
      "text: 桃太郎もすぐきじの立ったあとから向こうを見ますと、なるほど、遠い遠い海のはてに、ぼんやり雲のような薄ぐろいものが見えました。船の進むにしたがって、雲のように見えていたものが、だんだんはっきりと島の形になって、あらわれてきました。\n",
      "「ああ、見える、見える、鬼が島が見える。」\n",
      "　桃太郎がこういうと、犬も、猿も、声をそろえて、「万歳、万歳。」とさけびました。\n",
      "　見る見る鬼が島が近くなって、もう硬い岩で畳んだ鬼のお城が見えました。いかめしいくろがねの門の前に見はりをしている鬼の兵隊のすがたも見えました。\n",
      "そのお城のいちばん高い屋根の上に、きじがとまって、こちらを見ていました。\n",
      "こうして何年も、何年もこいで行かなければならないという鬼が島へ、ほんの目をつぶっている間に来たのです。#Document \n",
      "text: 桃太郎は、犬と猿をしたがえて、船からひらりと陸の上にとび上がりました。\n",
      "　見はりをしていた鬼の兵隊は、その見なれないすがたを見ると、びっくりして、あわてて門の中に逃げ込んで、くろがねの門を固くしめてしまいました。その時犬は門の前に立って、\n",
      "「日本の桃太郎さんが、お前たちをせいばいにおいでになったのだぞ。あけろ、あけろ。」\n",
      "　とどなりながら、ドン、ドン、扉をたたきました。鬼はその声を聞くと、ふるえ上がって、よけい一生懸命に、中から押さえていました。\n",
      "　するときじが屋根の上からとび下りてきて、門を押さえている鬼どもの目をつつきまわりましたから、鬼はへいこうして逃げ出しました。その間に、猿がするすると高い岩壁をよじ登っていって、ぞうさなく門を中からあけました。\n",
      "「わあッ。」とときの声を上げて、桃太郎の主従が、いさましくお城の中に攻め込んでいきますと、鬼の大将も大ぜいの家来を引き連れて、一人一人、太い鉄の棒をふりまわしながら、「おう、おう。」とさけんで、向かってきました。\n",
      "　けれども、体が大きいばっかりで、いくじのない鬼どもは、さんざんきじに目をつつかれた上に、こんどは犬に向こうずねをくいつかれたといっては、痛い、痛いと逃げまわり、猿に顔を引っかかれたといっては、おいおい泣き出して、鉄の棒も何もほうり出して、降参してしまいました。\n",
      "　おしまいまでがまんして、たたかっていた鬼の大将も、とうとう桃太郎に組みふせられてしまいました。桃太郎は大きな鬼の背中に、馬乗りにまたがって、\n",
      "「どうだ、これでも降参しないか。」\n",
      "　といって、ぎゅうぎゅう、ぎゅうぎゅう、押さえつけました。#Document \n",
      "text: 「どうだ、これでも降参しないか。」\n",
      "　といって、ぎゅうぎゅう、ぎゅうぎゅう、押さえつけました。\n",
      "　鬼の大将は、桃太郎の大力で首をしめられて、もう苦しくってたまりませんから、大つぶの涙をぼろぼろこぼしながら、\n",
      "「降参します、降参します。命だけはお助け下さい。その代わりに宝物をのこらずさし上げます。」\n",
      "　こう言って、ゆるしてもらいました。\n",
      "　鬼の大将は約束のとおり、お城から、かくれみのに、かくれ笠、うちでの小づちに如意宝珠、そのほかさんごだの、たいまいだの、るりだの、世界でいちばん貴い宝物を山のように車に積んで出しました。\n",
      "　桃太郎はたくさんの宝物をのこらず積んで、三にんの家来といっしょに、また船に乗りました。帰りは行きよりもまた一そう船の走るのが速くって、間もなく日本の国に着きました。\n",
      "　船が陸に着きますと、宝物をいっぱい積んだ車を、犬が先に立って引き出しました。きじが綱を引いて、猿があとを押しました。\n",
      "「えんやらさ、えんやらさ。」\n",
      "　三にんは重そうに、かけ声をかけかけ進んでいきました。\n",
      "　うちではおじいさんと、おばあさんが、かわるがわる、\n",
      "「もう桃太郎が帰りそうなものだが。」\n",
      "　と言い言い、首をのばして待っていました。そこへ桃太郎が三にんのりっぱな家来に、ぶんどりの宝物を引かせて、さもとくいらしい様子をして帰って来ましたので、おじいさんもおばあさんも、目も鼻もなくして喜びました。\n",
      "「えらいぞ、えらいぞ、それこそ日本一だ。」\n",
      "　とおじいさんは言いました。\n",
      "「まあ、まあ、けががなくって、何よりさ。」\n",
      "　とおばあさんは言いました。\n",
      "    \n"
     ]
    },
    {
     "data": {
      "text/plain": [
       "'桃太郎の仲間は、犬、猿、きじです。'"
      ]
     },
     "execution_count": 22,
     "metadata": {},
     "output_type": "execute_result"
    }
   ],
   "source": [
    "chain.invoke(question)"
   ]
  },
  {
   "cell_type": "code",
   "execution_count": 23,
   "id": "01613eaf-7064-4245-90f8-0ad6bf067eb4",
   "metadata": {},
   "outputs": [
    {
     "name": "stdout",
     "output_type": "stream",
     "text": [
      "Structured data:\n",
      "浦島太郎 - LIVES_IN -> 丹後の国水の江の浦\n",
      "浦島太郎 - HAS -> 玉手箱\n",
      "浦島太郎 - VISITED -> りゅう宮\n",
      "浦島太郎 - SAVES -> かめの子\n",
      "浦島太郎 - FEEDS -> 浦島太郎の父\n",
      "浦島太郎 - FEEDS -> 浦島太郎の母\n",
      "おばあさん - MENTIONED -> 浦島太郎\n",
      "浦島 - 話しました -> 浦島太郎\n",
      "おばあさん - 知らない -> 浦島太郎\n",
      "桃太郎 - DESTINATION -> 鬼が島\n",
      "桃太郎 - 持つ -> きびだんご\n",
      "桃太郎 - RETURN -> おじいさん\n",
      "桃太郎 - RETURN -> おばあさん\n",
      "桃太郎 - DEFEATS -> 鬼の大将\n",
      "桃太郎 - POSSESSION -> きびだんご\n",
      "桃太郎 - COMPANION -> 犬\n",
      "桃太郎 - COMPANION -> 猿\n",
      "桃太郎 - COMPANION -> きじ\n",
      "桃太郎 - SPOKE_TO -> 犬\n",
      "桃太郎 - SPOKE_TO -> 猿\n",
      "桃太郎 - SPOKE_TO -> きじ\n",
      "桃太郎 - 生まれた -> 桃\n",
      "桃太郎 - USES -> 船\n",
      "桃太郎 - STRONGEST_IN -> 日本\n",
      "桃太郎 - INTERESTED_IN -> 鬼が島\n",
      "桃太郎 - SEE -> 鬼が島\n",
      "桃太郎 - 退治 -> 鬼\n",
      "桃太郎 - OWNS -> 日本一のきびだんご\n",
      "桃太郎 - LEADS -> 犬\n",
      "桃太郎 - LEADS -> 猿\n",
      "桃太郎 - CONFLICT -> 鬼の大将\n",
      "桃太郎 - TAKE -> 宝物\n",
      "おじいさん - RAISED -> 桃太郎\n",
      "おばあさん - RAISED -> 桃太郎\n",
      "おじいさん - SAID -> 桃太郎\n",
      "おばあさん - SAID -> 桃太郎\n",
      "犬 - COMPANION -> 桃太郎\n",
      "猿 - COMPANION -> 桃太郎\n",
      "きじ - COMPANION -> 桃太郎\n",
      "おじいさん - 言う -> 桃太郎\n",
      "おばあさん - 言う -> 桃太郎\n",
      "鬼の大将 - SURRENDER -> 桃太郎\n",
      "Unstructured data:\n",
      "\n",
      "text: 「桃太郎さん、桃太郎さん、どちらへおいでになります。」\n",
      "　とたずねました。\n",
      "「鬼が島へ鬼せいばつに行くのだ。」\n",
      "「お腰に下げたものは、何でございます。」\n",
      "「日本一のきびだんごさ。」\n",
      "「一つ下さい、お供しましょう。」\n",
      "「よし、よし、やるから、ついて来い。」\n",
      "　きじもきびだんごを一つもらって、桃太郎のあとからついて行きました。\n",
      "　犬と、猿と、きじと、これで三にんまで、いい家来ができたので、桃太郎はいよいよ勇み立って、またずんずん進んで行きますと、やがてひろい海ばたに出ました。\n",
      "　そこには、ちょうどいいぐあいに、船が一そうつないでありました。\n",
      "　桃太郎と、三にんの家来は、さっそく、この船に乗り込みました。\n",
      "「わたくしは、漕ぎ手になりましょう。」\n",
      "　こう言って、犬は船をこぎ出しました。\n",
      "「わたくしは、かじ取りになりましょう。」\n",
      "　こう言って、猿がかじに座りました。\n",
      "「わたくしは物見をつとめましょう。」\n",
      "　こう言って、きじがへさきに立ちました。\n",
      "　うららかないいお天気で、まっ青な海の上には、波一つ立ちませんでした。稲妻が走るようだといおうか、矢を射るようだといおうか、目のまわるような速さで船は走って行きました。ほんの一時間も走ったと思うころ、へさきに立って向こうをながめていたきじが、「あれ、あれ、島が。」とさけびながら、ぱたぱたと高い羽音をさせて、空にとび上がったと思うと、スウッとまっすぐに風を切って、飛んでいきました。#Document \n",
      "text: 「へえ、浦島太郎。そんな人はきいたことがありませんよ」\n",
      "といいました。浦島はやっきとなって、\n",
      "「そんなはずはありません。たしかにこのへんに住んでいたのです」\n",
      "といいました。\n",
      "　そういわれて、おばあさんは、\n",
      "「はてね」と、首をかしげながら、つえでせいのびしてしばらくかんがえこんでいましたが、やがてぽんとひざをたたいて、\n",
      "「ああ、そうそう、浦島太郎さんというと、あれはもう三百年も前の人ですよ。なんでも、わたしが子どものじぶんきいた話に、むかし、むかし、この水の江の浜に、浦島太郎という人があって、ある日、舟にのってつりに出たまま、帰ってこなくなりました。たぶんりゅう宮へでも行ったのだろうということです。なにしろ大昔の話だからね」\n",
      "　こういって、また腰をかがめて、よぼよぼあるいて行ってしまいました。\n",
      "　浦島はびっくりしてしまいました。\n",
      "「はて、三百年、おかしなこともあるものだ。たった三年りゅう宮にいたつもりなのに、それが三百年とは。するとりゅう宮の三年は、人間の三百年にあたるのかしらん。それでは家もなくなるはずだし、おとうさんやおかあさんがいらっしゃらないのもふしぎはない」\n",
      "　こうおもうと、浦島はきゅうにかなしくなって、さびしくなって、目の前がくらくなりました。いまさらりゅう宮がこいしくてたまらなくなりました。\n",
      "　しおしおとまた浜べへ出てみましたが、海の水はまんまんとたたえていて、どこがはてともしれません。もうかめも出てきませんから、どうしてりゅう宮へわたろう手だてもありませんでした。\n",
      "　そのとき、浦島はふと、かかえていた玉手箱に気がつきました。#Document \n",
      "text: 浦島は海ばたに立ったまま、しばらくそこらを見まわしました。春の日がぽかぽかあたって、いちめんにかすんだ海の上に、どこからともなく、にぎやかな舟うたがきこえました。それは夢のなかで見たふるさとの浜べの景色とちっともちがったところはありませんでした。けれどよく見ると、そこらの様子がなんとなくかわっていて、あう人もあう人も、いっこうに見知らない顔ばかりで、むこうでもみょうな顔をして、じろじろ見ながら、ことばもかけずにすまして行ってしまいます。\n",
      "「おかしなこともあるものだ。たった三年のあいだに、みんなどこかへ行ってしまうはずはない。まあ、なんでも早くうちへ行ってみよう」\n",
      "　こうひとりごとをいいながら、浦島はじぶんの家の方角へあるき出しました。ところが、そことおもうあたりには草やあしがぼうぼうとしげって、家なぞはかげもかたちもありません。むかし家の立っていたらしいあとさえものこってはいませんでした。いったい、おとうさんやおかあさんはどうなったのでしょうか。浦島は、\n",
      "「ふしぎだ。ふしぎだ」\n",
      "とくり返しながら、きつねにつままれたような、きょとんとした顔をしていました。\n",
      "　するとそこへ、よぼよぼのおばあさんがひとり、つえにすがってやってきました。浦島はさっそく、\n",
      "「もしもし、おばあさん、浦島太郎のうちはどこでしょう」\n",
      "と、声をかけますと、おばあさんはけげんそうに、しょぼしょぼした目で、浦島の顔をながめながら、\n",
      "「へえ、浦島太郎。そんな人はきいたことがありませんよ」\n",
      "といいました。浦島はやっきとなって、\n",
      "「そんなはずはありません。たしかにこのへんに住んでいたのです」\n",
      "といいました。#Document \n",
      "text: と、わいわいいいながら、行ってしまいました。\n",
      "　そのあとで浦島は、こうらからそっと出したかめの首をやさしくなでてやって、\n",
      "「やれやれ、あぶないところだった。さあもうお帰りお帰り」\n",
      "といって、わざわざ、かめを海ばたまで持って行ってはなしてやりました。かめはさもうれしそうに、首や手足をうごかして、やがて、ぶくぶくあわをたてながら、水のなかにふかくしずんで行ってしまいました。\n",
      "　それから二、三日たって、浦島はまた舟にのって海へつりに出かけました。遠い沖のほうまでもこぎ出して、一生けんめいおさかなをつっていますと、ふとうしろのほうで\n",
      "「浦島さん、浦島さん」\n",
      "とよぶ声がしました。おやとおもってふりかえってみますと、だれも人のかげは見えません。その代り、いつのまにか、一ぴきのかめが、舟のそばにきていました。\n",
      "　浦島がふしぎそうな顔をしていると、\n",
      "「わたくしは、先日助けていただいたかめでございます。きょうはちょっとそのお礼にまいりました」\n",
      "　かめがこういったので、浦島はびっくりしました。\n",
      "「まあ、そうかい。わざわざ礼なんぞいいにくるにはおよばないのに」\n",
      "「でも、ほんとうにありがとうございました。ときに、浦島さん、あなたはりゅう宮をごらんになったことがありますか」\n",
      "「いや、話にはきいているが、まだ見たことはないよ」\n",
      "「ではほんのお礼のしるしに、わたくしがりゅう宮を見せて上げたいとおもいますがいかがでしょう」\n",
      "「へえ、それはおもしろいね。ぜひ行ってみたいが、それはなんでも海の底にあるということではないか。どうして行くつもりだね。わたしにはとてもそこまでおよいでは行けないよ」\n",
      "    \n"
     ]
    },
    {
     "data": {
      "text/plain": [
       "'浦島太郎を乗せたのは、助けたかめです。'"
      ]
     },
     "execution_count": 23,
     "metadata": {},
     "output_type": "execute_result"
    }
   ],
   "source": [
    "chain.invoke('浦島太郎を乗せたのは誰？')"
   ]
  },
  {
   "cell_type": "code",
   "execution_count": 25,
   "id": "8632dbc9-4ce6-4e4f-87e9-9c6ed3d8b93f",
   "metadata": {},
   "outputs": [
    {
     "name": "stdout",
     "output_type": "stream",
     "text": [
      "Structured data:\n",
      "金太郎 - VISIT -> 都\n",
      "金太郎 - DEFEATED -> 熊\n",
      "金太郎 - DEFEATS -> 猿\n",
      "金太郎 - DEFEATS -> 熊\n",
      "金太郎 - DEFEATS -> うさぎ\n",
      "金太郎 - DEFEATS -> 鹿\n",
      "金太郎 - VISITS -> 森\n",
      "金太郎 - ACCOMPANIED_BY -> 貞光\n",
      "金太郎 - GOES_TO -> 森\n",
      "金太郎 - LIVES_WITH -> 山うば\n",
      "金太郎 - CALLS -> 猿\n",
      "金太郎 - CALLS -> 熊\n",
      "金太郎 - CALLS -> うさぎ\n",
      "金太郎 - CALLS -> 鹿\n",
      "金太郎 - CHILD_OF -> おかあさん\n",
      "金太郎 - INTRODUCED_TO -> 頼光\n",
      "金太郎 - RENAMED_TO -> 坂田金時\n",
      "金太郎 - ARRIVED_AT -> 谷川\n",
      "金太郎 - 話 -> 山うば\n",
      "金太郎 - BIRTHPLACE -> 相模国足柄山\n",
      "金太郎 - RECEIVES_FOOD_FROM -> おかあさん\n",
      "金太郎 - OFFERS_AS_REWARD -> おむすび\n",
      "金太郎 - PUSHED_DOWN -> 杉の木\n",
      "金太郎 - ENTERED -> 山奥の一軒家\n",
      "金太郎 - 相撲 -> おじさん\n",
      "金太郎 - 倒す -> 杉の木\n",
      "金太郎 - 可能性 -> 勇士\n",
      "金太郎 - 願望 -> お侍\n",
      "金太郎 - 志望 -> 都\n",
      "猿 - SERVANT_OF -> 金太郎\n",
      "熊 - SERVANT_OF -> 金太郎\n",
      "うさぎ - SERVANT_OF -> 金太郎\n",
      "鹿 - SERVANT_OF -> 金太郎\n",
      "碓井貞光 - PROPOSED -> 金太郎\n",
      "きこり - 提案 -> 金太郎\n",
      "きこり - OBSERVED -> 金太郎\n",
      "金太郎の父 - DESCENDANT_OF -> 坂田\n",
      "山うば - SPOUSE -> 金太郎の父\n",
      "Unstructured data:\n",
      "\n",
      "text: むかし、金太郎という強い子供がありました。相模国足柄山の山奥に生まれて、おかあさんの山うばといっしょにくらしていました。\n",
      "　金太郎は生まれた時からそれはそれは力が強くって、もう七つ八つのころには、石臼やもみぬかの俵ぐらい、へいきで持ち上げました。大抵の大人を相手にすもうを取っても負けませんでした。近所にもう相手がなくなると、つまらなくなって金太郎は、一日森の中をかけまわりました。そしておかあさんにもらった大きなまさかりをかついで歩いて、やたらに大きな杉の木や松の木をきり倒しては、きこりのまねをしておもしろがっていました。\n",
      "　ある日森の奥のずっと奥に入って、いつものように大きな木を切っていますと、のっそり大きな熊が出て来ました。熊は目を光らせながら、\n",
      "「だれだ、おれの森をあらすのは。」\n",
      "　と言って、とびかかって来ました。すると金太郎は、\n",
      "「何だ、熊のくせに。金太郎を知らないか。」\n",
      "　と言いながら、まさかりをほうり出して、いきなり熊に組みつきました。そして足がらをかけて、どしんと地びたに投げつけました。熊はへいこうして、両手をついてあやまって、金太郎の家来になりました。森の中で大将ぶんの熊がへいこうして金太郎の家来になったのを見て、そのあとからうさぎだの、猿だの、鹿だのがぞろぞろついて来て、\n",
      "「金太郎さん、どうぞわたくしも御家来にして下さい。」\n",
      "　と言いました。金太郎は、「よし、よし。」とうなずいて、みんな家来にしてやりました。\n",
      "　それからは金太郎は、毎朝おかあさんにたくさんおむすびをこしらえて頂いて、森の中へ出かけて行きました。金太郎が口笛を吹いて、#Document \n",
      "text: と言って、名残惜しそうに帰っていきました。金太郎はおかあさんの前に手をついて、\n",
      "「おかあさん、では行ってまいります。」\n",
      "　と言いました。そして、貞光のあとについて、とくいらしく出ていきました。\n",
      "　それから幾日も幾日もかかって、貞光は金太郎を連れて都へ帰りました。そして頼光のおやしきへ行って、\n",
      "「足柄山の奥で、こんな子供を見つけてまいりました。」\n",
      "　と、金太郎を頼光のお目にかけました。\n",
      "「ほう、これはめずらしい、強そうな子供だ。」\n",
      "　と頼光は言いながら、金太郎の頭をさすりました。\n",
      "「だが金太郎という名は侍にはおかしい。父親が坂田というのなら、今から坂田金時と名乗るがいい。」\n",
      "　そこで金太郎は坂田金時と名乗って、頼光の家来になりました。そして大きくなると、えらいお侍になって、渡辺綱、卜部季武、碓井貞光といっしょに、頼光の四天王と呼ばれるようになりました。#Document \n",
      "text: こう言って、こんどは金太郎に向かって、\n",
      "「どうだね、坊やは都へ出てお侍にならないかい。」\n",
      "　と言いました。金太郎は目をくりくりさせて、\n",
      "「ああ、お侍になれるといいなあ。」\n",
      "　と言いました。\n",
      "　このきこりと見せたのはじつは碓井貞光といって、その時分日本一のえらい大将で名高い源頼光の家来でした。そして御主人から強い侍をさがして来いという仰せを受けて、こんな風をして日本の国中をあちこちと歩きまわっているのでした。\n",
      "　山うばもそう聞くと、たいそう喜んで、\n",
      "「じつはこの子の亡くなりました父も、坂田というりっぱな氏を持った侍でございました。わけがございましてこのとおり山の中に埋もれておりますものの、よいつてさえあれば、いつか都へ出して侍にして、家の名をつがせてやりたいと思っておりました。そういうことでしたら、このとおりの腕白者でございますが、どうぞよろしくお願い申します。」\n",
      "　とさもうれしそうに言いました。\n",
      "　金太郎はそばで二人の話を聞いて、\n",
      "「うれしいな、うれしいな。おれはお侍になるのだ。」\n",
      "　と言って、小踊りをしていました。\n",
      "　金太郎がいよいよ碓井貞光に連れられて都へ上るということを聞いて、熊も鹿も猿もうさぎもみんな連れ立ってお別れを言いに来ました。金太郎はみんなの頭を代わりばんこになでてやって、\n",
      "「みんな仲よく遊んでおくれ。」\n",
      "　と言いました。みんなは、\n",
      "「金太郎さんがいなくなってさびしいなあ。早くえらい大将になって、また顔を見せて下さい。」\n",
      "　と言って、名残惜しそうに帰っていきました。金太郎はおかあさんの前に手をついて、\n",
      "「おかあさん、では行ってまいります。」#Document \n",
      "text: それからは金太郎は、毎朝おかあさんにたくさんおむすびをこしらえて頂いて、森の中へ出かけて行きました。金太郎が口笛を吹いて、\n",
      "「さあ、みんな来い。みんな来い。」\n",
      "　と呼びますと、熊を頭に、鹿や猿やうさぎがのそのそ出て来ました。金太郎はこの家来たちをお供に連れて、一日山の中を歩きまわりました。ある日方々歩いて、やがてやわらかな草の生えている所へ来ますと、みんなは足を出してそこへごろごろ寝ころびました。日がいい心持ちそうに当たっていました。金太郎が、\n",
      "「さあ、みんなすもうを取れ。ごほうびにはこのおむすびをやるぞ。」\n",
      "　と言いますと、熊がむくむくした手で地を掘って、土俵をこしらえました。\n",
      "　はじめに猿とうさぎが取り組んで、鹿が行司になりました。うさぎが猿のしっぽをつかまえて、土俵の外へ持ち出そうとしますと、猿がくやしがって、むちゃくちゃにうさぎの長い耳をつかんでひっぱりましたから、うさぎはいたがって手をはなしました。それで勝負がつかなくなって、どちらもごほうびがもらえませんでした。\n",
      "　こんどはうさぎが行司になって、鹿と熊が取り組みましたが、鹿はすぐ角ごと熊にひっくり返されてしまいました。金太郎は、\n",
      "「おもしろい、おもしろい。」\n",
      "　と言って手をたたきました。とうとういちばんおしまいに金太郎が土俵のまん中につっ立って、\n",
      "「さあ、みんなかかって来い。」\n",
      "　と言いながら、大手をひろげました。そこでうさぎと、猿と、鹿と、いちばんおしまいに熊がかかっていきましたが、片っぱしからころころ、ころがされてしまいました。\n",
      "「何だ。弱虫だなあ。みんないっぺんにかかって来い。」\n",
      "    \n"
     ]
    },
    {
     "data": {
      "text/plain": [
       "'金太郎の家来は、熊、猿、うさぎ、鹿です。'"
      ]
     },
     "execution_count": 25,
     "metadata": {},
     "output_type": "execute_result"
    }
   ],
   "source": [
    "chain.invoke('金太郎の家来は誰？')"
   ]
  },
  {
   "cell_type": "code",
   "execution_count": null,
   "id": "dcf6016b-2541-4c9b-8208-28044de9619f",
   "metadata": {},
   "outputs": [],
   "source": []
  }
 ],
 "metadata": {
  "kernelspec": {
   "display_name": "Python 3 (ipykernel)",
   "language": "python",
   "name": "python3"
  },
  "language_info": {
   "codemirror_mode": {
    "name": "ipython",
    "version": 3
   },
   "file_extension": ".py",
   "mimetype": "text/x-python",
   "name": "python",
   "nbconvert_exporter": "python",
   "pygments_lexer": "ipython3",
   "version": "3.12.8"
  }
 },
 "nbformat": 4,
 "nbformat_minor": 5
}
