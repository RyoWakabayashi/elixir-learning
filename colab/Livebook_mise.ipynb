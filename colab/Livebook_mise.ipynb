{
  "cells": [
    {
      "cell_type": "code",
      "execution_count": 1,
      "metadata": {
        "colab": {
          "base_uri": "https://localhost:8080/"
        },
        "id": "iVhUmlLScbDm",
        "outputId": "affda661-7081-4455-9701-a828d17bcca0"
      },
      "outputs": [
        {
          "output_type": "stream",
          "name": "stdout",
          "text": [
            "PRETTY_NAME=\"Ubuntu 22.04.4 LTS\"\n",
            "NAME=\"Ubuntu\"\n",
            "VERSION_ID=\"22.04\"\n",
            "VERSION=\"22.04.4 LTS (Jammy Jellyfish)\"\n",
            "VERSION_CODENAME=jammy\n",
            "ID=ubuntu\n",
            "ID_LIKE=debian\n",
            "HOME_URL=\"https://www.ubuntu.com/\"\n",
            "SUPPORT_URL=\"https://help.ubuntu.com/\"\n",
            "BUG_REPORT_URL=\"https://bugs.launchpad.net/ubuntu/\"\n",
            "PRIVACY_POLICY_URL=\"https://www.ubuntu.com/legal/terms-and-policies/privacy-policy\"\n",
            "UBUNTU_CODENAME=jammy\n"
          ]
        }
      ],
      "source": [
        "!cat /etc/os-release"
      ]
    },
    {
      "cell_type": "code",
      "execution_count": 2,
      "metadata": {
        "colab": {
          "base_uri": "https://localhost:8080/"
        },
        "id": "hJZDfh8Ga7xX",
        "outputId": "d4d36b68-a5c2-4267-9790-49d81e8e642d"
      },
      "outputs": [
        {
          "output_type": "stream",
          "name": "stdout",
          "text": [
            "nvcc: NVIDIA (R) Cuda compiler driver\n",
            "Copyright (c) 2005-2024 NVIDIA Corporation\n",
            "Built on Thu_Jun__6_02:18:23_PDT_2024\n",
            "Cuda compilation tools, release 12.5, V12.5.82\n",
            "Build cuda_12.5.r12.5/compiler.34385749_0\n"
          ]
        }
      ],
      "source": [
        "!nvcc --version"
      ]
    },
    {
      "cell_type": "code",
      "execution_count": 3,
      "metadata": {
        "colab": {
          "base_uri": "https://localhost:8080/"
        },
        "id": "a0NOiHO7bX5L",
        "outputId": "18b4cab8-e47b-4d21-bcfa-e4893e70aa4b"
      },
      "outputs": [
        {
          "output_type": "stream",
          "name": "stdout",
          "text": [
            "#define CUDNN_MAJOR 9\n",
            "#define CUDNN_MINOR 2\n",
            "#define CUDNN_PATCHLEVEL 1\n",
            "--\n",
            "#define CUDNN_VERSION (CUDNN_MAJOR * 10000 + CUDNN_MINOR * 100 + CUDNN_PATCHLEVEL)\n",
            "\n",
            "/* cannot use constexpr here since this is a C-only file */\n"
          ]
        }
      ],
      "source": [
        "!cat /usr/include/cudnn_version.h | grep CUDNN_MAJOR -A 2"
      ]
    },
    {
      "cell_type": "code",
      "source": [
        "!apt-get -y install cudnn9-cuda-12"
      ],
      "metadata": {
        "colab": {
          "base_uri": "https://localhost:8080/"
        },
        "id": "4cyDD8wjeca4",
        "outputId": "d5e73878-2ead-4c15-99cd-d39b7acb7f74"
      },
      "execution_count": 4,
      "outputs": [
        {
          "output_type": "stream",
          "name": "stdout",
          "text": [
            "Reading package lists... Done\n",
            "Building dependency tree... Done\n",
            "Reading state information... Done\n",
            "Some packages could not be installed. This may mean that you have\n",
            "requested an impossible situation or if you are using the unstable\n",
            "distribution that some required packages have not yet been created\n",
            "or been moved out of Incoming.\n",
            "The following information may help to resolve the situation:\n",
            "\n",
            "The following packages have unmet dependencies:\n",
            " libcudnn9-dev-cuda-12 : Depends: libcudnn9-cuda-12 (= 9.10.2.21-1) but 9.2.1.18-1 is to be installed\n",
            "E: Unable to correct problems, you have held broken packages.\n"
          ]
        }
      ]
    },
    {
      "cell_type": "code",
      "source": [
        "!cat /usr/include/cudnn_version.h | grep CUDNN_MAJOR -A 2"
      ],
      "metadata": {
        "colab": {
          "base_uri": "https://localhost:8080/"
        },
        "id": "Kh2FP4rUegO5",
        "outputId": "04048b68-713f-4f67-be3a-db216b63f1e1"
      },
      "execution_count": 5,
      "outputs": [
        {
          "output_type": "stream",
          "name": "stdout",
          "text": [
            "#define CUDNN_MAJOR 9\n",
            "#define CUDNN_MINOR 2\n",
            "#define CUDNN_PATCHLEVEL 1\n",
            "--\n",
            "#define CUDNN_VERSION (CUDNN_MAJOR * 10000 + CUDNN_MINOR * 100 + CUDNN_PATCHLEVEL)\n",
            "\n",
            "/* cannot use constexpr here since this is a C-only file */\n"
          ]
        }
      ]
    },
    {
      "cell_type": "code",
      "execution_count": 6,
      "metadata": {
        "colab": {
          "base_uri": "https://localhost:8080/"
        },
        "id": "Cpa7KrfpOsDl",
        "outputId": "01b93a37-3282-4930-eba2-da616bf4ff47"
      },
      "outputs": [
        {
          "output_type": "stream",
          "name": "stdout",
          "text": [
            "\u001b[33m\r0% [Working]\u001b[0m\r            \rGet:1 https://cloud.r-project.org/bin/linux/ubuntu jammy-cran40/ InRelease [3,632 B]\n",
            "\u001b[33m\r0% [Connecting to archive.ubuntu.com] [Connecting to security.ubuntu.com (185.1\u001b[0m\u001b[33m\r0% [Connecting to archive.ubuntu.com] [Connecting to security.ubuntu.com (185.1\u001b[0m\r                                                                               \rGet:2 https://developer.download.nvidia.com/compute/cuda/repos/ubuntu2204/x86_64  InRelease [1,581 B]\n",
            "Get:3 https://developer.download.nvidia.com/compute/cuda/repos/ubuntu2204/x86_64  Packages [1,798 kB]\n",
            "Get:4 http://security.ubuntu.com/ubuntu jammy-security InRelease [129 kB]\n",
            "Get:5 https://ppa.launchpadcontent.net/deadsnakes/ppa/ubuntu jammy InRelease [18.1 kB]\n",
            "Get:6 https://r2u.stat.illinois.edu/ubuntu jammy InRelease [6,555 B]\n",
            "Hit:7 https://ppa.launchpadcontent.net/graphics-drivers/ppa/ubuntu jammy InRelease\n",
            "Hit:8 http://archive.ubuntu.com/ubuntu jammy InRelease\n",
            "Get:9 http://security.ubuntu.com/ubuntu jammy-security/universe amd64 Packages [1,253 kB]\n",
            "Hit:10 https://ppa.launchpadcontent.net/ubuntugis/ppa/ubuntu jammy InRelease\n",
            "Get:11 http://archive.ubuntu.com/ubuntu jammy-updates InRelease [128 kB]\n",
            "Get:12 https://r2u.stat.illinois.edu/ubuntu jammy/main all Packages [9,045 kB]\n",
            "Get:13 https://ppa.launchpadcontent.net/deadsnakes/ppa/ubuntu jammy/main amd64 Packages [33.2 kB]\n",
            "Get:14 http://security.ubuntu.com/ubuntu jammy-security/main amd64 Packages [2,994 kB]\n",
            "Get:15 http://archive.ubuntu.com/ubuntu jammy-backports InRelease [127 kB]\n",
            "Get:16 http://archive.ubuntu.com/ubuntu jammy-updates/main amd64 Packages [3,305 kB]\n",
            "Get:17 http://archive.ubuntu.com/ubuntu jammy-updates/universe amd64 Packages [1,561 kB]\n",
            "Get:18 https://r2u.stat.illinois.edu/ubuntu jammy/main amd64 Packages [2,746 kB]\n",
            "Fetched 23.1 MB in 4s (5,247 kB/s)\n",
            "Reading package lists... Done\n",
            "Building dependency tree... Done\n",
            "Reading state information... Done\n",
            "38 packages can be upgraded. Run 'apt list --upgradable' to see them.\n",
            "\u001b[1;33mW: \u001b[0mSkipping acquire of configured file 'main/source/Sources' as repository 'https://r2u.stat.illinois.edu/ubuntu jammy InRelease' does not seem to provide it (sources.list entry misspelt?)\u001b[0m\n",
            "Reading package lists... Done\n",
            "Building dependency tree... Done\n",
            "Reading state information... Done\n",
            "curl is already the newest version (7.81.0-1ubuntu1.20).\n",
            "gpg is already the newest version (2.2.27-3ubuntu2.3).\n",
            "gpg set to manually installed.\n",
            "sudo is already the newest version (1.9.9-1ubuntu2.4).\n",
            "wget is already the newest version (1.21.2-2ubuntu1.1).\n",
            "0 upgraded, 0 newly installed, 0 to remove and 38 not upgraded.\n",
            "deb [signed-by=/etc/apt/keyrings/mise-archive-keyring.gpg arch=amd64] https://mise.jdx.dev/deb stable main\n",
            "Hit:1 https://cloud.r-project.org/bin/linux/ubuntu jammy-cran40/ InRelease\n",
            "Get:2 https://mise.jdx.dev/deb stable InRelease [2,065 B]\n",
            "Hit:3 https://developer.download.nvidia.com/compute/cuda/repos/ubuntu2204/x86_64  InRelease\n",
            "Get:4 https://mise.jdx.dev/deb stable/main amd64 Packages [364 B]\n",
            "Hit:5 https://ppa.launchpadcontent.net/deadsnakes/ppa/ubuntu jammy InRelease\n",
            "Hit:6 http://archive.ubuntu.com/ubuntu jammy InRelease\n",
            "Hit:7 http://security.ubuntu.com/ubuntu jammy-security InRelease\n",
            "Hit:8 https://ppa.launchpadcontent.net/graphics-drivers/ppa/ubuntu jammy InRelease\n",
            "Hit:9 https://r2u.stat.illinois.edu/ubuntu jammy InRelease\n",
            "Hit:10 http://archive.ubuntu.com/ubuntu jammy-updates InRelease\n",
            "Hit:11 https://ppa.launchpadcontent.net/ubuntugis/ppa/ubuntu jammy InRelease\n",
            "Hit:12 http://archive.ubuntu.com/ubuntu jammy-backports InRelease\n",
            "Fetched 2,429 B in 1s (1,688 B/s)\n",
            "Reading package lists... Done\n",
            "Building dependency tree... Done\n",
            "Reading state information... Done\n",
            "38 packages can be upgraded. Run 'apt list --upgradable' to see them.\n",
            "\u001b[1;33mW: \u001b[0mSkipping acquire of configured file 'main/source/Sources' as repository 'https://r2u.stat.illinois.edu/ubuntu jammy InRelease' does not seem to provide it (sources.list entry misspelt?)\u001b[0m\n",
            "Reading package lists... Done\n",
            "Building dependency tree... Done\n",
            "Reading state information... Done\n",
            "The following NEW packages will be installed:\n",
            "  mise\n",
            "0 upgraded, 1 newly installed, 0 to remove and 38 not upgraded.\n",
            "Need to get 19.2 MB of archives.\n",
            "After this operation, 51.7 MB of additional disk space will be used.\n",
            "Get:1 https://mise.jdx.dev/deb stable/main amd64 mise amd64 2025.6.5 [19.2 MB]\n",
            "Fetched 19.2 MB in 0s (74.5 MB/s)\n",
            "debconf: unable to initialize frontend: Dialog\n",
            "debconf: (No usable dialog-like program is installed, so the dialog based frontend cannot be used. at /usr/share/perl5/Debconf/FrontEnd/Dialog.pm line 78, <> line 1.)\n",
            "debconf: falling back to frontend: Readline\n",
            "debconf: unable to initialize frontend: Readline\n",
            "debconf: (This frontend requires a controlling tty.)\n",
            "debconf: falling back to frontend: Teletype\n",
            "dpkg-preconfigure: unable to re-open stdin: \n",
            "Selecting previously unselected package mise.\n",
            "(Reading database ... 126319 files and directories currently installed.)\n",
            "Preparing to unpack .../mise_2025.6.5_amd64.deb ...\n",
            "Unpacking mise (2025.6.5) ...\n",
            "Setting up mise (2025.6.5) ...\n",
            "Processing triggers for man-db (2.10.2-1) ...\n"
          ]
        }
      ],
      "source": [
        "!sudo apt update -y && sudo apt install -y gpg sudo wget curl\n",
        "!sudo install -dm 755 /etc/apt/keyrings\n",
        "!wget -qO - https://mise.jdx.dev/gpg-key.pub | gpg --dearmor | sudo tee /etc/apt/keyrings/mise-archive-keyring.gpg 1> /dev/null\n",
        "!echo \"deb [signed-by=/etc/apt/keyrings/mise-archive-keyring.gpg arch=amd64] https://mise.jdx.dev/deb stable main\" | sudo tee /etc/apt/sources.list.d/mise.list\n",
        "!sudo apt update\n",
        "!sudo apt install -y mise"
      ]
    },
    {
      "cell_type": "code",
      "source": [
        "import os\n",
        "\n",
        "os.environ['PATH'] = \"/root/.local/share/mise/shims:/root/.mix/escripts:\" + os.environ['PATH']"
      ],
      "metadata": {
        "id": "v-4hy6Ri7NjC"
      },
      "execution_count": 7,
      "outputs": []
    },
    {
      "cell_type": "code",
      "execution_count": 9,
      "metadata": {
        "colab": {
          "base_uri": "https://localhost:8080/"
        },
        "id": "W7z2XfB1SNjN",
        "outputId": "5bb4a0c8-b827-461a-ce55-4c384b9ced77"
      },
      "outputs": [
        {
          "output_type": "stream",
          "name": "stdout",
          "text": [
            "\u001b[2K\u001b[2mmise\u001b[0m \u001b[34merlang\u001b[0m@27.3 install                                                   \u001b[34m⠂\u001b[0m \u001b[2m 1s\u001b[0m\u001b[34mGetting releases from GitHub...\u001b[m\n",
            "\u001b[2K\u001b[2mmise\u001b[0m \u001b[34merlang\u001b[0m@27.3 install                                                   \u001b[34m⠄\u001b[0m \u001b[2m 3s\u001b[0m\u001b[34mDownloading (from GitHub) Erlang/OTP 27.3 to /root/.cache/mise/erlang/kerl/archives...\u001b[m\n",
            "\u001b[2K\u001b[2mmise\u001b[0m \u001b[34merlang\u001b[0m@27.3 install                                                   \u001b[34m⠋\u001b[0m \u001b[2m 6s\u001b[0m\u001b[34mExtracting source code for normal build...\u001b[m\n",
            "\u001b[2K\u001b[2mmise\u001b[0m \u001b[34merlang\u001b[0m@27.3 install                                                   \u001b[34m⠐\u001b[0m \u001b[2m13s\u001b[0m\u001b[34mBuilding (normal) Erlang/OTP 27.3 (27.3); please wait...\u001b[m\n",
            "\u001b[36mInitializing (build) log file at /root/.cache/mise/erlang/kerl/builds/27.3/otp_build_27.3.log.\u001b[m\n",
            "\u001b[2K\u001b[2mmise\u001b[0m \u001b[34merlang\u001b[0m@27.3 install                                                   \u001b[34m⠚\u001b[0m \u001b[2m37s\u001b[0mAPPLICATIONS INFORMATION (See: /root/.cache/mise/erlang/kerl/builds/27.3/otp_build_27.3.log)\n",
            " * wx             : No OpenGL headers found, wx will NOT be usable\n",
            " * No GLU headers found, wx will NOT be usable\n",
            " * wxWidgets was not compiled with --enable-webview or wxWebView developer package is not installed, wxWebView will NOT be available\n",
            " *         wxWidgets must be installed on your system.\n",
            " *         Please check that wx-config is in path, the directory\n",
            " *         where wxWidgets libraries are installed (returned by\n",
            " *         'wx-config --libs' or 'wx-config --static --libs' command)\n",
            " *         is in LD_LIBRARY_PATH or equivalent variable and\n",
            " *         wxWidgets version is 3.0.2 or above.\n",
            "\n",
            "\u001b[2K\u001b[2mmise\u001b[0m \u001b[34merlang\u001b[0m@27.3 install                                                   \u001b[34m⠠\u001b[0m \u001b[2m 5m\u001b[0m\u001b[32mErlang/OTP 27.3 (27.3) has been successfully built.\u001b[m\n",
            "\u001b[34mInstalling Erlang/OTP 27.3 (27.3) in /root/.local/share/mise/installs/erlang/27.3...\u001b[m\n",
            "\u001b[36mInitializing (install) log file at /root/.cache/mise/erlang/kerl/builds/27.3/otp_install_27.3.log.\u001b[m\n",
            "\u001b[2K\u001b[2mmise\u001b[0m \u001b[34merlang\u001b[0m@27.3 install                                                   \u001b[34m⠤\u001b[0m \u001b[2m 5m\u001b[0m\u001b[36mYou can activate this installation running the following command:\u001b[m\n",
            "\u001b[36m. /root/.local/share/mise/installs/erlang/27.3/activate\u001b[m\n",
            "\u001b[36mLater on, you can leave the installation typing:\u001b[m\n",
            "\u001b[36mkerl_deactivate\u001b[m\n",
            "\u001b[2K\u001b[32mmise\u001b[0m \u001b[34merlang\u001b[0m@27.3 \u001b[38;5;10m✓\u001b[0m installed                                                    \u001b[32mmise\u001b[0m \u001b[36m~/.config/mise/config.toml\u001b[0m tools: \u001b[34merlang\u001b[0m@27.3\n"
          ]
        }
      ],
      "source": [
        "!mise use -g erlang@27.3"
      ]
    },
    {
      "cell_type": "code",
      "execution_count": 10,
      "metadata": {
        "colab": {
          "base_uri": "https://localhost:8080/"
        },
        "id": "g7BIHk16VOdD",
        "outputId": "c7d6d92f-704b-45f1-95ab-2e6ce40af01a"
      },
      "outputs": [
        {
          "output_type": "stream",
          "name": "stdout",
          "text": [
            "\u001b[2K\u001b[32mmise\u001b[0m \u001b[34melixir\u001b[0m@1.18.4-otp-27 \u001b[38;5;10m✓\u001b[0m installed                                           \u001b[32mmise\u001b[0m \u001b[36m~/.config/mise/config.toml\u001b[0m tools: \u001b[34melixir\u001b[0m@1.18.4-otp-27\n",
            "Erlang/OTP 27 [erts-15.2.3] [source] [64-bit] [smp:2:2] [ds:2:2:10] [async-threads:1] [jit:ns]\n",
            "\n",
            "Elixir 1.18.4 (compiled with Erlang/OTP 27)\n"
          ]
        }
      ],
      "source": [
        "!mise use -g elixir@1.18.4-otp-27\n",
        "!elixir -v"
      ]
    },
    {
      "cell_type": "code",
      "execution_count": 11,
      "metadata": {
        "colab": {
          "base_uri": "https://localhost:8080/"
        },
        "id": "eUu-mVsmV_4Y",
        "outputId": "59c04d98-d7fc-4074-e06c-7566b8b94991"
      },
      "outputs": [
        {
          "output_type": "stream",
          "name": "stdout",
          "text": [
            "\u001b[32m* creating \u001b[0m/root/.mix/archives/hex-2.2.1-otp-27\u001b[0m\n",
            "\u001b[32m* creating \u001b[0m/root/.mix/elixir/1-18-otp-27/rebar3\u001b[0m\n",
            "Resolving Hex dependencies...\n",
            "Resolution completed in 0.31s\n",
            "New:\n",
            "\u001b[32m  aws_credentials 0.3.2\u001b[31m\u001b[0m\n",
            "\u001b[32m  bandit 1.6.8\u001b[31m\u001b[0m\n",
            "\u001b[32m  castore 1.0.14\u001b[31m\u001b[0m\n",
            "\u001b[32m  decimal 2.3.0\u001b[31m\u001b[0m\n",
            "\u001b[32m  dns_cluster 0.1.3\u001b[31m\u001b[0m\n",
            "\u001b[32m  earmark_parser 1.4.43\u001b[31m\u001b[0m\n",
            "\u001b[32m  ecto 3.12.5\u001b[31m\u001b[0m\n",
            "\u001b[32m  eini_beam 2.2.5\u001b[31m\u001b[0m\n",
            "\u001b[32m  finch 0.19.0\u001b[31m\u001b[0m\n",
            "\u001b[32m  fresh 0.4.4\u001b[31m\u001b[0m\n",
            "\u001b[32m  hpax 1.0.3\u001b[31m\u001b[0m\n",
            "\u001b[32m  iso8601 1.3.4\u001b[31m\u001b[0m\n",
            "\u001b[32m  jason 1.4.4\u001b[31m\u001b[0m\n",
            "\u001b[32m  jose 1.11.10\u001b[31m\u001b[0m\n",
            "\u001b[32m  jsx 3.1.0\u001b[31m\u001b[0m\n",
            "\u001b[32m  kubereq 0.3.2\u001b[31m\u001b[0m\n",
            "\u001b[32m  livebook 0.16.3\u001b[31m\u001b[0m\n",
            "\u001b[32m  logger_json 6.2.1\u001b[31m\u001b[0m\n",
            "\u001b[32m  mime 2.0.7\u001b[31m\u001b[0m\n",
            "\u001b[32m  mint 1.7.1\u001b[31m\u001b[0m\n",
            "\u001b[32m  mint_web_socket 1.0.4\u001b[31m\u001b[0m\n",
            "\u001b[32m  nimble_options 1.1.1\u001b[31m\u001b[0m\n",
            "\u001b[32m  nimble_pool 1.1.0\u001b[31m\u001b[0m\n",
            "\u001b[32m  phoenix 1.8.0-rc.3\u001b[31m\u001b[0m\n",
            "\u001b[32m  phoenix_ecto 4.6.3\u001b[31m\u001b[0m\n",
            "\u001b[32m  phoenix_html 4.2.1\u001b[31m\u001b[0m\n",
            "\u001b[32m  phoenix_live_dashboard 0.8.6\u001b[31m\u001b[0m\n",
            "\u001b[32m  phoenix_live_view 1.0.12\u001b[31m\u001b[0m\n",
            "\u001b[32m  phoenix_pubsub 2.1.3\u001b[31m\u001b[0m\n",
            "\u001b[32m  phoenix_template 1.0.4\u001b[31m\u001b[0m\n",
            "\u001b[32m  plug 1.16.1\u001b[31m\u001b[0m\n",
            "\u001b[32m  plug_crypto 2.1.0\u001b[31m\u001b[0m\n",
            "\u001b[32m  pluggable 1.1.0\u001b[31m\u001b[0m\n",
            "\u001b[32m  protobuf 0.13.0\u001b[31m\u001b[0m\n",
            "\u001b[32m  req 0.5.8\u001b[31m\u001b[0m\n",
            "\u001b[32m  telemetry 1.3.0\u001b[31m\u001b[0m\n",
            "\u001b[32m  telemetry_metrics 1.1.0\u001b[31m\u001b[0m\n",
            "\u001b[32m  telemetry_poller 1.1.0\u001b[31m\u001b[0m\n",
            "\u001b[32m  thousand_island 1.3.14\u001b[31m\u001b[0m\n",
            "\u001b[32m  websock 0.5.3\u001b[31m\u001b[0m\n",
            "\u001b[32m  websock_adapter 0.5.8\u001b[31m\u001b[0m\n",
            "\u001b[32m  yamerl 0.10.0\u001b[31m\u001b[0m\n",
            "\u001b[32m  yaml_elixir 2.11.0\u001b[31m\u001b[0m\n",
            "* Getting livebook (Hex package)\n",
            "* Getting aws_credentials (Hex package)\n",
            "* Getting bandit (Hex package)\n",
            "* Getting dns_cluster (Hex package)\n",
            "* Getting earmark_parser (Hex package)\n",
            "* Getting ecto (Hex package)\n",
            "* Getting jose (Hex package)\n",
            "* Getting kubereq (Hex package)\n",
            "* Getting logger_json (Hex package)\n",
            "* Getting mint_web_socket (Hex package)\n",
            "* Getting phoenix (Hex package)\n",
            "* Getting phoenix_ecto (Hex package)\n",
            "* Getting phoenix_html (Hex package)\n",
            "* Getting phoenix_live_dashboard (Hex package)\n",
            "* Getting phoenix_live_view (Hex package)\n",
            "* Getting plug (Hex package)\n",
            "* Getting plug_crypto (Hex package)\n",
            "* Getting protobuf (Hex package)\n",
            "* Getting req (Hex package)\n",
            "* Getting telemetry_metrics (Hex package)\n",
            "* Getting telemetry_poller (Hex package)\n",
            "* Getting yaml_elixir (Hex package)\n",
            "* Getting yamerl (Hex package)\n",
            "* Getting telemetry (Hex package)\n",
            "* Getting finch (Hex package)\n",
            "* Getting jason (Hex package)\n",
            "* Getting mime (Hex package)\n",
            "* Getting mint (Hex package)\n",
            "* Getting nimble_options (Hex package)\n",
            "* Getting nimble_pool (Hex package)\n",
            "* Getting hpax (Hex package)\n",
            "* Getting phoenix_template (Hex package)\n",
            "* Getting phoenix_pubsub (Hex package)\n",
            "* Getting websock_adapter (Hex package)\n",
            "* Getting websock (Hex package)\n",
            "* Getting fresh (Hex package)\n",
            "* Getting pluggable (Hex package)\n",
            "* Getting castore (Hex package)\n",
            "* Getting decimal (Hex package)\n",
            "* Getting thousand_island (Hex package)\n",
            "* Getting eini (Hex package)\n",
            "* Getting iso8601 (Hex package)\n",
            "* Getting jsx (Hex package)\n",
            "You have added/upgraded packages you could sponsor, run `mix hex.sponsor` to learn more\n",
            "Resolving Hex dependencies...\n",
            "Resolution completed in 0.161s\n",
            "Unchanged:\n",
            "  aws_credentials 0.3.2\n",
            "  bandit 1.6.8\n",
            "  castore 1.0.14\n",
            "  decimal 2.3.0\n",
            "  dns_cluster 0.1.3\n",
            "  earmark_parser 1.4.43\n",
            "  ecto 3.12.5\n",
            "  eini_beam 2.2.5\n",
            "  finch 0.19.0\n",
            "  fresh 0.4.4\n",
            "  hpax 1.0.3\n",
            "  iso8601 1.3.4\n",
            "  jason 1.4.4\n",
            "  jose 1.11.10\n",
            "  jsx 3.1.0\n",
            "  kubereq 0.3.2\n",
            "  logger_json 6.2.1\n",
            "  mime 2.0.7\n",
            "  mint 1.7.1\n",
            "  mint_web_socket 1.0.4\n",
            "  nimble_options 1.1.1\n",
            "  nimble_pool 1.1.0\n",
            "  phoenix 1.8.0-rc.3\n",
            "  phoenix_ecto 4.6.3\n",
            "  phoenix_html 4.2.1\n",
            "  phoenix_live_dashboard 0.8.6\n",
            "  phoenix_live_view 1.0.12\n",
            "  phoenix_pubsub 2.1.3\n",
            "  phoenix_template 1.0.4\n",
            "  plug 1.16.1\n",
            "  plug_crypto 2.1.0\n",
            "  pluggable 1.1.0\n",
            "  protobuf 0.13.0\n",
            "  req 0.5.8\n",
            "  telemetry 1.3.0\n",
            "  telemetry_metrics 1.1.0\n",
            "  telemetry_poller 1.1.0\n",
            "  thousand_island 1.3.14\n",
            "  websock 0.5.3\n",
            "  websock_adapter 0.5.8\n",
            "  yamerl 0.10.0\n",
            "  yaml_elixir 2.11.0\n",
            "All dependencies are up to date\n",
            "==> earmark_parser\n",
            "Compiling 2 files (.xrl)\n",
            "Compiling 1 file (.yrl)\n",
            "Compiling 3 files (.erl)\n",
            "Compiling 47 files (.ex)\n",
            "Generated earmark_parser app\n",
            "==> pluggable\n",
            "Compiling 4 files (.ex)\n",
            "Generated pluggable app\n",
            "==> decimal\n",
            "Compiling 4 files (.ex)\n",
            "Generated decimal app\n",
            "==> mime\n",
            "Compiling 1 file (.ex)\n",
            "Generated mime app\n",
            "==> livebook\n",
            "===> Analyzing applications...\n",
            "===> Compiling iso8601\n",
            "==> nimble_options\n",
            "Compiling 3 files (.ex)\n",
            "Generated nimble_options app\n",
            "==> livebook\n",
            "===> Fetching rebar3_hex v7.0.11\n",
            "===> Fetching hex_core v0.10.3\n",
            "===> Fetching verl v1.1.1\n",
            "===> Analyzing applications...\n",
            "===> Compiling verl\n",
            "===> Compiling hex_core\n",
            "===> Compiling rebar3_hex\n",
            "===> Analyzing applications...\n",
            "===> Compiling eini\n",
            "===> Analyzing applications...\n",
            "===> Compiling telemetry\n",
            "==> telemetry_metrics\n",
            "Compiling 7 files (.ex)\n",
            "Generated telemetry_metrics app\n",
            "==> livebook\n",
            "===> Analyzing applications...\n",
            "===> Compiling telemetry_poller\n",
            "==> thousand_island\n",
            "Compiling 16 files (.ex)\n",
            "Generated thousand_island app\n",
            "==> jason\n",
            "Compiling 10 files (.ex)\n",
            "Generated jason app\n",
            "==> phoenix_html\n",
            "Compiling 6 files (.ex)\n",
            "Generated phoenix_html app\n",
            "==> phoenix_template\n",
            "Compiling 4 files (.ex)\n",
            "Generated phoenix_template app\n",
            "==> phoenix_pubsub\n",
            "Compiling 11 files (.ex)\n",
            "Generated phoenix_pubsub app\n",
            "==> plug_crypto\n",
            "Compiling 5 files (.ex)\n",
            "Generated plug_crypto app\n",
            "==> hpax\n",
            "Compiling 4 files (.ex)\n",
            "Generated hpax app\n",
            "==> livebook\n",
            "===> Analyzing applications...\n",
            "===> Compiling yamerl\n",
            "==> yaml_elixir\n",
            "Compiling 6 files (.ex)\n",
            "Generated yaml_elixir app\n",
            "==> dns_cluster\n",
            "Compiling 1 file (.ex)\n",
            "Generated dns_cluster app\n",
            "==> jose\n",
            "Compiling 112 files (.erl)\n",
            "Compiling 8 files (.ex)\n",
            "Generated jose app\n",
            "==> livebook\n",
            "===> Analyzing applications...\n",
            "===> Compiling jsx\n",
            "===> Fetching rebar3_lint v3.0.1\n",
            "===> Fetching elvis_core v3.0.1\n",
            "===> Fetching katana_code v2.0.2\n",
            "===> Fetching zipper v1.0.1\n",
            "===> Analyzing applications...\n",
            "===> Compiling zipper\n",
            "===> Compiling katana_code\n",
            "===> Compiling elvis_core\n",
            "===> Compiling rebar3_lint\n",
            "===> Analyzing applications...\n",
            "===> Compiling aws_credentials\n",
            "   ┌─ src/aws_credentials.erl:\n",
            "   │\n",
            " 6 │  -behaviour(gen_server).\n",
            "   │   ╰── Warning: the callback gen_server:format_status(_,_) is deprecated; use format_status/1 instead\n",
            "\n",
            "\n",
            "==> ecto\n",
            "Compiling 56 files (.ex)\n",
            "Generated ecto app\n",
            "==> plug\n",
            "Compiling 1 file (.erl)\n",
            "Compiling 40 files (.ex)\n",
            "Generated plug app\n",
            "==> logger_json\n",
            "Compiling 17 files (.ex)\n",
            "Generated logger_json app\n",
            "==> protobuf\n",
            "Compiling 38 files (.ex)\n",
            "     \u001b[33mwarning:\u001b[0m false.encode/1 is undefined (module false is not available or is yet to be defined)\n",
            "     │\n",
            " 174 │       with {:ok, map} <- to_encodable(struct, opts), do: jason.encode(map)\n",
            "     │ \u001b[33m                                                               ~\u001b[0m\n",
            "     │\n",
            "     └─ lib/protobuf/json.ex:174:64: Protobuf.JSON.encode/2\n",
            "\n",
            "     \u001b[33mwarning:\u001b[0m false.decode/1 is undefined (module false is not available or is yet to be defined)\n",
            "     │\n",
            " 283 │       with {:ok, json_data} <- jason.decode(iodata),\n",
            "     │ \u001b[33m                                     ~\u001b[0m\n",
            "     │\n",
            "     └─ lib/protobuf/json.ex:283:38: Protobuf.JSON.decode/2\n",
            "\n",
            "Generated protobuf app\n",
            "==> nimble_pool\n",
            "Compiling 2 files (.ex)\n",
            "Generated nimble_pool app\n",
            "==> castore\n",
            "Compiling 1 file (.ex)\n",
            "Generated castore app\n",
            "==> mint\n",
            "Compiling 1 file (.erl)\n",
            "Compiling 20 files (.ex)\n",
            "Generated mint app\n",
            "==> mint_web_socket\n",
            "Compiling 7 files (.ex)\n",
            "Generated mint_web_socket app\n",
            "==> finch\n",
            "Compiling 14 files (.ex)\n",
            "Generated finch app\n",
            "==> req\n",
            "Compiling 17 files (.ex)\n",
            "Generated req app\n",
            "==> fresh\n",
            "Compiling 5 files (.ex)\n",
            "Generated fresh app\n",
            "==> kubereq\n",
            "Compiling 30 files (.ex)\n",
            "Generated kubereq app\n",
            "==> websock\n",
            "Compiling 1 file (.ex)\n",
            "Generated websock app\n",
            "==> bandit\n",
            "Compiling 54 files (.ex)\n",
            "Generated bandit app\n",
            "==> websock_adapter\n",
            "Compiling 4 files (.ex)\n",
            "Generated websock_adapter app\n",
            "==> phoenix\n",
            "Compiling 73 files (.ex)\n",
            "Generated phoenix app\n",
            "==> phoenix_live_view\n",
            "Compiling 39 files (.ex)\n",
            "Generated phoenix_live_view app\n",
            "==> phoenix_live_dashboard\n",
            "Compiling 36 files (.ex)\n",
            "Generated phoenix_live_dashboard app\n",
            "==> phoenix_ecto\n",
            "Compiling 7 files (.ex)\n",
            "Generated phoenix_ecto app\n",
            "==> livebook\n",
            "Compiling 296 files (.ex)\n",
            "Generated livebook app\n",
            "Generated /tmp/mix-local-installer-fetcher-4FG6Ug/deps/livebook/_build/prod/lib/livebook/priv/static with compressed files from static\n",
            "Generated /tmp/mix-local-installer-fetcher-4FG6Ug/deps/livebook/_build/prod/lib/livebook/priv/iframe_static with compressed files from iframe/priv/static/iframe\n",
            "Generated escript livebook with MIX_ENV=prod\n",
            "\u001b[32m* creating \u001b[0m/root/.mix/escripts/livebook\u001b[0m\n",
            "Erlang/OTP 27 [erts-15.2.3] [source] [64-bit] [smp:2:2] [ds:2:2:10] [async-threads:1] [jit:ns]\n",
            "\n",
            "Elixir 1.18.4 (compiled with Erlang/OTP 27)\n",
            "\n",
            "Livebook 0.16.3\n"
          ]
        }
      ],
      "source": [
        "!mix local.hex --force\n",
        "!mix local.rebar --force\n",
        "!mix escript.install hex livebook --force\n",
        "!livebook -v"
      ]
    },
    {
      "cell_type": "code",
      "execution_count": 12,
      "metadata": {
        "colab": {
          "base_uri": "https://localhost:8080/"
        },
        "id": "bqATRF-xhvPQ",
        "outputId": "0c1a4dbc-e75d-459c-a6b3-2027bdb1ea39"
      },
      "outputs": [
        {
          "output_type": "stream",
          "name": "stdout",
          "text": [
            "Hit:1 https://cloud.r-project.org/bin/linux/ubuntu jammy-cran40/ InRelease\n",
            "Hit:2 https://developer.download.nvidia.com/compute/cuda/repos/ubuntu2204/x86_64  InRelease\n",
            "Hit:3 https://mise.jdx.dev/deb stable InRelease\n",
            "Hit:4 http://security.ubuntu.com/ubuntu jammy-security InRelease\n",
            "Hit:5 http://archive.ubuntu.com/ubuntu jammy InRelease\n",
            "Get:6 http://archive.ubuntu.com/ubuntu jammy-updates InRelease [128 kB]\n",
            "Hit:7 https://ppa.launchpadcontent.net/deadsnakes/ppa/ubuntu jammy InRelease\n",
            "Hit:8 https://ppa.launchpadcontent.net/graphics-drivers/ppa/ubuntu jammy InRelease\n",
            "Hit:9 https://r2u.stat.illinois.edu/ubuntu jammy InRelease\n",
            "Hit:10 https://ppa.launchpadcontent.net/ubuntugis/ppa/ubuntu jammy InRelease\n",
            "Get:11 http://archive.ubuntu.com/ubuntu jammy-backports InRelease [127 kB]\n",
            "Get:12 http://archive.ubuntu.com/ubuntu jammy-updates/main amd64 Packages [3,305 kB]\n",
            "Fetched 3,560 kB in 3s (1,098 kB/s)\n",
            "Reading package lists... Done\n",
            "W: Skipping acquire of configured file 'main/source/Sources' as repository 'https://r2u.stat.illinois.edu/ubuntu jammy InRelease' does not seem to provide it (sources.list entry misspelt?)\n",
            "unzip:  cannot find or open ffmpeg, ffmpeg.zip or ffmpeg.ZIP.\n"
          ]
        }
      ],
      "source": [
        "!sudo apt-get update && unzip ffmpeg libavcodec-dev libavformat-dev libavutil-dev libswscale-dev libvips-dev"
      ]
    },
    {
      "cell_type": "code",
      "execution_count": 13,
      "metadata": {
        "colab": {
          "base_uri": "https://localhost:8080/"
        },
        "id": "0lNSBWJp0WuK",
        "outputId": "a3d1abf7-33c5-43f7-8ef0-a76174ac7549"
      },
      "outputs": [
        {
          "output_type": "stream",
          "name": "stdout",
          "text": [
            "deb https://ngrok-agent.s3.amazonaws.com buster main\n",
            "\u001b[33m\r0% [Working]\u001b[0m\r            \rHit:1 https://cloud.r-project.org/bin/linux/ubuntu jammy-cran40/ InRelease\n",
            "Hit:2 https://developer.download.nvidia.com/compute/cuda/repos/ubuntu2204/x86_64  InRelease\n",
            "Hit:3 https://mise.jdx.dev/deb stable InRelease\n",
            "Get:4 https://ngrok-agent.s3.amazonaws.com buster InRelease [20.3 kB]\n",
            "Hit:5 https://ppa.launchpadcontent.net/deadsnakes/ppa/ubuntu jammy InRelease\n",
            "Hit:6 https://ppa.launchpadcontent.net/graphics-drivers/ppa/ubuntu jammy InRelease\n",
            "Hit:7 https://r2u.stat.illinois.edu/ubuntu jammy InRelease\n",
            "Hit:8 http://security.ubuntu.com/ubuntu jammy-security InRelease\n",
            "Hit:9 http://archive.ubuntu.com/ubuntu jammy InRelease\n",
            "Get:10 https://ngrok-agent.s3.amazonaws.com buster/main amd64 Packages [8,406 B]\n",
            "Hit:11 https://ppa.launchpadcontent.net/ubuntugis/ppa/ubuntu jammy InRelease\n",
            "Hit:12 http://archive.ubuntu.com/ubuntu jammy-updates InRelease\n",
            "Hit:13 http://archive.ubuntu.com/ubuntu jammy-backports InRelease\n",
            "Fetched 28.7 kB in 2s (18.9 kB/s)\n",
            "Reading package lists... Done\n",
            "Building dependency tree... Done\n",
            "Reading state information... Done\n",
            "38 packages can be upgraded. Run 'apt list --upgradable' to see them.\n",
            "\u001b[1;33mW: \u001b[0mSkipping acquire of configured file 'main/source/Sources' as repository 'https://r2u.stat.illinois.edu/ubuntu jammy InRelease' does not seem to provide it (sources.list entry misspelt?)\u001b[0m\n",
            "Reading package lists... Done\n",
            "Building dependency tree... Done\n",
            "Reading state information... Done\n",
            "The following NEW packages will be installed:\n",
            "  ngrok\n",
            "0 upgraded, 1 newly installed, 0 to remove and 38 not upgraded.\n",
            "Need to get 6,857 kB of archives.\n",
            "After this operation, 0 B of additional disk space will be used.\n",
            "Get:1 https://ngrok-agent.s3.amazonaws.com buster/main amd64 ngrok amd64 3.23.1 [6,857 kB]\n",
            "Fetched 6,857 kB in 3s (2,230 kB/s)\n",
            "debconf: unable to initialize frontend: Dialog\n",
            "debconf: (No usable dialog-like program is installed, so the dialog based frontend cannot be used. at /usr/share/perl5/Debconf/FrontEnd/Dialog.pm line 78, <> line 1.)\n",
            "debconf: falling back to frontend: Readline\n",
            "debconf: unable to initialize frontend: Readline\n",
            "debconf: (This frontend requires a controlling tty.)\n",
            "debconf: falling back to frontend: Teletype\n",
            "dpkg-preconfigure: unable to re-open stdin: \n",
            "Selecting previously unselected package ngrok.\n",
            "(Reading database ... 126325 files and directories currently installed.)\n",
            "Preparing to unpack .../ngrok_3.23.1_amd64.deb ...\n",
            "Unpacking ngrok (3.23.1) ...\n",
            "Setting up ngrok (3.23.1) ...\n"
          ]
        }
      ],
      "source": [
        "!curl -s https://ngrok-agent.s3.amazonaws.com/ngrok.asc \\\n",
        "\t| sudo tee /etc/apt/trusted.gpg.d/ngrok.asc >/dev/null \\\n",
        "\t&& echo \"deb https://ngrok-agent.s3.amazonaws.com buster main\" \\\n",
        "\t| sudo tee /etc/apt/sources.list.d/ngrok.list \\\n",
        "\t&& sudo apt update \\\n",
        "\t&& sudo apt install ngrok"
      ]
    },
    {
      "cell_type": "code",
      "execution_count": 14,
      "metadata": {
        "colab": {
          "base_uri": "https://localhost:8080/"
        },
        "id": "xIYxvgBbh6Wt",
        "outputId": "3a32779b-03b1-4228-db0d-c809b70e37a4"
      },
      "outputs": [
        {
          "name": "stdout",
          "output_type": "stream",
          "text": [
            "··········\n"
          ]
        }
      ],
      "source": [
        "from getpass import getpass\n",
        "\n",
        "token = getpass()"
      ]
    },
    {
      "cell_type": "code",
      "execution_count": 15,
      "metadata": {
        "colab": {
          "base_uri": "https://localhost:8080/"
        },
        "id": "rgt3tqKu0UP2",
        "outputId": "72d23ab4-1390-4d1e-882a-906d72871726"
      },
      "outputs": [
        {
          "output_type": "stream",
          "name": "stdout",
          "text": [
            "Authtoken saved to configuration file: /root/.config/ngrok/ngrok.yml\n"
          ]
        }
      ],
      "source": [
        "!ngrok config add-authtoken \"$token\""
      ]
    },
    {
      "cell_type": "code",
      "execution_count": 16,
      "metadata": {
        "id": "1Bnqt0JG0lHN"
      },
      "outputs": [],
      "source": [
        "get_ipython().system_raw('ngrok http 8888 &')\n",
        "!sleep 5s"
      ]
    },
    {
      "cell_type": "code",
      "execution_count": 17,
      "metadata": {
        "colab": {
          "base_uri": "https://localhost:8080/"
        },
        "id": "2SgR2BTl0mIt",
        "outputId": "ceca88b2-1040-4fd7-d67f-2421303f91ea"
      },
      "outputs": [
        {
          "output_type": "stream",
          "name": "stdout",
          "text": [
            "https://dcd0-35-240-157-197.ngrok-free.app\n"
          ]
        }
      ],
      "source": [
        "!curl -s http://localhost:4040/api/tunnels | python3 -c \"import sys, json; print(json.load(sys.stdin)['tunnels'][0]['public_url'])\""
      ]
    },
    {
      "cell_type": "code",
      "execution_count": null,
      "metadata": {
        "colab": {
          "base_uri": "https://localhost:8080/"
        },
        "id": "o40n8mNr2Jc8",
        "outputId": "5be7a68d-31b0-4322-d144-bcdee779c862"
      },
      "outputs": [
        {
          "output_type": "stream",
          "name": "stdout",
          "text": [
            "[Livebook] Application running at http://localhost:8888/?token=qipoafngqbkdgqe42dm2nl7iathggwei\n",
            "\u001b[36m\n",
            "12:22:12.155 [debug] Downloading uv archive from https://github.com/astral-sh/uv/releases/download/0.5.21/uv-x86_64-unknown-linux-gnu.tar.gz\n",
            "\u001b[0m\u001b[22m\n",
            "13:05:47.611 [info] EVISION_PREFER_PRECOMPILED: true; try to download and use the precompiled library.\n",
            "\u001b[0m\u001b[22m\n",
            "13:05:47.611 [info] Current target `x86_64-linux-gnu` has precompiled binaries.\n",
            "\u001b[0m\u001b[22m\n",
            "13:05:47.611 [info] Current host NIF version is `2.17`, will use precompiled binaries with NIF version 2.16.\n",
            "\u001b[0m\u001b[22m\n",
            "13:05:50.307 [info] Precompiled binary tarball downloaded and saved to /root/.cache/evision-nif_2.16-x86_64-linux-gnu-contrib-0.2.13.tar.gz, sha256=e74c917d46f1cd5e75f097dd88d780e0c7fe2983d55437ed741ec3944871b3a3\n",
            "\u001b[0m\u001b[22m\n",
            "13:05:52.071 [info] Copying priv directory: /root/.cache/evision-nif_2.16-x86_64-linux-gnu-contrib-0.2.13/priv => /root/.cache/mix/installs/elixir-1.18.4-erts-15.2.3/24b9a2881ac8af8f0bd70ec8f6d6222d/_build/dev/lib/evision/priv\n",
            "\u001b[0m\u001b[22m\n",
            "13:05:52.505 [info] Copying generated Elixir binding files: /root/.cache/evision-nif_2.16-x86_64-linux-gnu-contrib-0.2.13/elixir_generated => /root/.cache/mix/installs/elixir-1.18.4-erts-15.2.3/24b9a2881ac8af8f0bd70ec8f6d6222d/deps/evision/lib/generated\n",
            "\u001b[0m"
          ]
        }
      ],
      "source": [
        "!livebook server --port 8888"
      ]
    }
  ],
  "metadata": {
    "accelerator": "GPU",
    "colab": {
      "provenance": [],
      "gpuType": "T4"
    },
    "kernelspec": {
      "display_name": "Python 3",
      "name": "python3"
    },
    "language_info": {
      "name": "python",
      "version": "3.11.6"
    }
  },
  "nbformat": 4,
  "nbformat_minor": 0
}