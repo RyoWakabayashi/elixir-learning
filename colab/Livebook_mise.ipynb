{
  "cells": [
    {
      "cell_type": "code",
      "execution_count": 1,
      "metadata": {
        "colab": {
          "base_uri": "https://localhost:8080/"
        },
        "id": "iVhUmlLScbDm",
        "outputId": "b16ee376-11f4-4240-93f3-d7979f979c6e"
      },
      "outputs": [
        {
          "output_type": "stream",
          "name": "stdout",
          "text": [
            "PRETTY_NAME=\"Ubuntu 22.04.3 LTS\"\n",
            "NAME=\"Ubuntu\"\n",
            "VERSION_ID=\"22.04\"\n",
            "VERSION=\"22.04.3 LTS (Jammy Jellyfish)\"\n",
            "VERSION_CODENAME=jammy\n",
            "ID=ubuntu\n",
            "ID_LIKE=debian\n",
            "HOME_URL=\"https://www.ubuntu.com/\"\n",
            "SUPPORT_URL=\"https://help.ubuntu.com/\"\n",
            "BUG_REPORT_URL=\"https://bugs.launchpad.net/ubuntu/\"\n",
            "PRIVACY_POLICY_URL=\"https://www.ubuntu.com/legal/terms-and-policies/privacy-policy\"\n",
            "UBUNTU_CODENAME=jammy\n"
          ]
        }
      ],
      "source": [
        "!cat /etc/os-release"
      ]
    },
    {
      "cell_type": "code",
      "execution_count": 2,
      "metadata": {
        "colab": {
          "base_uri": "https://localhost:8080/"
        },
        "id": "hJZDfh8Ga7xX",
        "outputId": "afd1ba72-9e5a-42a9-8720-123a6b084adb"
      },
      "outputs": [
        {
          "output_type": "stream",
          "name": "stdout",
          "text": [
            "nvcc: NVIDIA (R) Cuda compiler driver\n",
            "Copyright (c) 2005-2023 NVIDIA Corporation\n",
            "Built on Tue_Aug_15_22:02:13_PDT_2023\n",
            "Cuda compilation tools, release 12.2, V12.2.140\n",
            "Build cuda_12.2.r12.2/compiler.33191640_0\n"
          ]
        }
      ],
      "source": [
        "!nvcc --version"
      ]
    },
    {
      "cell_type": "code",
      "execution_count": 3,
      "metadata": {
        "colab": {
          "base_uri": "https://localhost:8080/"
        },
        "id": "a0NOiHO7bX5L",
        "outputId": "a0b4ad56-2876-40dd-89a1-bc69d9675bd6"
      },
      "outputs": [
        {
          "output_type": "stream",
          "name": "stdout",
          "text": [
            "#define CUDNN_MAJOR 8\n",
            "#define CUDNN_MINOR 9\n",
            "#define CUDNN_PATCHLEVEL 6\n",
            "--\n",
            "#define CUDNN_VERSION (CUDNN_MAJOR * 1000 + CUDNN_MINOR * 100 + CUDNN_PATCHLEVEL)\n",
            "\n",
            "/* cannot use constexpr here since this is a C-only file */\n"
          ]
        }
      ],
      "source": [
        "!cat /usr/include/cudnn_version.h | grep CUDNN_MAJOR -A 2"
      ]
    },
    {
      "cell_type": "code",
      "source": [
        "!apt-get -y install cudnn9-cuda-12"
      ],
      "metadata": {
        "colab": {
          "base_uri": "https://localhost:8080/"
        },
        "id": "4cyDD8wjeca4",
        "outputId": "9e0acd48-d391-40f4-b649-e8c3a7ffa552"
      },
      "execution_count": 4,
      "outputs": [
        {
          "output_type": "stream",
          "name": "stdout",
          "text": [
            "Reading package lists... Done\n",
            "Building dependency tree... Done\n",
            "Reading state information... Done\n",
            "The following additional packages will be installed:\n",
            "  cudnn9-cuda-12-6 libcudnn9-cuda-12 libcudnn9-dev-cuda-12 libcudnn9-static-cuda-12\n",
            "The following NEW packages will be installed:\n",
            "  cudnn9-cuda-12 cudnn9-cuda-12-6 libcudnn9-cuda-12 libcudnn9-dev-cuda-12 libcudnn9-static-cuda-12\n",
            "0 upgraded, 5 newly installed, 0 to remove and 49 not upgraded.\n",
            "Need to get 672 MB of archives.\n",
            "After this operation, 1,694 MB of additional disk space will be used.\n",
            "Get:1 https://developer.download.nvidia.com/compute/cuda/repos/ubuntu2204/x86_64  libcudnn9-cuda-12 9.6.0.74-1 [334 MB]\n",
            "Get:2 https://developer.download.nvidia.com/compute/cuda/repos/ubuntu2204/x86_64  libcudnn9-dev-cuda-12 9.6.0.74-1 [34.3 kB]\n",
            "Get:3 https://developer.download.nvidia.com/compute/cuda/repos/ubuntu2204/x86_64  libcudnn9-static-cuda-12 9.6.0.74-1 [338 MB]\n",
            "Get:4 https://developer.download.nvidia.com/compute/cuda/repos/ubuntu2204/x86_64  cudnn9-cuda-12-6 9.6.0.74-1 [12.3 kB]\n",
            "Get:5 https://developer.download.nvidia.com/compute/cuda/repos/ubuntu2204/x86_64  cudnn9-cuda-12 9.6.0.74-1 [12.3 kB]\n",
            "Fetched 672 MB in 8s (86.7 MB/s)\n",
            "Selecting previously unselected package libcudnn9-cuda-12.\n",
            "(Reading database ... 123634 files and directories currently installed.)\n",
            "Preparing to unpack .../libcudnn9-cuda-12_9.6.0.74-1_amd64.deb ...\n",
            "Unpacking libcudnn9-cuda-12 (9.6.0.74-1) ...\n",
            "Selecting previously unselected package libcudnn9-dev-cuda-12.\n",
            "Preparing to unpack .../libcudnn9-dev-cuda-12_9.6.0.74-1_amd64.deb ...\n",
            "Unpacking libcudnn9-dev-cuda-12 (9.6.0.74-1) ...\n",
            "Selecting previously unselected package libcudnn9-static-cuda-12.\n",
            "Preparing to unpack .../libcudnn9-static-cuda-12_9.6.0.74-1_amd64.deb ...\n",
            "Unpacking libcudnn9-static-cuda-12 (9.6.0.74-1) ...\n",
            "Selecting previously unselected package cudnn9-cuda-12-6.\n",
            "Preparing to unpack .../cudnn9-cuda-12-6_9.6.0.74-1_amd64.deb ...\n",
            "Unpacking cudnn9-cuda-12-6 (9.6.0.74-1) ...\n",
            "Selecting previously unselected package cudnn9-cuda-12.\n",
            "Preparing to unpack .../cudnn9-cuda-12_9.6.0.74-1_amd64.deb ...\n",
            "Unpacking cudnn9-cuda-12 (9.6.0.74-1) ...\n",
            "Setting up libcudnn9-cuda-12 (9.6.0.74-1) ...\n",
            "Setting up libcudnn9-dev-cuda-12 (9.6.0.74-1) ...\n",
            "update-alternatives: using /usr/include/x86_64-linux-gnu/cudnn_v9.h to provide /usr/include/cudnn.h (libcudnn) in manual mode\n",
            "Setting up libcudnn9-static-cuda-12 (9.6.0.74-1) ...\n",
            "Setting up cudnn9-cuda-12-6 (9.6.0.74-1) ...\n",
            "Setting up cudnn9-cuda-12 (9.6.0.74-1) ...\n",
            "Processing triggers for libc-bin (2.35-0ubuntu3.4) ...\n",
            "/sbin/ldconfig.real: /usr/local/lib/libtcm_debug.so.1 is not a symbolic link\n",
            "\n",
            "/sbin/ldconfig.real: /usr/local/lib/libtbbbind_2_0.so.3 is not a symbolic link\n",
            "\n",
            "/sbin/ldconfig.real: /usr/local/lib/libumf.so.0 is not a symbolic link\n",
            "\n",
            "/sbin/ldconfig.real: /usr/local/lib/libtcm.so.1 is not a symbolic link\n",
            "\n",
            "/sbin/ldconfig.real: /usr/local/lib/libtbbbind_2_5.so.3 is not a symbolic link\n",
            "\n",
            "/sbin/ldconfig.real: /usr/local/lib/libhwloc.so.15 is not a symbolic link\n",
            "\n",
            "/sbin/ldconfig.real: /usr/local/lib/libur_adapter_level_zero.so.0 is not a symbolic link\n",
            "\n",
            "/sbin/ldconfig.real: /usr/local/lib/libur_adapter_opencl.so.0 is not a symbolic link\n",
            "\n",
            "/sbin/ldconfig.real: /usr/local/lib/libtbb.so.12 is not a symbolic link\n",
            "\n",
            "/sbin/ldconfig.real: /usr/local/lib/libtbbmalloc.so.2 is not a symbolic link\n",
            "\n",
            "/sbin/ldconfig.real: /usr/local/lib/libtbbmalloc_proxy.so.2 is not a symbolic link\n",
            "\n",
            "/sbin/ldconfig.real: /usr/local/lib/libtbbbind.so.3 is not a symbolic link\n",
            "\n",
            "/sbin/ldconfig.real: /usr/local/lib/libur_loader.so.0 is not a symbolic link\n",
            "\n"
          ]
        }
      ]
    },
    {
      "cell_type": "code",
      "source": [
        "!cat /usr/include/cudnn_version.h | grep CUDNN_MAJOR -A 2"
      ],
      "metadata": {
        "colab": {
          "base_uri": "https://localhost:8080/"
        },
        "id": "Kh2FP4rUegO5",
        "outputId": "219abb1d-4df9-4861-bb3d-1088e3cbde99"
      },
      "execution_count": 5,
      "outputs": [
        {
          "output_type": "stream",
          "name": "stdout",
          "text": [
            "#define CUDNN_MAJOR 9\n",
            "#define CUDNN_MINOR 6\n",
            "#define CUDNN_PATCHLEVEL 0\n",
            "--\n",
            "#define CUDNN_VERSION (CUDNN_MAJOR * 10000 + CUDNN_MINOR * 100 + CUDNN_PATCHLEVEL)\n",
            "\n",
            "/* cannot use constexpr here since this is a C-only file */\n"
          ]
        }
      ]
    },
    {
      "cell_type": "code",
      "execution_count": 6,
      "metadata": {
        "colab": {
          "base_uri": "https://localhost:8080/"
        },
        "id": "Cpa7KrfpOsDl",
        "outputId": "e91bbd9f-d60b-456d-fdd7-5bef2ae64eb8"
      },
      "outputs": [
        {
          "output_type": "stream",
          "name": "stdout",
          "text": [
            "\u001b[33m\r0% [Working]\u001b[0m\r            \rGet:1 https://cloud.r-project.org/bin/linux/ubuntu jammy-cran40/ InRelease [3,626 B]\n",
            "Hit:2 https://developer.download.nvidia.com/compute/cuda/repos/ubuntu2204/x86_64  InRelease\n",
            "Hit:3 http://archive.ubuntu.com/ubuntu jammy InRelease\n",
            "Get:4 http://security.ubuntu.com/ubuntu jammy-security InRelease [129 kB]\n",
            "Get:5 http://archive.ubuntu.com/ubuntu jammy-updates InRelease [128 kB]\n",
            "Hit:6 https://ppa.launchpadcontent.net/deadsnakes/ppa/ubuntu jammy InRelease\n",
            "Hit:7 https://ppa.launchpadcontent.net/graphics-drivers/ppa/ubuntu jammy InRelease\n",
            "Get:8 https://r2u.stat.illinois.edu/ubuntu jammy InRelease [6,555 B]\n",
            "Hit:9 https://ppa.launchpadcontent.net/ubuntugis/ppa/ubuntu jammy InRelease\n",
            "Get:10 https://r2u.stat.illinois.edu/ubuntu jammy/main amd64 Packages [2,630 kB]\n",
            "Get:11 http://archive.ubuntu.com/ubuntu jammy-backports InRelease [127 kB]\n",
            "Get:12 http://security.ubuntu.com/ubuntu jammy-security/main amd64 Packages [2,517 kB]\n",
            "Get:13 http://archive.ubuntu.com/ubuntu jammy-updates/main amd64 Packages [2,830 kB]\n",
            "Get:14 http://security.ubuntu.com/ubuntu jammy-security/universe amd64 Packages [1,226 kB]\n",
            "Get:15 http://security.ubuntu.com/ubuntu jammy-security/restricted amd64 Packages [3,448 kB]\n",
            "Get:16 http://archive.ubuntu.com/ubuntu jammy-updates/universe amd64 Packages [1,517 kB]\n",
            "Get:17 http://archive.ubuntu.com/ubuntu jammy-updates/restricted amd64 Packages [3,614 kB]\n",
            "Get:18 http://archive.ubuntu.com/ubuntu jammy-backports/universe amd64 Packages [33.8 kB]\n",
            "Get:19 http://archive.ubuntu.com/ubuntu jammy-backports/main amd64 Packages [81.4 kB]\n",
            "Get:20 https://r2u.stat.illinois.edu/ubuntu jammy/main all Packages [8,566 kB]\n",
            "Fetched 26.9 MB in 5s (5,770 kB/s)\n",
            "Reading package lists... Done\n",
            "Building dependency tree... Done\n",
            "Reading state information... Done\n",
            "50 packages can be upgraded. Run 'apt list --upgradable' to see them.\n",
            "\u001b[1;33mW: \u001b[0mSkipping acquire of configured file 'main/source/Sources' as repository 'https://r2u.stat.illinois.edu/ubuntu jammy InRelease' does not seem to provide it (sources.list entry misspelt?)\u001b[0m\n",
            "Reading package lists... Done\n",
            "Building dependency tree... Done\n",
            "Reading state information... Done\n",
            "curl is already the newest version (7.81.0-1ubuntu1.20).\n",
            "gpg is already the newest version (2.2.27-3ubuntu2.1).\n",
            "gpg set to manually installed.\n",
            "sudo is already the newest version (1.9.9-1ubuntu2.4).\n",
            "wget is already the newest version (1.21.2-2ubuntu1.1).\n",
            "0 upgraded, 0 newly installed, 0 to remove and 50 not upgraded.\n",
            "deb [signed-by=/etc/apt/keyrings/mise-archive-keyring.gpg arch=amd64] https://mise.jdx.dev/deb stable main\n",
            "Hit:1 https://cloud.r-project.org/bin/linux/ubuntu jammy-cran40/ InRelease\n",
            "Hit:2 https://developer.download.nvidia.com/compute/cuda/repos/ubuntu2204/x86_64  InRelease\n",
            "Get:3 https://mise.jdx.dev/deb stable InRelease [2,065 B]\n",
            "Hit:4 http://security.ubuntu.com/ubuntu jammy-security InRelease\n",
            "Hit:5 http://archive.ubuntu.com/ubuntu jammy InRelease\n",
            "Hit:6 http://archive.ubuntu.com/ubuntu jammy-updates InRelease\n",
            "Hit:7 https://ppa.launchpadcontent.net/deadsnakes/ppa/ubuntu jammy InRelease\n",
            "Get:8 https://mise.jdx.dev/deb stable/main amd64 Packages [364 B]\n",
            "Hit:9 http://archive.ubuntu.com/ubuntu jammy-backports InRelease\n",
            "Hit:10 https://ppa.launchpadcontent.net/graphics-drivers/ppa/ubuntu jammy InRelease\n",
            "Hit:11 https://r2u.stat.illinois.edu/ubuntu jammy InRelease\n",
            "Hit:12 https://ppa.launchpadcontent.net/ubuntugis/ppa/ubuntu jammy InRelease\n",
            "Fetched 2,429 B in 1s (1,963 B/s)\n",
            "Reading package lists... Done\n",
            "Building dependency tree... Done\n",
            "Reading state information... Done\n",
            "50 packages can be upgraded. Run 'apt list --upgradable' to see them.\n",
            "\u001b[1;33mW: \u001b[0mSkipping acquire of configured file 'main/source/Sources' as repository 'https://r2u.stat.illinois.edu/ubuntu jammy InRelease' does not seem to provide it (sources.list entry misspelt?)\u001b[0m\n",
            "Reading package lists... Done\n",
            "Building dependency tree... Done\n",
            "Reading state information... Done\n",
            "The following NEW packages will be installed:\n",
            "  mise\n",
            "0 upgraded, 1 newly installed, 0 to remove and 50 not upgraded.\n",
            "Need to get 13.5 MB of archives.\n",
            "After this operation, 37.9 MB of additional disk space will be used.\n",
            "Get:1 https://mise.jdx.dev/deb stable/main amd64 mise amd64 2024.12.19 [13.5 MB]\n",
            "Fetched 13.5 MB in 0s (51.4 MB/s)\n",
            "debconf: unable to initialize frontend: Dialog\n",
            "debconf: (No usable dialog-like program is installed, so the dialog based frontend cannot be used. at /usr/share/perl5/Debconf/FrontEnd/Dialog.pm line 78, <> line 1.)\n",
            "debconf: falling back to frontend: Readline\n",
            "debconf: unable to initialize frontend: Readline\n",
            "debconf: (This frontend requires a controlling tty.)\n",
            "debconf: falling back to frontend: Teletype\n",
            "dpkg-preconfigure: unable to re-open stdin: \n",
            "Selecting previously unselected package mise.\n",
            "(Reading database ... 123689 files and directories currently installed.)\n",
            "Preparing to unpack .../mise_2024.12.19_amd64.deb ...\n",
            "Unpacking mise (2024.12.19) ...\n",
            "Setting up mise (2024.12.19) ...\n",
            "Processing triggers for man-db (2.10.2-1) ...\n"
          ]
        }
      ],
      "source": [
        "!sudo apt update -y && sudo apt install -y gpg sudo wget curl\n",
        "!sudo install -dm 755 /etc/apt/keyrings\n",
        "!wget -qO - https://mise.jdx.dev/gpg-key.pub | gpg --dearmor | sudo tee /etc/apt/keyrings/mise-archive-keyring.gpg 1> /dev/null\n",
        "!echo \"deb [signed-by=/etc/apt/keyrings/mise-archive-keyring.gpg arch=amd64] https://mise.jdx.dev/deb stable main\" | sudo tee /etc/apt/sources.list.d/mise.list\n",
        "!sudo apt update\n",
        "!sudo apt install -y mise"
      ]
    },
    {
      "cell_type": "code",
      "source": [
        "import os\n",
        "\n",
        "os.environ['PATH'] = \"/root/.local/share/mise/shims:/root/.mix/escripts:\" + os.environ['PATH']"
      ],
      "metadata": {
        "id": "v-4hy6Ri7NjC"
      },
      "execution_count": 13,
      "outputs": []
    },
    {
      "cell_type": "code",
      "execution_count": 8,
      "metadata": {
        "colab": {
          "base_uri": "https://localhost:8080/"
        },
        "id": "W7z2XfB1SNjN",
        "outputId": "4a42e61e-6d7d-476b-e5cc-2113998b6f1c"
      },
      "outputs": [
        {
          "output_type": "stream",
          "name": "stdout",
          "text": [
            "\u001b[2K\u001b[2mmise\u001b[0m \u001b[34merlang\u001b[0m@27.2 install                                                   \u001b[34m⠂\u001b[0m \u001b[2m 2s\u001b[0m\u001b[34mGetting releases from GitHub...\u001b[m\n",
            "\u001b[34mThe available releases are:\u001b[m\n",
            "17.5.6.10\n",
            "18.3.4.11\n",
            "19.3.6.13\n",
            "20.3.8.26\n",
            "21.3.8.24\n",
            "22.3.4.27\n",
            "23.3.4.20\n",
            "24.3.4.17\n",
            "25.3.2.16 *\n",
            "26.2.5.6 *\n",
            "27.2 *\n",
            "\u001b[2K\u001b[2mmise\u001b[0m \u001b[34merlang\u001b[0m@27.2 install                                                   \u001b[34m⠄\u001b[0m \u001b[2m 3s\u001b[0m\u001b[34mDownloading (from GitHub) Erlang/OTP 27.2 to /root/.cache/mise/erlang/kerl/archives...\u001b[m\n",
            "\u001b[2K\u001b[2mmise\u001b[0m \u001b[34merlang\u001b[0m@27.2 install                                                   \u001b[34m⠚\u001b[0m \u001b[2m 8s\u001b[0m\u001b[34mExtracting source code for normal build...\u001b[m\n",
            "\u001b[2K\u001b[2mmise\u001b[0m \u001b[34merlang\u001b[0m@27.2 install                                                   \u001b[34m⠋\u001b[0m \u001b[2m13s\u001b[0m\u001b[34mBuilding (normal) Erlang/OTP 27.2 (27.2); please wait...\u001b[m\n",
            "\u001b[36mInitializing (build) log file at /root/.cache/mise/erlang/kerl/builds/27.2/otp_build_27.2.log.\u001b[m\n",
            "\u001b[2K\u001b[2mmise\u001b[0m \u001b[34merlang\u001b[0m@27.2 install                                                   \u001b[34m⠤\u001b[0m \u001b[2m40s\u001b[0mAPPLICATIONS INFORMATION (See: /root/.cache/mise/erlang/kerl/builds/27.2/otp_build_27.2.log)\n",
            " * wx             : No OpenGL headers found, wx will NOT be usable\n",
            " * No GLU headers found, wx will NOT be usable\n",
            " * wxWidgets was not compiled with --enable-webview or wxWebView developer package is not installed, wxWebView will NOT be available\n",
            " *         wxWidgets must be installed on your system.\n",
            " *         Please check that wx-config is in path, the directory\n",
            " *         where wxWidgets libraries are installed (returned by\n",
            " *         'wx-config --libs' or 'wx-config --static --libs' command)\n",
            " *         is in LD_LIBRARY_PATH or equivalent variable and\n",
            " *         wxWidgets version is 3.0.2 or above.\n",
            "\n",
            "\u001b[2K\u001b[2mmise\u001b[0m \u001b[34merlang\u001b[0m@27.2 install                                                   \u001b[34m⠒\u001b[0m \u001b[2m 6m\u001b[0m\u001b[32mErlang/OTP 27.2 (27.2) has been successfully built.\u001b[m\n",
            "\u001b[2K\u001b[2mmise\u001b[0m \u001b[34merlang\u001b[0m@27.2 install                                                   \u001b[34m⠲\u001b[0m \u001b[2m 6m\u001b[0m\u001b[34mInstalling Erlang/OTP 27.2 (27.2) in /root/.local/share/mise/installs/erlang/27.2...\u001b[m\n",
            "\u001b[36mInitializing (install) log file at /root/.cache/mise/erlang/kerl/builds/27.2/otp_install_27.2.log.\u001b[m\n",
            "\u001b[2K\u001b[2mmise\u001b[0m \u001b[34merlang\u001b[0m@27.2 install                                                   \u001b[34m⠴\u001b[0m \u001b[2m 6m\u001b[0m\u001b[36mYou can activate this installation running the following command:\u001b[m\n",
            "\u001b[36m. /root/.local/share/mise/installs/erlang/27.2/activate\u001b[m\n",
            "\u001b[36mLater on, you can leave the installation typing:\u001b[m\n",
            "\u001b[36mkerl_deactivate\u001b[m\n",
            "\u001b[2K\u001b[32mmise\u001b[0m \u001b[34merlang\u001b[0m@27.2 \u001b[38;5;10m✓\u001b[0m installed                                                    \u001b[32mmise\u001b[0m \u001b[36m~/.config/mise/config.toml\u001b[0m tools: \u001b[34merlang\u001b[0m@27.2\n"
          ]
        }
      ],
      "source": [
        "!mise use -g erlang@27.2"
      ]
    },
    {
      "cell_type": "code",
      "execution_count": 9,
      "metadata": {
        "colab": {
          "base_uri": "https://localhost:8080/"
        },
        "id": "g7BIHk16VOdD",
        "outputId": "41d30235-88a7-4261-c71d-912c3cb076df"
      },
      "outputs": [
        {
          "output_type": "stream",
          "name": "stdout",
          "text": [
            "\u001b[2K\u001b[32mmise\u001b[0m \u001b[34melixir\u001b[0m@1.18.1-otp-27 \u001b[38;5;10m✓\u001b[0m installed                                           \u001b[32mmise\u001b[0m \u001b[36m~/.config/mise/config.toml\u001b[0m tools: \u001b[34melixir\u001b[0m@1.18.1-otp-27\n"
          ]
        }
      ],
      "source": [
        "!mise use -g elixir@1.18.1-otp-27\n",
        "!elixir -v"
      ]
    },
    {
      "cell_type": "code",
      "execution_count": 14,
      "metadata": {
        "colab": {
          "base_uri": "https://localhost:8080/"
        },
        "id": "eUu-mVsmV_4Y",
        "outputId": "d2175388-2a8f-4cdf-fd3a-8428601a2d45"
      },
      "outputs": [
        {
          "output_type": "stream",
          "name": "stdout",
          "text": [
            "\u001b[32m* creating \u001b[0m/root/.mix/archives/hex-2.1.1\u001b[0m\n",
            "\u001b[32m* creating \u001b[0m/root/.mix/elixir/1-18/rebar3\u001b[0m\n",
            "Resolving Hex dependencies...\n",
            "Resolution completed in 0.485s\n",
            "New:\n",
            "\u001b[32m  aws_credentials 0.3.2\u001b[31m\u001b[0m\n",
            "\u001b[32m  aws_signature 0.3.2\u001b[31m\u001b[0m\n",
            "\u001b[32m  bandit 1.5.7\u001b[31m\u001b[0m\n",
            "\u001b[32m  castore 1.0.10\u001b[31m\u001b[0m\n",
            "\u001b[32m  decimal 2.3.0\u001b[31m\u001b[0m\n",
            "\u001b[32m  dns_cluster 0.1.3\u001b[31m\u001b[0m\n",
            "\u001b[32m  earmark_parser 1.4.41\u001b[31m\u001b[0m\n",
            "\u001b[32m  ecto 3.12.3\u001b[31m\u001b[0m\n",
            "\u001b[32m  eini_beam 2.2.4\u001b[31m\u001b[0m\n",
            "\u001b[32m  finch 0.19.0\u001b[31m\u001b[0m\n",
            "\u001b[32m  hpax 1.0.2\u001b[31m\u001b[0m\n",
            "\u001b[32m  iso8601 1.3.4\u001b[31m\u001b[0m\n",
            "\u001b[32m  jason 1.4.4\u001b[31m\u001b[0m\n",
            "\u001b[32m  jose 1.11.10\u001b[31m\u001b[0m\n",
            "\u001b[32m  jsx 3.1.0\u001b[31m\u001b[0m\n",
            "\u001b[32m  kubereq 0.3.1\u001b[31m\u001b[0m\n",
            "\u001b[32m  livebook 0.14.5\u001b[31m\u001b[0m\n",
            "\u001b[32m  mime 2.0.6\u001b[31m\u001b[0m\n",
            "\u001b[32m  mint 1.6.2\u001b[31m\u001b[0m\n",
            "\u001b[32m  mint_web_socket 1.0.4\u001b[31m\u001b[0m\n",
            "\u001b[32m  nimble_options 1.1.1\u001b[31m\u001b[0m\n",
            "\u001b[32m  nimble_pool 1.1.0\u001b[31m\u001b[0m\n",
            "\u001b[32m  phoenix 1.7.14\u001b[31m\u001b[0m\n",
            "\u001b[32m  phoenix_ecto 4.6.2\u001b[31m\u001b[0m\n",
            "\u001b[32m  phoenix_html 4.1.1\u001b[31m\u001b[0m\n",
            "\u001b[32m  phoenix_live_dashboard 0.8.4-rc.0\u001b[31m\u001b[0m\n",
            "\u001b[32m  phoenix_live_view 1.0.0-rc.6\u001b[31m\u001b[0m\n",
            "\u001b[32m  phoenix_pubsub 2.1.3\u001b[31m\u001b[0m\n",
            "\u001b[32m  phoenix_template 1.0.4\u001b[31m\u001b[0m\n",
            "\u001b[32m  plug 1.16.1\u001b[31m\u001b[0m\n",
            "\u001b[32m  plug_crypto 2.1.0\u001b[31m\u001b[0m\n",
            "\u001b[32m  pluggable 1.1.0\u001b[31m\u001b[0m\n",
            "\u001b[32m  protobuf 0.13.0\u001b[31m\u001b[0m\n",
            "\u001b[32m  req 0.5.6\u001b[31m\u001b[0m\n",
            "\u001b[32m  telemetry 1.3.0\u001b[31m\u001b[0m\n",
            "\u001b[32m  telemetry_metrics 1.0.0\u001b[31m\u001b[0m\n",
            "\u001b[32m  telemetry_poller 1.1.0\u001b[31m\u001b[0m\n",
            "\u001b[32m  thousand_island 1.3.7\u001b[31m\u001b[0m\n",
            "\u001b[32m  websock 0.5.3\u001b[31m\u001b[0m\n",
            "\u001b[32m  websock_adapter 0.5.8\u001b[31m\u001b[0m\n",
            "\u001b[32m  yamerl 0.10.0\u001b[31m\u001b[0m\n",
            "\u001b[32m  yaml_elixir 2.11.0\u001b[31m\u001b[0m\n",
            "* Getting livebook (Hex package)\n",
            "* Getting aws_credentials (Hex package)\n",
            "* Getting aws_signature (Hex package)\n",
            "* Getting bandit (Hex package)\n",
            "* Getting dns_cluster (Hex package)\n",
            "* Getting earmark_parser (Hex package)\n",
            "* Getting ecto (Hex package)\n",
            "* Getting jason (Hex package)\n",
            "* Getting jose (Hex package)\n",
            "* Getting kubereq (Hex package)\n",
            "* Getting mint_web_socket (Hex package)\n",
            "* Getting phoenix (Hex package)\n",
            "* Getting phoenix_ecto (Hex package)\n",
            "* Getting phoenix_html (Hex package)\n",
            "* Getting phoenix_live_dashboard (Hex package)\n",
            "* Getting phoenix_live_view (Hex package)\n",
            "* Getting plug (Hex package)\n",
            "* Getting plug_crypto (Hex package)\n",
            "* Getting protobuf (Hex package)\n",
            "* Getting req (Hex package)\n",
            "* Getting telemetry_metrics (Hex package)\n",
            "* Getting telemetry_poller (Hex package)\n",
            "* Getting yaml_elixir (Hex package)\n",
            "* Getting yamerl (Hex package)\n",
            "* Getting telemetry (Hex package)\n",
            "* Getting finch (Hex package)\n",
            "* Getting mime (Hex package)\n",
            "* Getting mint (Hex package)\n",
            "* Getting nimble_options (Hex package)\n",
            "* Getting nimble_pool (Hex package)\n",
            "* Getting hpax (Hex package)\n",
            "* Getting phoenix_template (Hex package)\n",
            "* Getting castore (Hex package)\n",
            "* Getting phoenix_pubsub (Hex package)\n",
            "* Getting websock_adapter (Hex package)\n",
            "* Getting websock (Hex package)\n",
            "* Getting pluggable (Hex package)\n",
            "* Getting decimal (Hex package)\n",
            "* Getting thousand_island (Hex package)\n",
            "* Getting eini (Hex package)\n",
            "* Getting iso8601 (Hex package)\n",
            "* Getting jsx (Hex package)\n",
            "You have added/upgraded packages you could sponsor, run `mix hex.sponsor` to learn more\n",
            "Resolving Hex dependencies...\n",
            "Resolution completed in 0.162s\n",
            "Unchanged:\n",
            "  aws_credentials 0.3.2\n",
            "  aws_signature 0.3.2\n",
            "  bandit 1.5.7\n",
            "  castore 1.0.10\n",
            "  decimal 2.3.0\n",
            "  dns_cluster 0.1.3\n",
            "  earmark_parser 1.4.41\n",
            "  ecto 3.12.3\n",
            "  eini_beam 2.2.4\n",
            "  finch 0.19.0\n",
            "  hpax 1.0.2\n",
            "  iso8601 1.3.4\n",
            "  jason 1.4.4\n",
            "  jose 1.11.10\n",
            "  jsx 3.1.0\n",
            "  kubereq 0.3.1\n",
            "  mime 2.0.6\n",
            "  mint 1.6.2\n",
            "  mint_web_socket 1.0.4\n",
            "  nimble_options 1.1.1\n",
            "  nimble_pool 1.1.0\n",
            "  phoenix 1.7.14\n",
            "  phoenix_ecto 4.6.2\n",
            "  phoenix_html 4.1.1\n",
            "  phoenix_live_dashboard 0.8.4-rc.0\n",
            "  phoenix_live_view 1.0.0-rc.6\n",
            "  phoenix_pubsub 2.1.3\n",
            "  phoenix_template 1.0.4\n",
            "  plug 1.16.1\n",
            "  plug_crypto 2.1.0\n",
            "  pluggable 1.1.0\n",
            "  protobuf 0.13.0\n",
            "  req 0.5.6\n",
            "  telemetry 1.3.0\n",
            "  telemetry_metrics 1.0.0\n",
            "  telemetry_poller 1.1.0\n",
            "  thousand_island 1.3.7\n",
            "  websock 0.5.3\n",
            "  websock_adapter 0.5.8\n",
            "  yamerl 0.10.0\n",
            "  yaml_elixir 2.11.0\n",
            "All dependencies are up to date\n",
            "==> earmark_parser\n",
            "Compiling 2 files (.xrl)\n",
            "Compiling 1 file (.yrl)\n",
            "Compiling 3 files (.erl)\n",
            "Compiling 46 files (.ex)\n",
            "    \u001b[33mwarning:\u001b[0m Tuple.append/2 is deprecated. Use insert_at instead\n",
            "    │\n",
            " 65 │     tag_tpl |> Tuple.append(Enum.reverse(lines)) |> Tuple.append(@verbatim)\n",
            "    │ \u001b[33m                     ~\u001b[0m\n",
            "    │\n",
            "    └─ lib/earmark_parser/helpers/html_parser.ex:65:22: EarmarkParser.Helpers.HtmlParser._parse_rest/3\n",
            "    └─ lib/earmark_parser/helpers/html_parser.ex:65:59: EarmarkParser.Helpers.HtmlParser._parse_rest/3\n",
            "    └─ lib/earmark_parser/helpers/html_parser.ex:69:39: EarmarkParser.Helpers.HtmlParser._parse_rest/3\n",
            "    └─ lib/earmark_parser/helpers/html_parser.ex:69:88: EarmarkParser.Helpers.HtmlParser._parse_rest/3\n",
            "    └─ lib/earmark_parser/helpers/html_parser.ex:70:39: EarmarkParser.Helpers.HtmlParser._parse_rest/3\n",
            "    └─ lib/earmark_parser/helpers/html_parser.ex:70:76: EarmarkParser.Helpers.HtmlParser._parse_rest/3\n",
            "    └─ lib/earmark_parser/helpers/html_parser.ex:71:40: EarmarkParser.Helpers.HtmlParser._parse_rest/3\n",
            "    └─ lib/earmark_parser/helpers/html_parser.ex:71:77: EarmarkParser.Helpers.HtmlParser._parse_rest/3\n",
            "\n",
            "Generated earmark_parser app\n",
            "==> livebook\n",
            "===> Analyzing applications...\n",
            "===> Compiling aws_signature\n",
            "==> pluggable\n",
            "Compiling 4 files (.ex)\n",
            "Generated pluggable app\n",
            "==> decimal\n",
            "Compiling 4 files (.ex)\n",
            "Generated decimal app\n",
            "==> mime\n",
            "Compiling 1 file (.ex)\n",
            "Generated mime app\n",
            "==> livebook\n",
            "===> Analyzing applications...\n",
            "===> Compiling iso8601\n",
            "==> nimble_options\n",
            "Compiling 3 files (.ex)\n",
            "Generated nimble_options app\n",
            "==> livebook\n",
            "===> Fetching rebar3_hex v7.0.8\n",
            "===> Fetching hex_core v0.10.1\n",
            "===> Fetching verl v1.1.1\n",
            "===> Analyzing applications...\n",
            "===> Compiling verl\n",
            "===> Compiling hex_core\n",
            "===> Compiling rebar3_hex\n",
            "===> Analyzing applications...\n",
            "===> Compiling eini\n",
            "===> Analyzing applications...\n",
            "===> Compiling telemetry\n",
            "==> telemetry_metrics\n",
            "Compiling 7 files (.ex)\n",
            "Generated telemetry_metrics app\n",
            "==> livebook\n",
            "===> Analyzing applications...\n",
            "===> Compiling telemetry_poller\n",
            "==> thousand_island\n",
            "Compiling 16 files (.ex)\n",
            "Generated thousand_island app\n",
            "==> jason\n",
            "Compiling 10 files (.ex)\n",
            "Generated jason app\n",
            "==> phoenix_html\n",
            "Compiling 6 files (.ex)\n",
            "Generated phoenix_html app\n",
            "==> phoenix_template\n",
            "Compiling 4 files (.ex)\n",
            "Generated phoenix_template app\n",
            "==> phoenix_pubsub\n",
            "Compiling 11 files (.ex)\n",
            "Generated phoenix_pubsub app\n",
            "==> plug_crypto\n",
            "Compiling 5 files (.ex)\n",
            "Generated plug_crypto app\n",
            "==> hpax\n",
            "Compiling 4 files (.ex)\n",
            "Generated hpax app\n",
            "==> livebook\n",
            "===> Analyzing applications...\n",
            "===> Compiling yamerl\n",
            "==> yaml_elixir\n",
            "Compiling 6 files (.ex)\n",
            "Generated yaml_elixir app\n",
            "==> dns_cluster\n",
            "Compiling 1 file (.ex)\n",
            "Generated dns_cluster app\n",
            "==> jose\n",
            "Compiling 112 files (.erl)\n",
            "Compiling 8 files (.ex)\n",
            "Generated jose app\n",
            "==> livebook\n",
            "===> Analyzing applications...\n",
            "===> Compiling jsx\n",
            "===> Fetching rebar3_lint v3.0.1\n",
            "===> Fetching elvis_core v3.0.1\n",
            "===> Fetching katana_code v2.0.2\n",
            "===> Fetching zipper v1.0.1\n",
            "===> Analyzing applications...\n",
            "===> Compiling zipper\n",
            "===> Compiling katana_code\n",
            "===> Compiling elvis_core\n",
            "===> Compiling rebar3_lint\n",
            "===> Analyzing applications...\n",
            "===> Compiling aws_credentials\n",
            "src/aws_credentials.erl:6:2: Warning: the callback gen_server:format_status(_,_) is deprecated; use format_status/1 instead\n",
            "\n",
            "==> ecto\n",
            "Compiling 56 files (.ex)\n",
            "Generated ecto app\n",
            "==> plug\n",
            "Compiling 1 file (.erl)\n",
            "Compiling 40 files (.ex)\n",
            "Generated plug app\n",
            "==> protobuf\n",
            "Compiling 38 files (.ex)\n",
            "     \u001b[33mwarning:\u001b[0m false.encode/1 is undefined (module false is not available or is yet to be defined)\n",
            "     │\n",
            " 174 │       with {:ok, map} <- to_encodable(struct, opts), do: jason.encode(map)\n",
            "     │ \u001b[33m                                                               ~\u001b[0m\n",
            "     │\n",
            "     └─ lib/protobuf/json.ex:174:64: Protobuf.JSON.encode/2\n",
            "\n",
            "     \u001b[33mwarning:\u001b[0m false.decode/1 is undefined (module false is not available or is yet to be defined)\n",
            "     │\n",
            " 283 │       with {:ok, json_data} <- jason.decode(iodata),\n",
            "     │ \u001b[33m                                     ~\u001b[0m\n",
            "     │\n",
            "     └─ lib/protobuf/json.ex:283:38: Protobuf.JSON.decode/2\n",
            "\n",
            "Generated protobuf app\n",
            "==> nimble_pool\n",
            "Compiling 2 files (.ex)\n",
            "Generated nimble_pool app\n",
            "==> castore\n",
            "Compiling 1 file (.ex)\n",
            "Generated castore app\n",
            "==> mint\n",
            "Compiling 1 file (.erl)\n",
            "Compiling 20 files (.ex)\n",
            "Generated mint app\n",
            "==> mint_web_socket\n",
            "Compiling 7 files (.ex)\n",
            "Generated mint_web_socket app\n",
            "==> finch\n",
            "Compiling 14 files (.ex)\n",
            "Generated finch app\n",
            "==> req\n",
            "Compiling 17 files (.ex)\n",
            "Generated req app\n",
            "==> kubereq\n",
            "Compiling 27 files (.ex)\n",
            "Generated kubereq app\n",
            "==> websock\n",
            "Compiling 1 file (.ex)\n",
            "Generated websock app\n",
            "==> bandit\n",
            "Compiling 50 files (.ex)\n",
            "Generated bandit app\n",
            "==> websock_adapter\n",
            "Compiling 4 files (.ex)\n",
            "Generated websock_adapter app\n",
            "==> phoenix\n",
            "Compiling 71 files (.ex)\n",
            "Generated phoenix app\n",
            "==> phoenix_live_view\n",
            "Compiling 39 files (.ex)\n",
            "     \u001b[33mwarning:\u001b[0m incompatible types given to String.to_atom/1:\n",
            "\n",
            "         String.to_atom(template)\n",
            "\n",
            "     given types:\n",
            "\n",
            "         \u001b[31mdynamic(false or {term(), binary()})\u001b[0m\n",
            "\n",
            "     but expected one of:\n",
            "\n",
            "         binary()\n",
            "\n",
            "     where \"template\" was given the type:\n",
            "\n",
            "         # type: dynamic(false or {term(), binary()})\n",
            "         # from: lib/phoenix_live_view/router.ex:300:18\n",
            "         template = Phoenix.LiveView.Utils.normalize_layout(template)\n",
            "\n",
            "     typing violation found at:\n",
            "     │\n",
            " 301 │         Map.put(acc, :root_layout, {mod, String.to_atom(template)})\n",
            "     │ \u001b[33m                                                ~\u001b[0m\n",
            "     │\n",
            "     └─ lib/phoenix_live_view/router.ex:301:49: Phoenix.LiveView.Router.validate_live_session_opts/3\n",
            "\n",
            "Generated phoenix_live_view app\n",
            "==> phoenix_live_dashboard\n",
            "Compiling 36 files (.ex)\n",
            "Generated phoenix_live_dashboard app\n",
            "==> phoenix_ecto\n",
            "Compiling 7 files (.ex)\n",
            "Generated phoenix_ecto app\n",
            "==> livebook\n",
            "Compiling 283 files (.ex)\n",
            "     \u001b[33mwarning:\u001b[0m List.zip/1 is deprecated. Use Enum.zip/1 instead\n",
            "     │\n",
            " 348 │     |> List.zip()\n",
            "     │ \u001b[33m            ~\u001b[0m\n",
            "     │\n",
            "     └─ lib/livebook/live_markdown/markdown_helpers.ex:348:13: Livebook.LiveMarkdown.MarkdownHelpers.max_length_per_column/1\n",
            "\n",
            "     \u001b[33mwarning:\u001b[0m Tuple.append/2 is deprecated. Use insert_at instead\n",
            "     │\n",
            " 745 │     Enum.map(funs, &Tuple.append(&1, type))\n",
            "     │ \u001b[33m                          ~\u001b[0m\n",
            "     │\n",
            "     └─ lib/livebook/intellisense/identifier_matcher.ex:745:27: Livebook.Intellisense.IdentifierMatcher.append_funs_type/2\n",
            "\n",
            "Generated livebook app\n",
            "Generated escript livebook with MIX_ENV=prod\n",
            "\u001b[32m* creating \u001b[0m/root/.mix/escripts/livebook\u001b[0m\n",
            "Erlang/OTP 27 [erts-15.2] [source] [64-bit] [smp:2:2] [ds:2:2:10] [async-threads:1] [jit:ns]\n",
            "\n",
            "Elixir 1.18.1 (compiled with Erlang/OTP 27)\n",
            "\n",
            "Livebook 0.14.5\n"
          ]
        }
      ],
      "source": [
        "!mix local.hex --force\n",
        "!mix local.rebar --force\n",
        "!mix escript.install hex livebook --force\n",
        "!livebook -v"
      ]
    },
    {
      "cell_type": "code",
      "execution_count": 15,
      "metadata": {
        "colab": {
          "base_uri": "https://localhost:8080/"
        },
        "id": "bqATRF-xhvPQ",
        "outputId": "89df1123-e8c0-45bc-fc72-071d284f23f4"
      },
      "outputs": [
        {
          "output_type": "stream",
          "name": "stdout",
          "text": [
            "\r0% [Working]\r            \rHit:1 https://cloud.r-project.org/bin/linux/ubuntu jammy-cran40/ InRelease\n",
            "\r0% [Connecting to archive.ubuntu.com (91.189.91.82)] [Connecting to security.ub\r                                                                               \rHit:2 https://developer.download.nvidia.com/compute/cuda/repos/ubuntu2204/x86_64  InRelease\n",
            "Hit:3 https://mise.jdx.dev/deb stable InRelease\n",
            "Get:4 http://security.ubuntu.com/ubuntu jammy-security InRelease [129 kB]\n",
            "Hit:5 http://archive.ubuntu.com/ubuntu jammy InRelease\n",
            "Get:6 http://archive.ubuntu.com/ubuntu jammy-updates InRelease [128 kB]\n",
            "Hit:7 https://ppa.launchpadcontent.net/deadsnakes/ppa/ubuntu jammy InRelease\n",
            "Hit:8 https://ppa.launchpadcontent.net/graphics-drivers/ppa/ubuntu jammy InRelease\n",
            "Hit:9 https://r2u.stat.illinois.edu/ubuntu jammy InRelease\n",
            "Hit:10 https://ppa.launchpadcontent.net/ubuntugis/ppa/ubuntu jammy InRelease\n",
            "Hit:11 http://archive.ubuntu.com/ubuntu jammy-backports InRelease\n",
            "Fetched 257 kB in 2s (146 kB/s)\n",
            "Reading package lists... Done\n",
            "W: Skipping acquire of configured file 'main/source/Sources' as repository 'https://r2u.stat.illinois.edu/ubuntu jammy InRelease' does not seem to provide it (sources.list entry misspelt?)\n",
            "unzip:  cannot find or open ffmpeg, ffmpeg.zip or ffmpeg.ZIP.\n"
          ]
        }
      ],
      "source": [
        "!sudo apt-get update && unzip ffmpeg libavcodec-dev libavformat-dev libavutil-dev libswscale-dev libvips-dev"
      ]
    },
    {
      "cell_type": "code",
      "execution_count": 16,
      "metadata": {
        "colab": {
          "base_uri": "https://localhost:8080/"
        },
        "id": "0lNSBWJp0WuK",
        "outputId": "9efdd28f-5d19-4700-f5c0-83ba7b40bd67"
      },
      "outputs": [
        {
          "output_type": "stream",
          "name": "stdout",
          "text": [
            "deb https://ngrok-agent.s3.amazonaws.com buster main\n",
            "Hit:1 https://cloud.r-project.org/bin/linux/ubuntu jammy-cran40/ InRelease\n",
            "Hit:2 https://developer.download.nvidia.com/compute/cuda/repos/ubuntu2204/x86_64  InRelease\n",
            "Hit:3 https://mise.jdx.dev/deb stable InRelease\n",
            "Hit:4 http://archive.ubuntu.com/ubuntu jammy InRelease\n",
            "Hit:5 http://security.ubuntu.com/ubuntu jammy-security InRelease\n",
            "Hit:6 http://archive.ubuntu.com/ubuntu jammy-updates InRelease\n",
            "Hit:7 http://archive.ubuntu.com/ubuntu jammy-backports InRelease\n",
            "Get:8 https://ngrok-agent.s3.amazonaws.com buster InRelease [20.3 kB]\n",
            "Hit:9 https://r2u.stat.illinois.edu/ubuntu jammy InRelease\n",
            "Get:10 https://ngrok-agent.s3.amazonaws.com buster/main amd64 Packages [7,219 B]\n",
            "Hit:11 https://ppa.launchpadcontent.net/deadsnakes/ppa/ubuntu jammy InRelease\n",
            "Hit:12 https://ppa.launchpadcontent.net/graphics-drivers/ppa/ubuntu jammy InRelease\n",
            "Hit:13 https://ppa.launchpadcontent.net/ubuntugis/ppa/ubuntu jammy InRelease\n",
            "Fetched 27.5 kB in 2s (18.2 kB/s)\n",
            "Reading package lists... Done\n",
            "Building dependency tree... Done\n",
            "Reading state information... Done\n",
            "50 packages can be upgraded. Run 'apt list --upgradable' to see them.\n",
            "\u001b[1;33mW: \u001b[0mSkipping acquire of configured file 'main/source/Sources' as repository 'https://r2u.stat.illinois.edu/ubuntu jammy InRelease' does not seem to provide it (sources.list entry misspelt?)\u001b[0m\n",
            "Reading package lists... Done\n",
            "Building dependency tree... Done\n",
            "Reading state information... Done\n",
            "The following NEW packages will be installed:\n",
            "  ngrok\n",
            "0 upgraded, 1 newly installed, 0 to remove and 50 not upgraded.\n",
            "Need to get 9,884 kB of archives.\n",
            "After this operation, 0 B of additional disk space will be used.\n",
            "Get:1 https://ngrok-agent.s3.amazonaws.com buster/main amd64 ngrok amd64 3.19.0 [9,884 kB]\n",
            "Fetched 9,884 kB in 2s (4,275 kB/s)\n",
            "debconf: unable to initialize frontend: Dialog\n",
            "debconf: (No usable dialog-like program is installed, so the dialog based frontend cannot be used. at /usr/share/perl5/Debconf/FrontEnd/Dialog.pm line 78, <> line 1.)\n",
            "debconf: falling back to frontend: Readline\n",
            "debconf: unable to initialize frontend: Readline\n",
            "debconf: (This frontend requires a controlling tty.)\n",
            "debconf: falling back to frontend: Teletype\n",
            "dpkg-preconfigure: unable to re-open stdin: \n",
            "Selecting previously unselected package ngrok.\n",
            "(Reading database ... 123695 files and directories currently installed.)\n",
            "Preparing to unpack .../ngrok_3.19.0_amd64.deb ...\n",
            "Unpacking ngrok (3.19.0) ...\n",
            "Setting up ngrok (3.19.0) ...\n"
          ]
        }
      ],
      "source": [
        "!curl -s https://ngrok-agent.s3.amazonaws.com/ngrok.asc \\\n",
        "\t| sudo tee /etc/apt/trusted.gpg.d/ngrok.asc >/dev/null \\\n",
        "\t&& echo \"deb https://ngrok-agent.s3.amazonaws.com buster main\" \\\n",
        "\t| sudo tee /etc/apt/sources.list.d/ngrok.list \\\n",
        "\t&& sudo apt update \\\n",
        "\t&& sudo apt install ngrok"
      ]
    },
    {
      "cell_type": "code",
      "execution_count": 17,
      "metadata": {
        "colab": {
          "base_uri": "https://localhost:8080/"
        },
        "id": "xIYxvgBbh6Wt",
        "outputId": "7b3acebe-308f-4dcc-f7b3-a23eb3bfc8ff"
      },
      "outputs": [
        {
          "name": "stdout",
          "output_type": "stream",
          "text": [
            "··········\n"
          ]
        }
      ],
      "source": [
        "from getpass import getpass\n",
        "\n",
        "token = getpass()"
      ]
    },
    {
      "cell_type": "code",
      "execution_count": 18,
      "metadata": {
        "colab": {
          "base_uri": "https://localhost:8080/"
        },
        "id": "rgt3tqKu0UP2",
        "outputId": "de888181-239b-4350-8798-84a95721611c"
      },
      "outputs": [
        {
          "output_type": "stream",
          "name": "stdout",
          "text": [
            "Authtoken saved to configuration file: /root/.config/ngrok/ngrok.yml\n"
          ]
        }
      ],
      "source": [
        "!ngrok config add-authtoken \"$token\""
      ]
    },
    {
      "cell_type": "code",
      "execution_count": 19,
      "metadata": {
        "id": "1Bnqt0JG0lHN"
      },
      "outputs": [],
      "source": [
        "get_ipython().system_raw('ngrok http 8888 &')\n",
        "!sleep 5s"
      ]
    },
    {
      "cell_type": "code",
      "execution_count": 20,
      "metadata": {
        "colab": {
          "base_uri": "https://localhost:8080/"
        },
        "id": "2SgR2BTl0mIt",
        "outputId": "d323451b-738b-40f6-8416-85281b40784e"
      },
      "outputs": [
        {
          "output_type": "stream",
          "name": "stdout",
          "text": [
            "https://40dd-34-124-237-168.ngrok-free.app\n"
          ]
        }
      ],
      "source": [
        "!curl -s http://localhost:4040/api/tunnels | python3 -c \"import sys, json; print(json.load(sys.stdin)['tunnels'][0]['public_url'])\""
      ]
    },
    {
      "cell_type": "code",
      "execution_count": null,
      "metadata": {
        "colab": {
          "base_uri": "https://localhost:8080/"
        },
        "id": "o40n8mNr2Jc8",
        "outputId": "e46114cd-8dfe-459c-d48c-c05c98105a6b"
      },
      "outputs": [
        {
          "output_type": "stream",
          "name": "stdout",
          "text": [
            "[Livebook] Application running at http://localhost:8888/?token=yslvuikhuq7fhhns6e5evnqdktpib5g2\n",
            "\u001b[31m13:37:48.935 [error] ** (Bandit.HTTPError) Header read socket error: :closed\n",
            "\u001b[0m\u001b[22m\n",
            "13:38:47.053 [info] EVISION_PREFER_PRECOMPILED: true; try to download and use the precompiled library.\n",
            "\u001b[0m\u001b[22m\n",
            "13:38:47.053 [info] Current target `x86_64-linux-gnu` has precompiled binaries.\n",
            "\u001b[0m\u001b[22m\n",
            "13:38:47.054 [info] Current host NIF version is `2.17`, will use precompiled binaries with NIF version 2.16.\n",
            "\u001b[0m\u001b[22m\n",
            "13:39:31.935 [info] Precompiled binary tarball downloaded and saved to /root/.cache/evision-nif_2.16-x86_64-linux-gnu-contrib-cuda12-cudnn9-0.2.9.tar.gz, sha256=3c5393068e5764e5785f354ff9c5373380d698e77d33a273f35416ab011aaa23\n",
            "\u001b[0m\u001b[22m\n",
            "13:39:54.581 [info] Copying priv directory: /root/.cache/evision-nif_2.16-x86_64-linux-gnu-contrib-cuda12-cudnn9-0.2.9/priv => /root/.cache/mix/installs/elixir-1.18.1-erts-15.2/52ad880da9ddb6ed05dd61a378ae5c30/_build/dev/lib/evision/priv\n",
            "\u001b[0m\u001b[22m\n",
            "13:40:02.987 [info] Copying generated Elixir binding files: /root/.cache/evision-nif_2.16-x86_64-linux-gnu-contrib-cuda12-cudnn9-0.2.9/elixir_generated => /root/.cache/mix/installs/elixir-1.18.1-erts-15.2/52ad880da9ddb6ed05dd61a378ae5c30/deps/evision/lib/generated\n",
            "\u001b[0m\u001b[22m\n",
            "13:41:14.666 [info] Downloading a precompiled XLA archive for target x86_64-linux-gnu-cuda12\n",
            "\u001b[0m\u001b[22m\n",
            "13:42:03.843 [info] Successfully downloaded the XLA archive\n",
            "\u001b[0m  % Total    % Received % Xferd  Average Speed   Time    Time     Time  Current\n",
            "                                 Dload  Upload   Total   Spent    Left  Speed\n",
            "100 2368M  100 2368M    0     0  17.6M      0  0:02:14  0:02:14 --:--:-- 17.6M\n",
            "WARNING: All log messages before absl::InitializeLog() is called are written to STDERR\n",
            "I0000 00:00:1735134520.718586   36212 cuda_executor.cc:1040] successful NUMA node read from SysFS had negative value (-1), but there must be at least one NUMA node, so returning NUMA node zero. See more at https://github.com/torvalds/linux/blob/v6.0/Documentation/ABI/testing/sysfs-bus-pci#L344-L355\n",
            "I0000 00:00:1735134520.725239   33339 service.cc:146] XLA service 0x7aaf20a61890 initialized for platform CUDA (this does not guarantee that XLA will be used). Devices:\n",
            "I0000 00:00:1735134520.727900   33339 service.cc:154]   StreamExecutor device (0): Tesla T4, Compute Capability 7.5\n",
            "I0000 00:00:1735134520.743814   33339 se_gpu_pjrt_client.cc:889] Using BFC allocator.\n",
            "I0000 00:00:1735134520.743903   33339 gpu_helpers.cc:114] XLA backend allocating 14252094259 bytes on device 0 for BFCAllocator.\n",
            "I0000 00:00:1735134520.743965   33339 gpu_helpers.cc:154] XLA backend will use up to 1583566028 bytes on device 0 for CollectiveBFCAllocator.\n",
            "I0000 00:00:1735134520.748183   33339 cuda_executor.cc:1040] successful NUMA node read from SysFS had negative value (-1), but there must be at least one NUMA node, so returning NUMA node zero. See more at https://github.com/torvalds/linux/blob/v6.0/Documentation/ABI/testing/sysfs-bus-pci#L344-L355\n",
            "\u001b[22m\n",
            "13:48:41.391 [info] Loaded cuDNN version 90600\n",
            "\u001b[0m\u001b[31m13:50:47.738 [error] ** (Bandit.HTTPError) Header read socket error: :closed\n",
            "\u001b[0mWARNING: All log messages before absl::InitializeLog() is called are written to STDERR\n",
            "I0000 00:00:1735134841.357244   37563 cuda_executor.cc:1040] successful NUMA node read from SysFS had negative value (-1), but there must be at least one NUMA node, so returning NUMA node zero. See more at https://github.com/torvalds/linux/blob/v6.0/Documentation/ABI/testing/sysfs-bus-pci#L344-L355\n",
            "I0000 00:00:1735134841.358565   37217 service.cc:146] XLA service 0x7da7d8216840 initialized for platform CUDA (this does not guarantee that XLA will be used). Devices:\n",
            "I0000 00:00:1735134841.358609   37217 service.cc:154]   StreamExecutor device (0): Tesla T4, Compute Capability 7.5\n",
            "I0000 00:00:1735134841.368649   37217 se_gpu_pjrt_client.cc:889] Using BFC allocator.\n",
            "I0000 00:00:1735134841.368753   37217 gpu_helpers.cc:114] XLA backend allocating 14252094259 bytes on device 0 for BFCAllocator.\n",
            "I0000 00:00:1735134841.368827   37217 gpu_helpers.cc:154] XLA backend will use up to 1583566028 bytes on device 0 for CollectiveBFCAllocator.\n",
            "I0000 00:00:1735134841.370237   37217 cuda_executor.cc:1040] successful NUMA node read from SysFS had negative value (-1), but there must be at least one NUMA node, so returning NUMA node zero. See more at https://github.com/torvalds/linux/blob/v6.0/Documentation/ABI/testing/sysfs-bus-pci#L344-L355\n",
            "\u001b[22m\n",
            "13:54:02.015 [info] Loaded cuDNN version 90600\n",
            "\u001b[0m\u001b[31m\n",
            "13:58:07.277 [error] Task #PID<0.605.0> started from #PID<0.143.0> terminating\n",
            "** (Protocol.UndefinedError) protocol Nx.LazyContainer not implemented for type Atom. This protocol is implemented for the following type(s): Any, Atom, Complex, Evision.Mat, Float, Integer, List, Map, Nx.Batch, Nx.Tensor, Tuple\n",
            "\n",
            "Got value:\n",
            "\n",
            "    Nx.BinaryBackend\n",
            "\n",
            "    (nx 0.9.2) lib/nx/lazy_container.ex:91: Nx.LazyContainer.Atom.traverse/3\n",
            "    (nx 0.9.2) lib/nx/defn/compiler.ex:789: anonymous fn/2 in Nx.Defn.Compiler.to_lazy_params/2\n",
            "    (elixir 1.18.1) lib/enum.ex:2546: Enum.\"-reduce/3-lists^foldl/2-0-\"/3\n",
            "    (nx 0.9.2) lib/nx/defn/compiler.ex:780: Nx.Defn.Compiler.to_lazy_params/2\n",
            "    (nx 0.9.2) lib/nx/defn.ex:451: Nx.Defn.do_jit_apply/3\n",
            "    (benchee 1.3.1) lib/benchee/benchmark/collect/time.ex:17: Benchee.Benchmark.Collect.Time.collect/1\n",
            "    (benchee 1.3.1) lib/benchee/benchmark/runner.ex:291: Benchee.Benchmark.Runner.collect/3\n",
            "    (benchee 1.3.1) lib/benchee/benchmark/repeated_measurement.ex:91: Benchee.Benchmark.RepeatedMeasurement.do_determine_n_times/5\n",
            "Function: #Function<2.121299024/0 in Benchee.Utility.Parallel.map/2>\n",
            "    Args: []\n",
            "\u001b[0mLogger - error: {removed_failing_handler,livebook_gl_handler}\n",
            "\u001b[31m13:58:07.296 [error] GenServer #PID<30470.144.0> terminating\n",
            "** (Protocol.UndefinedError) got UndefinedFunctionError with message \"function Nx.LazyContainer.__protocol__/1 is undefined (module Nx.LazyContainer is not available)\" while retrieving Exception.message/1 for %Protocol.UndefinedError{protocol: Nx.LazyContainer, value: Nx.BinaryBackend, description: \"\"}. Stacktrace:\n",
            "    Nx.LazyContainer.__protocol__(:impls)\n",
            "    (elixir 1.18.1) lib/exception.ex:2036: Protocol.UndefinedError.maybe_available/1\n",
            "    (elixir 1.18.1) lib/exception.ex:2009: Protocol.UndefinedError.message/1\n",
            "    (elixir 1.18.1) lib/exception.ex:85: Exception.message/1\n",
            "    (elixir 1.18.1) lib/exception.ex:136: Exception.format_banner/3\n",
            "    (logger 1.18.1) lib/logger/translator.ex:667: Logger.Translator.maybe_normalize/2\n",
            "    (logger 1.18.1) lib/logger/translator.ex:632: Logger.Translator.format_reason/1\n",
            "    (logger 1.18.1) lib/logger/translator.ex:230: Logger.Translator.report_gen_server_terminate/2\n",
            "\n",
            "    lib/nx/lazy_container.ex:91: Nx.LazyContainer.Atom.traverse/3\n",
            "    lib/nx/defn/compiler.ex:789: anonymous fn/2 in Nx.Defn.Compiler.to_lazy_params/2\n",
            "    (elixir 1.18.1) lib/enum.ex:2546: Enum.\"-reduce/3-lists^foldl/2-0-\"/3\n",
            "    lib/nx/defn/compiler.ex:780: Nx.Defn.Compiler.to_lazy_params/2\n",
            "    lib/nx/defn.ex:451: Nx.Defn.do_jit_apply/3\n",
            "    lib/benchee/benchmark/collect/time.ex:17: Benchee.Benchmark.Collect.Time.collect/1\n",
            "    lib/benchee/benchmark/runner.ex:291: Benchee.Benchmark.Runner.collect/3\n",
            "    lib/benchee/benchmark/repeated_measurement.ex:91: Benchee.Benchmark.RepeatedMeasurement.do_determine_n_times/5\n",
            "Last message: {:DOWN, #Reference<30470.1336330495.55050241.241687>, :process, #PID<30470.143.0>, {%Protocol.UndefinedError{protocol: Nx.LazyContainer, value: Nx.BinaryBackend, description: \"\"}, [{Nx.LazyContainer.Atom, :traverse, 3, [file: ~c\"lib/nx/lazy_container.ex\", line: 91]}, {Nx.Defn.Compiler, :\"-to_lazy_params/2-fun-1-\", 2, [file: ~c\"lib/nx/defn/compiler.ex\", line: 789]}, {Enum, :\"-reduce/3-lists^foldl/2-0-\", 3, [file: ~c\"lib/enum.ex\", line: 2546]}, {Nx.Defn.Compiler, :to_lazy_params, 2, [file: ~c\"lib/nx/defn/compiler.ex\", line: 780]}, {Nx.Defn, :do_jit_apply, 3, [file: ~c\"lib/nx/defn.ex\", line: 451]}, {Benchee.Benchmark.Collect.Time, :collect, 1, [file: ~c\"lib/benchee/benchmark/collect/time.ex\", line: 17]}, {Benchee.Benchmark.Runner, :collect, 3, [file: ~c\"lib/benchee/benchmark/runner.ex\", line: 291]}, {Benchee.Benchmark.RepeatedMeasurement, :do_determine_n_times, 5, [file: ~c\"lib/benchee/benchmark/repeated_measurement.ex\", line: 91]}]}}\n",
            "\u001b[0m"
          ]
        }
      ],
      "source": [
        "!livebook server --port 8888"
      ]
    }
  ],
  "metadata": {
    "accelerator": "GPU",
    "colab": {
      "provenance": [],
      "gpuType": "T4"
    },
    "kernelspec": {
      "display_name": "Python 3",
      "name": "python3"
    },
    "language_info": {
      "name": "python",
      "version": "3.11.6"
    }
  },
  "nbformat": 4,
  "nbformat_minor": 0
}