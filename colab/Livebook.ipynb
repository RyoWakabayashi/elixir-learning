{
  "cells": [
    {
      "cell_type": "code",
      "execution_count": 1,
      "metadata": {
        "colab": {
          "base_uri": "https://localhost:8080/"
        },
        "id": "iVhUmlLScbDm",
        "outputId": "5602c469-d85d-4169-8d35-654d59ac94de"
      },
      "outputs": [
        {
          "output_type": "stream",
          "name": "stdout",
          "text": [
            "PRETTY_NAME=\"Ubuntu 22.04.3 LTS\"\n",
            "NAME=\"Ubuntu\"\n",
            "VERSION_ID=\"22.04\"\n",
            "VERSION=\"22.04.3 LTS (Jammy Jellyfish)\"\n",
            "VERSION_CODENAME=jammy\n",
            "ID=ubuntu\n",
            "ID_LIKE=debian\n",
            "HOME_URL=\"https://www.ubuntu.com/\"\n",
            "SUPPORT_URL=\"https://help.ubuntu.com/\"\n",
            "BUG_REPORT_URL=\"https://bugs.launchpad.net/ubuntu/\"\n",
            "PRIVACY_POLICY_URL=\"https://www.ubuntu.com/legal/terms-and-policies/privacy-policy\"\n",
            "UBUNTU_CODENAME=jammy\n"
          ]
        }
      ],
      "source": [
        "!cat /etc/os-release"
      ]
    },
    {
      "cell_type": "code",
      "execution_count": 2,
      "metadata": {
        "colab": {
          "base_uri": "https://localhost:8080/"
        },
        "id": "hJZDfh8Ga7xX",
        "outputId": "5cd66b93-e5a2-49ef-e3c4-732a24c76f38"
      },
      "outputs": [
        {
          "output_type": "stream",
          "name": "stdout",
          "text": [
            "nvcc: NVIDIA (R) Cuda compiler driver\n",
            "Copyright (c) 2005-2023 NVIDIA Corporation\n",
            "Built on Tue_Aug_15_22:02:13_PDT_2023\n",
            "Cuda compilation tools, release 12.2, V12.2.140\n",
            "Build cuda_12.2.r12.2/compiler.33191640_0\n"
          ]
        }
      ],
      "source": [
        "!nvcc --version"
      ]
    },
    {
      "cell_type": "code",
      "execution_count": 3,
      "metadata": {
        "colab": {
          "base_uri": "https://localhost:8080/"
        },
        "id": "a0NOiHO7bX5L",
        "outputId": "a92f6d39-428f-4d00-b02b-921d23bcbabd"
      },
      "outputs": [
        {
          "output_type": "stream",
          "name": "stdout",
          "text": [
            "#define CUDNN_MAJOR 8\n",
            "#define CUDNN_MINOR 9\n",
            "#define CUDNN_PATCHLEVEL 6\n",
            "--\n",
            "#define CUDNN_VERSION (CUDNN_MAJOR * 1000 + CUDNN_MINOR * 100 + CUDNN_PATCHLEVEL)\n",
            "\n",
            "/* cannot use constexpr here since this is a C-only file */\n"
          ]
        }
      ],
      "source": [
        "!cat /usr/include/cudnn_version.h | grep CUDNN_MAJOR -A 2"
      ]
    },
    {
      "cell_type": "code",
      "source": [
        "!apt-get -y install cudnn9-cuda-12"
      ],
      "metadata": {
        "colab": {
          "base_uri": "https://localhost:8080/"
        },
        "id": "4cyDD8wjeca4",
        "outputId": "a537b3f0-13a0-4d5c-a314-6a44178c31d0"
      },
      "execution_count": 4,
      "outputs": [
        {
          "output_type": "stream",
          "name": "stdout",
          "text": [
            "Reading package lists... Done\n",
            "Building dependency tree... Done\n",
            "Reading state information... Done\n",
            "The following additional packages will be installed:\n",
            "  cudnn9-cuda-12-6 libcudnn9-cuda-12 libcudnn9-dev-cuda-12 libcudnn9-static-cuda-12\n",
            "The following NEW packages will be installed:\n",
            "  cudnn9-cuda-12 cudnn9-cuda-12-6 libcudnn9-cuda-12 libcudnn9-dev-cuda-12 libcudnn9-static-cuda-12\n",
            "0 upgraded, 5 newly installed, 0 to remove and 49 not upgraded.\n",
            "Need to get 756 MB of archives.\n",
            "After this operation, 1,875 MB of additional disk space will be used.\n",
            "Get:1 https://developer.download.nvidia.com/compute/cuda/repos/ubuntu2204/x86_64  libcudnn9-cuda-12 9.4.0.58-1 [376 MB]\n",
            "Get:2 https://developer.download.nvidia.com/compute/cuda/repos/ubuntu2204/x86_64  libcudnn9-dev-cuda-12 9.4.0.58-1 [34.2 kB]\n",
            "Get:3 https://developer.download.nvidia.com/compute/cuda/repos/ubuntu2204/x86_64  libcudnn9-static-cuda-12 9.4.0.58-1 [380 MB]\n",
            "Get:4 https://developer.download.nvidia.com/compute/cuda/repos/ubuntu2204/x86_64  cudnn9-cuda-12-6 9.4.0.58-1 [12.3 kB]\n",
            "Get:5 https://developer.download.nvidia.com/compute/cuda/repos/ubuntu2204/x86_64  cudnn9-cuda-12 9.4.0.58-1 [12.3 kB]\n",
            "Fetched 756 MB in 11s (67.2 MB/s)\n",
            "Selecting previously unselected package libcudnn9-cuda-12.\n",
            "(Reading database ... 123620 files and directories currently installed.)\n",
            "Preparing to unpack .../libcudnn9-cuda-12_9.4.0.58-1_amd64.deb ...\n",
            "Unpacking libcudnn9-cuda-12 (9.4.0.58-1) ...\n",
            "Selecting previously unselected package libcudnn9-dev-cuda-12.\n",
            "Preparing to unpack .../libcudnn9-dev-cuda-12_9.4.0.58-1_amd64.deb ...\n",
            "Unpacking libcudnn9-dev-cuda-12 (9.4.0.58-1) ...\n",
            "Selecting previously unselected package libcudnn9-static-cuda-12.\n",
            "Preparing to unpack .../libcudnn9-static-cuda-12_9.4.0.58-1_amd64.deb ...\n",
            "Unpacking libcudnn9-static-cuda-12 (9.4.0.58-1) ...\n",
            "Selecting previously unselected package cudnn9-cuda-12-6.\n",
            "Preparing to unpack .../cudnn9-cuda-12-6_9.4.0.58-1_amd64.deb ...\n",
            "Unpacking cudnn9-cuda-12-6 (9.4.0.58-1) ...\n",
            "Selecting previously unselected package cudnn9-cuda-12.\n",
            "Preparing to unpack .../cudnn9-cuda-12_9.4.0.58-1_amd64.deb ...\n",
            "Unpacking cudnn9-cuda-12 (9.4.0.58-1) ...\n",
            "Setting up libcudnn9-cuda-12 (9.4.0.58-1) ...\n",
            "Setting up libcudnn9-dev-cuda-12 (9.4.0.58-1) ...\n",
            "update-alternatives: using /usr/include/x86_64-linux-gnu/cudnn_v9.h to provide /usr/include/cudnn.h (libcudnn) in manual mode\n",
            "Setting up libcudnn9-static-cuda-12 (9.4.0.58-1) ...\n",
            "Setting up cudnn9-cuda-12-6 (9.4.0.58-1) ...\n",
            "Setting up cudnn9-cuda-12 (9.4.0.58-1) ...\n",
            "Processing triggers for libc-bin (2.35-0ubuntu3.4) ...\n",
            "/sbin/ldconfig.real: /usr/local/lib/libur_adapter_level_zero.so.0 is not a symbolic link\n",
            "\n",
            "/sbin/ldconfig.real: /usr/local/lib/libtbbmalloc_proxy.so.2 is not a symbolic link\n",
            "\n",
            "/sbin/ldconfig.real: /usr/local/lib/libtbb.so.12 is not a symbolic link\n",
            "\n",
            "/sbin/ldconfig.real: /usr/local/lib/libtbbbind.so.3 is not a symbolic link\n",
            "\n",
            "/sbin/ldconfig.real: /usr/local/lib/libtbbmalloc.so.2 is not a symbolic link\n",
            "\n",
            "/sbin/ldconfig.real: /usr/local/lib/libtbbbind_2_0.so.3 is not a symbolic link\n",
            "\n",
            "/sbin/ldconfig.real: /usr/local/lib/libur_loader.so.0 is not a symbolic link\n",
            "\n",
            "/sbin/ldconfig.real: /usr/local/lib/libur_adapter_opencl.so.0 is not a symbolic link\n",
            "\n",
            "/sbin/ldconfig.real: /usr/local/lib/libtbbbind_2_5.so.3 is not a symbolic link\n",
            "\n"
          ]
        }
      ]
    },
    {
      "cell_type": "code",
      "source": [
        "!cat /usr/include/cudnn_version.h | grep CUDNN_MAJOR -A 2"
      ],
      "metadata": {
        "colab": {
          "base_uri": "https://localhost:8080/"
        },
        "id": "Kh2FP4rUegO5",
        "outputId": "d4dd3828-0d5f-4757-9be9-dfde8231e9cd"
      },
      "execution_count": 5,
      "outputs": [
        {
          "output_type": "stream",
          "name": "stdout",
          "text": [
            "#define CUDNN_MAJOR 9\n",
            "#define CUDNN_MINOR 4\n",
            "#define CUDNN_PATCHLEVEL 0\n",
            "--\n",
            "#define CUDNN_VERSION (CUDNN_MAJOR * 10000 + CUDNN_MINOR * 100 + CUDNN_PATCHLEVEL)\n",
            "\n",
            "/* cannot use constexpr here since this is a C-only file */\n"
          ]
        }
      ]
    },
    {
      "cell_type": "code",
      "execution_count": 6,
      "metadata": {
        "colab": {
          "base_uri": "https://localhost:8080/"
        },
        "id": "Cpa7KrfpOsDl",
        "outputId": "a618d19e-2494-474d-8d56-ada71731e6d1"
      },
      "outputs": [
        {
          "output_type": "stream",
          "name": "stdout",
          "text": [
            "Cloning into '/root/.asdf'...\n",
            "remote: Enumerating objects: 8855, done.\u001b[K\n",
            "remote: Counting objects: 100% (768/768), done.\u001b[K\n",
            "remote: Compressing objects: 100% (455/455), done.\u001b[K\n",
            "remote: Total 8855 (delta 393), reused 598 (delta 294), pack-reused 8087 (from 1)\u001b[K\n",
            "Receiving objects: 100% (8855/8855), 3.08 MiB | 6.49 MiB/s, done.\n",
            "Resolving deltas: 100% (5235/5235), done.\n"
          ]
        }
      ],
      "source": [
        "!git clone https://github.com/asdf-vm/asdf.git ~/.asdf"
      ]
    },
    {
      "cell_type": "code",
      "execution_count": 7,
      "metadata": {
        "id": "FNeJ1DlmVEaK"
      },
      "outputs": [],
      "source": [
        "import os\n",
        "os.environ['PATH'] = \"/root/.asdf/shims:/root/.asdf/bin:\" + os.environ['PATH']"
      ]
    },
    {
      "cell_type": "code",
      "execution_count": 8,
      "metadata": {
        "colab": {
          "base_uri": "https://localhost:8080/"
        },
        "id": "W7z2XfB1SNjN",
        "outputId": "0a5e8caf-e432-443b-83cb-d7d9c088466a"
      },
      "outputs": [
        {
          "output_type": "stream",
          "name": "stdout",
          "text": [
            "initializing plugin repository...Cloning into '/root/.asdf/repository'...\n",
            "remote: Enumerating objects: 5854, done.\u001b[K\n",
            "remote: Counting objects: 100% (1639/1639), done.\u001b[K\n",
            "remote: Compressing objects: 100% (63/63), done.\u001b[K\n",
            "remote: Total 5854 (delta 1590), reused 1612 (delta 1575), pack-reused 4215 (from 1)\u001b[K\n",
            "Receiving objects: 100% (5854/5854), 1.32 MiB | 3.59 MiB/s, done.\n",
            "Resolving deltas: 100% (3202/3202), done.\n",
            "Downloading kerl...\n",
            "  % Total    % Received % Xferd  Average Speed   Time    Time     Time  Current\n",
            "                                 Dload  Upload   Total   Spent    Left  Speed\n",
            "100 83809  100 83809    0     0   359k      0 --:--:-- --:--:-- --:--:--  360k\n",
            "\u001b[31mERROR: 'asdf_27.1' is not a kerl-managed Erlang/OTP installation.\u001b[m\n",
            "\u001b[31mERROR: no build named 'asdf_27.1'!\u001b[m\n",
            "\u001b[34mDownloading (from GitHub) Erlang/OTP 27.1 to /root/.asdf/downloads/erlang/27.1...\u001b[m\n",
            "\u001b[34mExtracting source code for normal build...\u001b[m\n",
            "\u001b[34mBuilding (normal) Erlang/OTP 27.1 (asdf_27.1); please wait...\u001b[m\n",
            "\u001b[36mInitializing (build) log file at /root/.asdf/plugins/erlang/kerl-home/builds/asdf_27.1/otp_build_27.1.log.\u001b[m\n",
            "APPLICATIONS INFORMATION (See: /root/.asdf/plugins/erlang/kerl-home/builds/asdf_27.1/otp_build_27.1.log)\n",
            " * wx             : No OpenGL headers found, wx will NOT be usable\n",
            " * No GLU headers found, wx will NOT be usable\n",
            " * wxWidgets was not compiled with --enable-webview or wxWebView developer package is not installed, wxWebView will NOT be available\n",
            " *         wxWidgets must be installed on your system.\n",
            " *         Please check that wx-config is in path, the directory\n",
            " *         where wxWidgets libraries are installed (returned by\n",
            " *         'wx-config --libs' or 'wx-config --static --libs' command)\n",
            " *         is in LD_LIBRARY_PATH or equivalent variable and\n",
            " *         wxWidgets version is 3.0.2 or above.\n",
            "\n",
            "\u001b[32mErlang/OTP 27.1 (asdf_27.1) has been successfully built.\u001b[m\n",
            "\u001b[34mCleaning up compilation products for 'asdf_27.1' under:\u001b[m\n",
            "\u001b[34m  - /root/.asdf/plugins/erlang/kerl-home/builds...\u001b[m\n",
            "\u001b[34m  - /root/.asdf/downloads/erlang/27.1...\u001b[m\n",
            "\u001b[34m... done.\u001b[m\n"
          ]
        }
      ],
      "source": [
        "!asdf plugin add erlang\n",
        "!asdf install erlang 27.1\n",
        "!asdf global erlang 27.1"
      ]
    },
    {
      "cell_type": "code",
      "execution_count": 9,
      "metadata": {
        "colab": {
          "base_uri": "https://localhost:8080/"
        },
        "id": "g7BIHk16VOdD",
        "outputId": "a100d877-0280-4c82-fb4f-7d1db3ae3b54"
      },
      "outputs": [
        {
          "output_type": "stream",
          "name": "stdout",
          "text": [
            "==> Checking whether specified Elixir release exists...\n",
            "==> Downloading 1.17.3-otp-27 to /root/.asdf/downloads/elixir/1.17.3-otp-27/elixir-precompiled-1.17.3-otp-27.zip\n",
            "  % Total    % Received % Xferd  Average Speed   Time    Time     Time  Current\n",
            "                                 Dload  Upload   Total   Spent    Left  Speed\n",
            "100 7196k  100 7196k    0     0  18.0M      0 --:--:-- --:--:-- --:--:-- 17.9M\n",
            "==> Copying release into place\n"
          ]
        }
      ],
      "source": [
        "!asdf plugin add elixir\n",
        "!asdf install elixir 1.17.3-otp-27\n",
        "!asdf global elixir 1.17.3-otp-27"
      ]
    },
    {
      "cell_type": "code",
      "execution_count": 10,
      "metadata": {
        "colab": {
          "base_uri": "https://localhost:8080/"
        },
        "id": "c_ooaB_m0fRr",
        "outputId": "2ff4bf05-b85c-4e86-b518-a7d7289a17c0"
      },
      "outputs": [
        {
          "output_type": "stream",
          "name": "stdout",
          "text": [
            "Erlang/OTP 27 [erts-15.1] [source] [64-bit] [smp:2:2] [ds:2:2:10] [async-threads:1] [jit:ns]\n",
            "\n",
            "Elixir 1.17.3 (compiled with Erlang/OTP 27)\n"
          ]
        }
      ],
      "source": [
        "!elixir -v"
      ]
    },
    {
      "cell_type": "code",
      "execution_count": 11,
      "metadata": {
        "colab": {
          "base_uri": "https://localhost:8080/"
        },
        "id": "eUu-mVsmV_4Y",
        "outputId": "b02c4dcd-1760-4a00-cc68-f41dc6da41ac"
      },
      "outputs": [
        {
          "output_type": "stream",
          "name": "stdout",
          "text": [
            "\u001b[32m* creating \u001b[0m/root/.asdf/installs/elixir/1.17.3-otp-27/.mix/archives/hex-2.1.1\u001b[0m\n",
            "\u001b[32m* creating \u001b[0m/root/.asdf/installs/elixir/1.17.3-otp-27/.mix/elixir/1-17/rebar3\u001b[0m\n",
            "Resolving Hex dependencies...\n",
            "Resolution completed in 0.407s\n",
            "New:\n",
            "\u001b[32m  aws_credentials 0.3.2\u001b[31m\u001b[0m\n",
            "\u001b[32m  aws_signature 0.3.2\u001b[31m\u001b[0m\n",
            "\u001b[32m  bandit 1.5.7\u001b[31m\u001b[0m\n",
            "\u001b[32m  castore 1.0.9\u001b[31m\u001b[0m\n",
            "\u001b[32m  decimal 2.1.1\u001b[31m\u001b[0m\n",
            "\u001b[32m  dns_cluster 0.1.3\u001b[31m\u001b[0m\n",
            "\u001b[32m  earmark_parser 1.4.41\u001b[31m\u001b[0m\n",
            "\u001b[32m  ecto 3.12.3\u001b[31m\u001b[0m\n",
            "\u001b[32m  eini_beam 2.2.4\u001b[31m\u001b[0m\n",
            "\u001b[32m  finch 0.19.0\u001b[31m\u001b[0m\n",
            "\u001b[32m  hpax 1.0.0\u001b[31m\u001b[0m\n",
            "\u001b[32m  iso8601 1.3.4\u001b[31m\u001b[0m\n",
            "\u001b[32m  jason 1.4.4\u001b[31m\u001b[0m\n",
            "\u001b[32m  jose 1.11.10\u001b[31m\u001b[0m\n",
            "\u001b[32m  jsx 3.1.0\u001b[31m\u001b[0m\n",
            "\u001b[32m  kubereq 0.2.0\u001b[31m\u001b[0m\n",
            "\u001b[32m  livebook 0.14.3\u001b[31m\u001b[0m\n",
            "\u001b[32m  mime 2.0.6\u001b[31m\u001b[0m\n",
            "\u001b[32m  mint 1.6.2\u001b[31m\u001b[0m\n",
            "\u001b[32m  mint_web_socket 1.0.4\u001b[31m\u001b[0m\n",
            "\u001b[32m  nimble_options 1.1.1\u001b[31m\u001b[0m\n",
            "\u001b[32m  nimble_pool 1.1.0\u001b[31m\u001b[0m\n",
            "\u001b[32m  phoenix 1.7.14\u001b[31m\u001b[0m\n",
            "\u001b[32m  phoenix_ecto 4.6.2\u001b[31m\u001b[0m\n",
            "\u001b[32m  phoenix_html 4.1.1\u001b[31m\u001b[0m\n",
            "\u001b[32m  phoenix_live_dashboard 0.8.4-rc.0\u001b[31m\u001b[0m\n",
            "\u001b[32m  phoenix_live_view 1.0.0-rc.6\u001b[31m\u001b[0m\n",
            "\u001b[32m  phoenix_pubsub 2.1.3\u001b[31m\u001b[0m\n",
            "\u001b[32m  phoenix_template 1.0.4\u001b[31m\u001b[0m\n",
            "\u001b[32m  plug 1.16.1\u001b[31m\u001b[0m\n",
            "\u001b[32m  plug_crypto 2.1.0\u001b[31m\u001b[0m\n",
            "\u001b[32m  pluggable 1.1.0\u001b[31m\u001b[0m\n",
            "\u001b[32m  protobuf 0.13.0\u001b[31m\u001b[0m\n",
            "\u001b[32m  req 0.5.6\u001b[31m\u001b[0m\n",
            "\u001b[32m  telemetry 1.3.0\u001b[31m\u001b[0m\n",
            "\u001b[32m  telemetry_metrics 1.0.0\u001b[31m\u001b[0m\n",
            "\u001b[32m  telemetry_poller 1.1.0\u001b[31m\u001b[0m\n",
            "\u001b[32m  thousand_island 1.3.5\u001b[31m\u001b[0m\n",
            "\u001b[32m  websock 0.5.3\u001b[31m\u001b[0m\n",
            "\u001b[32m  websock_adapter 0.5.7\u001b[31m\u001b[0m\n",
            "\u001b[32m  yamerl 0.10.0\u001b[31m\u001b[0m\n",
            "\u001b[32m  yaml_elixir 2.11.0\u001b[31m\u001b[0m\n",
            "* Getting livebook (Hex package)\n",
            "* Getting aws_credentials (Hex package)\n",
            "* Getting aws_signature (Hex package)\n",
            "* Getting bandit (Hex package)\n",
            "* Getting dns_cluster (Hex package)\n",
            "* Getting earmark_parser (Hex package)\n",
            "* Getting ecto (Hex package)\n",
            "* Getting jason (Hex package)\n",
            "* Getting jose (Hex package)\n",
            "* Getting kubereq (Hex package)\n",
            "* Getting mint_web_socket (Hex package)\n",
            "* Getting phoenix (Hex package)\n",
            "* Getting phoenix_ecto (Hex package)\n",
            "* Getting phoenix_html (Hex package)\n",
            "* Getting phoenix_live_dashboard (Hex package)\n",
            "* Getting phoenix_live_view (Hex package)\n",
            "* Getting plug (Hex package)\n",
            "* Getting plug_crypto (Hex package)\n",
            "* Getting protobuf (Hex package)\n",
            "* Getting req (Hex package)\n",
            "* Getting telemetry_metrics (Hex package)\n",
            "* Getting telemetry_poller (Hex package)\n",
            "* Getting yaml_elixir (Hex package)\n",
            "* Getting yamerl (Hex package)\n",
            "* Getting telemetry (Hex package)\n",
            "* Getting finch (Hex package)\n",
            "* Getting mime (Hex package)\n",
            "* Getting mint (Hex package)\n",
            "* Getting nimble_options (Hex package)\n",
            "* Getting nimble_pool (Hex package)\n",
            "* Getting hpax (Hex package)\n",
            "* Getting phoenix_template (Hex package)\n",
            "* Getting castore (Hex package)\n",
            "* Getting phoenix_pubsub (Hex package)\n",
            "* Getting websock_adapter (Hex package)\n",
            "* Getting websock (Hex package)\n",
            "* Getting pluggable (Hex package)\n",
            "* Getting decimal (Hex package)\n",
            "* Getting thousand_island (Hex package)\n",
            "* Getting eini (Hex package)\n",
            "* Getting iso8601 (Hex package)\n",
            "* Getting jsx (Hex package)\n",
            "You have added/upgraded packages you could sponsor, run `mix hex.sponsor` to learn more\n",
            "Resolving Hex dependencies...\n",
            "Resolution completed in 0.169s\n",
            "Unchanged:\n",
            "  aws_credentials 0.3.2\n",
            "  aws_signature 0.3.2\n",
            "  bandit 1.5.7\n",
            "  castore 1.0.9\n",
            "  decimal 2.1.1\n",
            "  dns_cluster 0.1.3\n",
            "  earmark_parser 1.4.41\n",
            "  ecto 3.12.3\n",
            "  eini_beam 2.2.4\n",
            "  finch 0.19.0\n",
            "  hpax 1.0.0\n",
            "  iso8601 1.3.4\n",
            "  jason 1.4.4\n",
            "  jose 1.11.10\n",
            "  jsx 3.1.0\n",
            "  kubereq 0.2.0\n",
            "  mime 2.0.6\n",
            "  mint 1.6.2\n",
            "  mint_web_socket 1.0.4\n",
            "  nimble_options 1.1.1\n",
            "  nimble_pool 1.1.0\n",
            "  phoenix 1.7.14\n",
            "  phoenix_ecto 4.6.2\n",
            "  phoenix_html 4.1.1\n",
            "  phoenix_live_dashboard 0.8.4-rc.0\n",
            "  phoenix_live_view 1.0.0-rc.6\n",
            "  phoenix_pubsub 2.1.3\n",
            "  phoenix_template 1.0.4\n",
            "  plug 1.16.1\n",
            "  plug_crypto 2.1.0\n",
            "  pluggable 1.1.0\n",
            "  protobuf 0.13.0\n",
            "  req 0.5.6\n",
            "  telemetry 1.3.0\n",
            "  telemetry_metrics 1.0.0\n",
            "  telemetry_poller 1.1.0\n",
            "  thousand_island 1.3.5\n",
            "  websock 0.5.3\n",
            "  websock_adapter 0.5.7\n",
            "  yamerl 0.10.0\n",
            "  yaml_elixir 2.11.0\n",
            "All dependencies are up to date\n",
            "==> earmark_parser\n",
            "Compiling 2 files (.xrl)\n",
            "Compiling 1 file (.yrl)\n",
            "Compiling 3 files (.erl)\n",
            "Compiling 46 files (.ex)\n",
            "Generated earmark_parser app\n",
            "===> Analyzing applications...\n",
            "===> Compiling aws_signature\n",
            "==> pluggable\n",
            "Compiling 4 files (.ex)\n",
            "Generated pluggable app\n",
            "==> decimal\n",
            "Compiling 4 files (.ex)\n",
            "Generated decimal app\n",
            "==> mime\n",
            "Compiling 1 file (.ex)\n",
            "Generated mime app\n",
            "===> Analyzing applications...\n",
            "===> Compiling iso8601\n",
            "==> nimble_options\n",
            "Compiling 3 files (.ex)\n",
            "Generated nimble_options app\n",
            "===> Fetching rebar3_hex v7.0.8\n",
            "===> Fetching hex_core v0.10.1\n",
            "===> Fetching verl v1.1.1\n",
            "===> Analyzing applications...\n",
            "===> Compiling verl\n",
            "===> Compiling hex_core\n",
            "===> Compiling rebar3_hex\n",
            "===> Analyzing applications...\n",
            "===> Compiling eini\n",
            "===> Analyzing applications...\n",
            "===> Compiling telemetry\n",
            "==> telemetry_metrics\n",
            "Compiling 7 files (.ex)\n",
            "Generated telemetry_metrics app\n",
            "===> Analyzing applications...\n",
            "===> Compiling telemetry_poller\n",
            "==> thousand_island\n",
            "Compiling 16 files (.ex)\n",
            "Generated thousand_island app\n",
            "==> jason\n",
            "Compiling 10 files (.ex)\n",
            "Generated jason app\n",
            "==> phoenix_html\n",
            "Compiling 6 files (.ex)\n",
            "Generated phoenix_html app\n",
            "==> phoenix_template\n",
            "Compiling 4 files (.ex)\n",
            "Generated phoenix_template app\n",
            "==> phoenix_pubsub\n",
            "Compiling 11 files (.ex)\n",
            "Generated phoenix_pubsub app\n",
            "==> plug_crypto\n",
            "Compiling 5 files (.ex)\n",
            "Generated plug_crypto app\n",
            "==> hpax\n",
            "Compiling 4 files (.ex)\n",
            "Generated hpax app\n",
            "===> Analyzing applications...\n",
            "===> Compiling yamerl\n",
            "==> yaml_elixir\n",
            "Compiling 6 files (.ex)\n",
            "Generated yaml_elixir app\n",
            "==> dns_cluster\n",
            "Compiling 1 file (.ex)\n",
            "Generated dns_cluster app\n",
            "==> jose\n",
            "Compiling 112 files (.erl)\n",
            "Compiling 8 files (.ex)\n",
            "Generated jose app\n",
            "===> Analyzing applications...\n",
            "===> Compiling jsx\n",
            "===> Fetching rebar3_lint v3.0.1\n",
            "===> Fetching elvis_core v3.0.1\n",
            "===> Fetching katana_code v2.0.2\n",
            "===> Fetching zipper v1.0.1\n",
            "===> Analyzing applications...\n",
            "===> Compiling zipper\n",
            "===> Compiling katana_code\n",
            "===> Compiling elvis_core\n",
            "===> Compiling rebar3_lint\n",
            "===> Analyzing applications...\n",
            "===> Compiling aws_credentials\n",
            "src/aws_credentials.erl:6:2: Warning: the callback gen_server:format_status(_,_) is deprecated; use format_status/1 instead\n",
            "\n",
            "==> ecto\n",
            "Compiling 56 files (.ex)\n",
            "Generated ecto app\n",
            "==> plug\n",
            "Compiling 1 file (.erl)\n",
            "Compiling 40 files (.ex)\n",
            "Generated plug app\n",
            "==> protobuf\n",
            "Compiling 38 files (.ex)\n",
            "Generated protobuf app\n",
            "==> nimble_pool\n",
            "Compiling 2 files (.ex)\n",
            "Generated nimble_pool app\n",
            "==> castore\n",
            "Compiling 1 file (.ex)\n",
            "Generated castore app\n",
            "==> mint\n",
            "Compiling 1 file (.erl)\n",
            "Compiling 20 files (.ex)\n",
            "Generated mint app\n",
            "==> mint_web_socket\n",
            "Compiling 7 files (.ex)\n",
            "Generated mint_web_socket app\n",
            "==> finch\n",
            "Compiling 14 files (.ex)\n",
            "Generated finch app\n",
            "==> req\n",
            "Compiling 17 files (.ex)\n",
            "Generated req app\n",
            "==> kubereq\n",
            "Compiling 22 files (.ex)\n",
            "Generated kubereq app\n",
            "==> websock\n",
            "Compiling 1 file (.ex)\n",
            "Generated websock app\n",
            "==> bandit\n",
            "Compiling 50 files (.ex)\n",
            "Generated bandit app\n",
            "==> websock_adapter\n",
            "Compiling 4 files (.ex)\n",
            "Generated websock_adapter app\n",
            "==> phoenix\n",
            "Compiling 71 files (.ex)\n",
            "Generated phoenix app\n",
            "==> phoenix_live_view\n",
            "Compiling 39 files (.ex)\n",
            "Generated phoenix_live_view app\n",
            "==> phoenix_live_dashboard\n",
            "Compiling 36 files (.ex)\n",
            "Generated phoenix_live_dashboard app\n",
            "==> phoenix_ecto\n",
            "Compiling 7 files (.ex)\n",
            "Generated phoenix_ecto app\n",
            "==> livebook\n",
            "Compiling 283 files (.ex)\n",
            "Generated livebook app\n",
            "Generated escript livebook with MIX_ENV=prod\n",
            "\u001b[32m* creating \u001b[0m/root/.asdf/installs/elixir/1.17.3-otp-27/.mix/escripts/livebook\u001b[0m\n"
          ]
        }
      ],
      "source": [
        "!mix local.hex --force\n",
        "!mix local.rebar --force\n",
        "!mix escript.install hex livebook --force"
      ]
    },
    {
      "cell_type": "code",
      "execution_count": 12,
      "metadata": {
        "id": "6uuDYpEjz3Z6"
      },
      "outputs": [],
      "source": [
        "!asdf reshim elixir"
      ]
    },
    {
      "cell_type": "code",
      "execution_count": 13,
      "metadata": {
        "colab": {
          "base_uri": "https://localhost:8080/"
        },
        "id": "adaMeXvs0j7D",
        "outputId": "4b8858fb-8043-4853-bae6-83ed30a136f8"
      },
      "outputs": [
        {
          "output_type": "stream",
          "name": "stdout",
          "text": [
            "Erlang/OTP 27 [erts-15.1] [source] [64-bit] [smp:2:2] [ds:2:2:10] [async-threads:1] [jit:ns]\n",
            "\n",
            "Elixir 1.17.3 (compiled with Erlang/OTP 27)\n",
            "\n",
            "Livebook 0.14.3\n"
          ]
        }
      ],
      "source": [
        "!livebook -v"
      ]
    },
    {
      "cell_type": "code",
      "execution_count": 14,
      "metadata": {
        "colab": {
          "base_uri": "https://localhost:8080/"
        },
        "id": "PCfT5nTT_G-n",
        "outputId": "73bdfcf8-40ed-4852-8795-d4ad065488ff"
      },
      "outputs": [
        {
          "output_type": "stream",
          "name": "stdout",
          "text": [
            "\r0% [Working]\r            \rGet:1 https://cloud.r-project.org/bin/linux/ubuntu jammy-cran40/ InRelease [3,626 B]\n",
            "Hit:2 https://developer.download.nvidia.com/compute/cuda/repos/ubuntu2204/x86_64  InRelease\n",
            "Hit:3 http://archive.ubuntu.com/ubuntu jammy InRelease\n",
            "Get:4 http://archive.ubuntu.com/ubuntu jammy-updates InRelease [128 kB]\n",
            "Ign:5 https://r2u.stat.illinois.edu/ubuntu jammy InRelease\n",
            "Get:6 http://security.ubuntu.com/ubuntu jammy-security InRelease [129 kB]\n",
            "Get:7 https://r2u.stat.illinois.edu/ubuntu jammy Release [5,713 B]\n",
            "Get:8 https://r2u.stat.illinois.edu/ubuntu jammy Release.gpg [793 B]\n",
            "Hit:9 http://archive.ubuntu.com/ubuntu jammy-backports InRelease\n",
            "Get:10 https://r2u.stat.illinois.edu/ubuntu jammy/main all Packages [8,370 kB]\n",
            "Get:11 http://archive.ubuntu.com/ubuntu jammy-updates/main amd64 Packages [2,596 kB]\n",
            "Hit:12 https://ppa.launchpadcontent.net/deadsnakes/ppa/ubuntu jammy InRelease\n",
            "Get:13 https://ppa.launchpadcontent.net/graphics-drivers/ppa/ubuntu jammy InRelease [24.3 kB]\n",
            "Get:14 http://security.ubuntu.com/ubuntu jammy-security/main amd64 Packages [2,318 kB]\n",
            "Get:15 http://archive.ubuntu.com/ubuntu jammy-updates/universe amd64 Packages [1,447 kB]\n",
            "Get:16 https://r2u.stat.illinois.edu/ubuntu jammy/main amd64 Packages [2,593 kB]\n",
            "Hit:17 https://ppa.launchpadcontent.net/ubuntugis/ppa/ubuntu jammy InRelease\n",
            "Get:18 https://ppa.launchpadcontent.net/graphics-drivers/ppa/ubuntu jammy/main amd64 Packages [54.3 kB]\n",
            "Get:19 http://security.ubuntu.com/ubuntu jammy-security/universe amd64 Packages [1,159 kB]\n",
            "Fetched 18.8 MB in 2s (8,539 kB/s)\n",
            "Reading package lists... Done\n",
            "W: Skipping acquire of configured file 'main/source/Sources' as repository 'https://r2u.stat.illinois.edu/ubuntu jammy InRelease' does not seem to provide it (sources.list entry misspelt?)\n",
            "Reading package lists... Done\n",
            "Building dependency tree... Done\n",
            "Reading state information... Done\n",
            "build-essential is already the newest version (12.9ubuntu3).\n",
            "The following additional packages will be installed:\n",
            "  erlang-base erlang-crypto erlang-syntax-tools libsctp1\n",
            "Suggested packages:\n",
            "  erlang-tools erlang erlang-manpages erlang-doc lksctp-tools\n",
            "The following NEW packages will be installed:\n",
            "  erlang-base erlang-crypto erlang-dev erlang-syntax-tools libsctp1\n",
            "0 upgraded, 5 newly installed, 0 to remove and 49 not upgraded.\n",
            "Need to get 10.6 MB of archives.\n",
            "After this operation, 20.5 MB of additional disk space will be used.\n",
            "Get:1 http://archive.ubuntu.com/ubuntu jammy-updates/main amd64 erlang-base amd64 1:24.2.1+dfsg-1ubuntu0.1 [9,829 kB]\n",
            "Get:2 http://archive.ubuntu.com/ubuntu jammy-updates/main amd64 erlang-crypto amd64 1:24.2.1+dfsg-1ubuntu0.1 [157 kB]\n",
            "Get:3 http://archive.ubuntu.com/ubuntu jammy-updates/main amd64 erlang-dev amd64 1:24.2.1+dfsg-1ubuntu0.1 [327 kB]\n",
            "Get:4 http://archive.ubuntu.com/ubuntu jammy-updates/main amd64 erlang-syntax-tools amd64 1:24.2.1+dfsg-1ubuntu0.1 [303 kB]\n",
            "Get:5 http://archive.ubuntu.com/ubuntu jammy/main amd64 libsctp1 amd64 1.0.19+dfsg-1build1 [9,370 B]\n",
            "Fetched 10.6 MB in 1s (9,549 kB/s)\n",
            "debconf: unable to initialize frontend: Dialog\n",
            "debconf: (No usable dialog-like program is installed, so the dialog based frontend cannot be used. at /usr/share/perl5/Debconf/FrontEnd/Dialog.pm line 78, <> line 5.)\n",
            "debconf: falling back to frontend: Readline\n",
            "debconf: unable to initialize frontend: Readline\n",
            "debconf: (This frontend requires a controlling tty.)\n",
            "debconf: falling back to frontend: Teletype\n",
            "dpkg-preconfigure: unable to re-open stdin: \n",
            "Selecting previously unselected package erlang-base.\n",
            "(Reading database ... 123675 files and directories currently installed.)\n",
            "Preparing to unpack .../erlang-base_1%3a24.2.1+dfsg-1ubuntu0.1_amd64.deb ...\n",
            "Unpacking erlang-base (1:24.2.1+dfsg-1ubuntu0.1) ...\n",
            "Selecting previously unselected package erlang-crypto.\n",
            "Preparing to unpack .../erlang-crypto_1%3a24.2.1+dfsg-1ubuntu0.1_amd64.deb ...\n",
            "Unpacking erlang-crypto (1:24.2.1+dfsg-1ubuntu0.1) ...\n",
            "Selecting previously unselected package erlang-dev.\n",
            "Preparing to unpack .../erlang-dev_1%3a24.2.1+dfsg-1ubuntu0.1_amd64.deb ...\n",
            "Unpacking erlang-dev (1:24.2.1+dfsg-1ubuntu0.1) ...\n",
            "Selecting previously unselected package erlang-syntax-tools.\n",
            "Preparing to unpack .../erlang-syntax-tools_1%3a24.2.1+dfsg-1ubuntu0.1_amd64.deb ...\n",
            "Unpacking erlang-syntax-tools (1:24.2.1+dfsg-1ubuntu0.1) ...\n",
            "Selecting previously unselected package libsctp1:amd64.\n",
            "Preparing to unpack .../libsctp1_1.0.19+dfsg-1build1_amd64.deb ...\n",
            "Unpacking libsctp1:amd64 (1.0.19+dfsg-1build1) ...\n",
            "Setting up erlang-base (1:24.2.1+dfsg-1ubuntu0.1) ...\n",
            "Searching for services which depend on erlang and should be started... none found.\n",
            "Setting up erlang-syntax-tools (1:24.2.1+dfsg-1ubuntu0.1) ...\n",
            "Setting up erlang-dev (1:24.2.1+dfsg-1ubuntu0.1) ...\n",
            "Setting up libsctp1:amd64 (1.0.19+dfsg-1build1) ...\n",
            "Setting up erlang-crypto (1:24.2.1+dfsg-1ubuntu0.1) ...\n",
            "Processing triggers for man-db (2.10.2-1) ...\n",
            "Processing triggers for libc-bin (2.35-0ubuntu3.4) ...\n",
            "/sbin/ldconfig.real: /usr/local/lib/libur_adapter_level_zero.so.0 is not a symbolic link\n",
            "\n",
            "/sbin/ldconfig.real: /usr/local/lib/libtbbmalloc_proxy.so.2 is not a symbolic link\n",
            "\n",
            "/sbin/ldconfig.real: /usr/local/lib/libtbb.so.12 is not a symbolic link\n",
            "\n",
            "/sbin/ldconfig.real: /usr/local/lib/libtbbbind.so.3 is not a symbolic link\n",
            "\n",
            "/sbin/ldconfig.real: /usr/local/lib/libtbbmalloc.so.2 is not a symbolic link\n",
            "\n",
            "/sbin/ldconfig.real: /usr/local/lib/libtbbbind_2_0.so.3 is not a symbolic link\n",
            "\n",
            "/sbin/ldconfig.real: /usr/local/lib/libur_loader.so.0 is not a symbolic link\n",
            "\n",
            "/sbin/ldconfig.real: /usr/local/lib/libur_adapter_opencl.so.0 is not a symbolic link\n",
            "\n",
            "/sbin/ldconfig.real: /usr/local/lib/libtbbbind_2_5.so.3 is not a symbolic link\n",
            "\n"
          ]
        }
      ],
      "source": [
        "!sudo apt-get update && sudo apt-get install -y build-essential erlang-dev"
      ]
    },
    {
      "cell_type": "code",
      "execution_count": 15,
      "metadata": {
        "colab": {
          "base_uri": "https://localhost:8080/"
        },
        "id": "bqATRF-xhvPQ",
        "outputId": "da31d5f8-07ba-4053-c97d-46f2c9d765e6"
      },
      "outputs": [
        {
          "output_type": "stream",
          "name": "stdout",
          "text": [
            "\r0% [Working]\r            \rHit:1 https://cloud.r-project.org/bin/linux/ubuntu jammy-cran40/ InRelease\n",
            "\r0% [Connecting to archive.ubuntu.com (91.189.91.83)] [Connecting to security.ub\r                                                                               \rHit:2 https://developer.download.nvidia.com/compute/cuda/repos/ubuntu2204/x86_64  InRelease\n",
            "Hit:3 http://archive.ubuntu.com/ubuntu jammy InRelease\n",
            "Hit:4 http://archive.ubuntu.com/ubuntu jammy-updates InRelease\n",
            "Hit:5 http://security.ubuntu.com/ubuntu jammy-security InRelease\n",
            "Ign:6 https://r2u.stat.illinois.edu/ubuntu jammy InRelease\n",
            "Hit:7 http://archive.ubuntu.com/ubuntu jammy-backports InRelease\n",
            "Hit:8 https://r2u.stat.illinois.edu/ubuntu jammy Release\n",
            "Hit:10 https://ppa.launchpadcontent.net/deadsnakes/ppa/ubuntu jammy InRelease\n",
            "Hit:11 https://ppa.launchpadcontent.net/graphics-drivers/ppa/ubuntu jammy InRelease\n",
            "Hit:12 https://ppa.launchpadcontent.net/ubuntugis/ppa/ubuntu jammy InRelease\n",
            "Reading package lists... Done\n",
            "W: Skipping acquire of configured file 'main/source/Sources' as repository 'https://r2u.stat.illinois.edu/ubuntu jammy InRelease' does not seem to provide it (sources.list entry misspelt?)\n",
            "unzip:  cannot find or open ffmpeg, ffmpeg.zip or ffmpeg.ZIP.\n"
          ]
        }
      ],
      "source": [
        "!sudo apt-get update && unzip ffmpeg libavcodec-dev libavformat-dev libavutil-dev libswscale-dev libvips-dev"
      ]
    },
    {
      "cell_type": "code",
      "execution_count": 16,
      "metadata": {
        "colab": {
          "base_uri": "https://localhost:8080/"
        },
        "id": "0lNSBWJp0WuK",
        "outputId": "62b72c45-f096-4ceb-dbee-af5d210a6db3"
      },
      "outputs": [
        {
          "output_type": "stream",
          "name": "stdout",
          "text": [
            "deb https://ngrok-agent.s3.amazonaws.com buster main\n",
            "Hit:1 https://cloud.r-project.org/bin/linux/ubuntu jammy-cran40/ InRelease\n",
            "Hit:2 https://developer.download.nvidia.com/compute/cuda/repos/ubuntu2204/x86_64  InRelease\n",
            "Get:3 https://ngrok-agent.s3.amazonaws.com buster InRelease [20.3 kB]\n",
            "Hit:4 http://archive.ubuntu.com/ubuntu jammy InRelease\n",
            "Hit:5 http://archive.ubuntu.com/ubuntu jammy-updates InRelease\n",
            "Hit:6 http://security.ubuntu.com/ubuntu jammy-security InRelease\n",
            "Hit:7 http://archive.ubuntu.com/ubuntu jammy-backports InRelease\n",
            "Get:8 https://ngrok-agent.s3.amazonaws.com buster/main amd64 Packages [6,040 B]\n",
            "Ign:9 https://r2u.stat.illinois.edu/ubuntu jammy InRelease\n",
            "Hit:10 https://r2u.stat.illinois.edu/ubuntu jammy Release\n",
            "Hit:11 https://ppa.launchpadcontent.net/deadsnakes/ppa/ubuntu jammy InRelease\n",
            "Hit:13 https://ppa.launchpadcontent.net/graphics-drivers/ppa/ubuntu jammy InRelease\n",
            "Hit:14 https://ppa.launchpadcontent.net/ubuntugis/ppa/ubuntu jammy InRelease\n",
            "Fetched 26.3 kB in 1s (25.0 kB/s)\n",
            "Reading package lists... Done\n",
            "Building dependency tree... Done\n",
            "Reading state information... Done\n",
            "49 packages can be upgraded. Run 'apt list --upgradable' to see them.\n",
            "\u001b[1;33mW: \u001b[0mSkipping acquire of configured file 'main/source/Sources' as repository 'https://r2u.stat.illinois.edu/ubuntu jammy InRelease' does not seem to provide it (sources.list entry misspelt?)\u001b[0m\n",
            "Reading package lists... Done\n",
            "Building dependency tree... Done\n",
            "Reading state information... Done\n",
            "The following NEW packages will be installed:\n",
            "  ngrok\n",
            "0 upgraded, 1 newly installed, 0 to remove and 49 not upgraded.\n",
            "Need to get 6,573 kB of archives.\n",
            "After this operation, 0 B of additional disk space will be used.\n",
            "Get:1 https://ngrok-agent.s3.amazonaws.com buster/main amd64 ngrok amd64 3.16.1 [6,573 kB]\n",
            "Fetched 6,573 kB in 0s (22.1 MB/s)\n",
            "debconf: unable to initialize frontend: Dialog\n",
            "debconf: (No usable dialog-like program is installed, so the dialog based frontend cannot be used. at /usr/share/perl5/Debconf/FrontEnd/Dialog.pm line 78, <> line 1.)\n",
            "debconf: falling back to frontend: Readline\n",
            "debconf: unable to initialize frontend: Readline\n",
            "debconf: (This frontend requires a controlling tty.)\n",
            "debconf: falling back to frontend: Teletype\n",
            "dpkg-preconfigure: unable to re-open stdin: \n",
            "Selecting previously unselected package ngrok.\n",
            "(Reading database ... 124311 files and directories currently installed.)\n",
            "Preparing to unpack .../ngrok_3.16.1_amd64.deb ...\n",
            "Unpacking ngrok (3.16.1) ...\n",
            "Setting up ngrok (3.16.1) ...\n"
          ]
        }
      ],
      "source": [
        "!curl -s https://ngrok-agent.s3.amazonaws.com/ngrok.asc \\\n",
        "\t| sudo tee /etc/apt/trusted.gpg.d/ngrok.asc >/dev/null \\\n",
        "\t&& echo \"deb https://ngrok-agent.s3.amazonaws.com buster main\" \\\n",
        "\t| sudo tee /etc/apt/sources.list.d/ngrok.list \\\n",
        "\t&& sudo apt update \\\n",
        "\t&& sudo apt install ngrok"
      ]
    },
    {
      "cell_type": "code",
      "execution_count": 17,
      "metadata": {
        "colab": {
          "base_uri": "https://localhost:8080/"
        },
        "id": "xIYxvgBbh6Wt",
        "outputId": "42392d94-a1dc-47d2-d198-ba1f207e4f41"
      },
      "outputs": [
        {
          "name": "stdout",
          "output_type": "stream",
          "text": [
            "··········\n"
          ]
        }
      ],
      "source": [
        "from getpass import getpass\n",
        "\n",
        "token = getpass()"
      ]
    },
    {
      "cell_type": "code",
      "execution_count": 18,
      "metadata": {
        "colab": {
          "base_uri": "https://localhost:8080/"
        },
        "id": "rgt3tqKu0UP2",
        "outputId": "3189ff03-9afa-4a17-8987-ff39a64480ec"
      },
      "outputs": [
        {
          "output_type": "stream",
          "name": "stdout",
          "text": [
            "Authtoken saved to configuration file: /root/.config/ngrok/ngrok.yml\n"
          ]
        }
      ],
      "source": [
        "!ngrok config add-authtoken \"$token\""
      ]
    },
    {
      "cell_type": "code",
      "execution_count": 19,
      "metadata": {
        "id": "1Bnqt0JG0lHN"
      },
      "outputs": [],
      "source": [
        "get_ipython().system_raw('ngrok http 8888 &')\n",
        "!sleep 5s"
      ]
    },
    {
      "cell_type": "code",
      "execution_count": 20,
      "metadata": {
        "colab": {
          "base_uri": "https://localhost:8080/"
        },
        "id": "2SgR2BTl0mIt",
        "outputId": "2b3f0d44-eaa8-45a0-9fa2-78f1c8da7a99"
      },
      "outputs": [
        {
          "output_type": "stream",
          "name": "stdout",
          "text": [
            "https://7011-35-199-180-255.ngrok-free.app\n"
          ]
        }
      ],
      "source": [
        "!curl -s http://localhost:4040/api/tunnels | python3 -c \"import sys, json; print(json.load(sys.stdin)['tunnels'][0]['public_url'])\""
      ]
    },
    {
      "cell_type": "code",
      "execution_count": null,
      "metadata": {
        "colab": {
          "base_uri": "https://localhost:8080/"
        },
        "id": "o40n8mNr2Jc8",
        "outputId": "2d3e4708-e98e-43da-e163-fbedbda43eaa"
      },
      "outputs": [
        {
          "output_type": "stream",
          "name": "stdout",
          "text": [
            "[Livebook] Application running at http://localhost:8888/?token=5rbv27etpgqce3gdo23at3wpb75qfsuc\n",
            "\u001b[22m\n",
            "07:55:15.031 [info] Downloading a precompiled XLA archive for target x86_64-linux-gnu-cuda12\n",
            "\u001b[0m\u001b[22m\n",
            "07:55:24.373 [info] Successfully downloaded the XLA archive\n",
            "\u001b[0mWARNING: All log messages before absl::InitializeLog() is called are written to STDERR\n",
            "I0000 00:00:1728028763.277619   31907 cuda_executor.cc:1040] successful NUMA node read from SysFS had negative value (-1), but there must be at least one NUMA node, so returning NUMA node zero. See more at https://github.com/torvalds/linux/blob/v6.0/Documentation/ABI/testing/sysfs-bus-pci#L344-L355\n",
            "I0000 00:00:1728028763.278045   30751 service.cc:146] XLA service 0x7b360c5942f0 initialized for platform CUDA (this does not guarantee that XLA will be used). Devices:\n",
            "I0000 00:00:1728028763.278077   30751 service.cc:154]   StreamExecutor device (0): Tesla T4, Compute Capability 7.5\n",
            "I0000 00:00:1728028763.279090   30751 se_gpu_pjrt_client.cc:889] Using BFC allocator.\n",
            "I0000 00:00:1728028763.279184   30751 gpu_helpers.cc:114] XLA backend allocating 14252094259 bytes on device 0 for BFCAllocator.\n",
            "I0000 00:00:1728028763.279241   30751 gpu_helpers.cc:154] XLA backend will use up to 1583566028 bytes on device 0 for CollectiveBFCAllocator.\n",
            "I0000 00:00:1728028763.279415   30751 cuda_executor.cc:1040] successful NUMA node read from SysFS had negative value (-1), but there must be at least one NUMA node, so returning NUMA node zero. See more at https://github.com/torvalds/linux/blob/v6.0/Documentation/ABI/testing/sysfs-bus-pci#L344-L355\n",
            "\u001b[22m\n",
            "07:59:23.601 [info] Loaded cuDNN version 90400\n",
            "\u001b[0m\u001b[22m\n",
            "08:00:30.982 [info] EVISION_PREFER_PRECOMPILED: true; try to download and use the precompiled library.\n",
            "\u001b[0m\u001b[22m\n",
            "08:00:30.982 [info] Current target `x86_64-linux-gnu` has precompiled binaries.\n",
            "\u001b[0m\u001b[22m\n",
            "08:00:30.982 [info] Current host NIF version is `2.17`, will use precompiled binaries with NIF version 2.16.\n",
            "\u001b[0m\u001b[22m\n",
            "08:00:40.783 [info] Precompiled binary tarball downloaded and saved to /root/.cache/evision-nif_2.16-x86_64-linux-gnu-contrib-cuda12-cudnn9-0.2.9.tar.gz, sha256=3c5393068e5764e5785f354ff9c5373380d698e77d33a273f35416ab011aaa23\n",
            "\u001b[0m\u001b[22m\n",
            "08:00:54.240 [info] Copying priv directory: /root/.cache/evision-nif_2.16-x86_64-linux-gnu-contrib-cuda12-cudnn9-0.2.9/priv => /root/.cache/mix/installs/elixir-1.17.3-erts-15.1/52ad880da9ddb6ed05dd61a378ae5c30/_build/dev/lib/evision/priv\n",
            "\u001b[0m\u001b[22m\n",
            "08:01:02.658 [info] Copying generated Elixir binding files: /root/.cache/evision-nif_2.16-x86_64-linux-gnu-contrib-cuda12-cudnn9-0.2.9/elixir_generated => /root/.cache/mix/installs/elixir-1.17.3-erts-15.1/52ad880da9ddb6ed05dd61a378ae5c30/deps/evision/lib/generated\n",
            "\u001b[0m  % Total    % Received % Xferd  Average Speed   Time    Time     Time  Current\n",
            "                                 Dload  Upload   Total   Spent    Left  Speed\n",
            "100 2368M  100 2368M    0     0   211M      0  0:00:11  0:00:11 --:--:--  201M\n",
            "WARNING: All log messages before absl::InitializeLog() is called are written to STDERR\n",
            "I0000 00:00:1728029330.090778   34520 cuda_executor.cc:1040] successful NUMA node read from SysFS had negative value (-1), but there must be at least one NUMA node, so returning NUMA node zero. See more at https://github.com/torvalds/linux/blob/v6.0/Documentation/ABI/testing/sysfs-bus-pci#L344-L355\n",
            "I0000 00:00:1728029330.092192   32106 service.cc:146] XLA service 0x7ac5501fef80 initialized for platform CUDA (this does not guarantee that XLA will be used). Devices:\n",
            "I0000 00:00:1728029330.092241   32106 service.cc:154]   StreamExecutor device (0): Tesla T4, Compute Capability 7.5\n",
            "I0000 00:00:1728029330.102806   32106 se_gpu_pjrt_client.cc:889] Using BFC allocator.\n",
            "I0000 00:00:1728029330.102894   32106 gpu_helpers.cc:114] XLA backend allocating 14252094259 bytes on device 0 for BFCAllocator.\n",
            "I0000 00:00:1728029330.102966   32106 gpu_helpers.cc:154] XLA backend will use up to 1583566028 bytes on device 0 for CollectiveBFCAllocator.\n",
            "I0000 00:00:1728029330.105056   32106 cuda_executor.cc:1040] successful NUMA node read from SysFS had negative value (-1), but there must be at least one NUMA node, so returning NUMA node zero. See more at https://github.com/torvalds/linux/blob/v6.0/Documentation/ABI/testing/sysfs-bus-pci#L344-L355\n",
            "\u001b[22m\n",
            "08:08:50.838 [info] Loaded cuDNN version 90400\n",
            "\u001b[0m"
          ]
        }
      ],
      "source": [
        "!livebook server --port 8888"
      ]
    }
  ],
  "metadata": {
    "accelerator": "GPU",
    "colab": {
      "provenance": []
    },
    "kernelspec": {
      "display_name": "Python 3",
      "name": "python3"
    },
    "language_info": {
      "name": "python",
      "version": "3.11.6"
    }
  },
  "nbformat": 4,
  "nbformat_minor": 0
}