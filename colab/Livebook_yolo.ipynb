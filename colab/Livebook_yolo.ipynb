{
  "cells": [
    {
      "cell_type": "code",
      "execution_count": 1,
      "metadata": {
        "colab": {
          "base_uri": "https://localhost:8080/"
        },
        "id": "iVhUmlLScbDm",
        "outputId": "18220fba-9d09-456d-9c8c-6631aba11471"
      },
      "outputs": [
        {
          "output_type": "stream",
          "name": "stdout",
          "text": [
            "PRETTY_NAME=\"Ubuntu 22.04.3 LTS\"\n",
            "NAME=\"Ubuntu\"\n",
            "VERSION_ID=\"22.04\"\n",
            "VERSION=\"22.04.3 LTS (Jammy Jellyfish)\"\n",
            "VERSION_CODENAME=jammy\n",
            "ID=ubuntu\n",
            "ID_LIKE=debian\n",
            "HOME_URL=\"https://www.ubuntu.com/\"\n",
            "SUPPORT_URL=\"https://help.ubuntu.com/\"\n",
            "BUG_REPORT_URL=\"https://bugs.launchpad.net/ubuntu/\"\n",
            "PRIVACY_POLICY_URL=\"https://www.ubuntu.com/legal/terms-and-policies/privacy-policy\"\n",
            "UBUNTU_CODENAME=jammy\n"
          ]
        }
      ],
      "source": [
        "!cat /etc/os-release"
      ]
    },
    {
      "cell_type": "code",
      "execution_count": 2,
      "metadata": {
        "colab": {
          "base_uri": "https://localhost:8080/"
        },
        "id": "hJZDfh8Ga7xX",
        "outputId": "b57bcb3d-f547-40e7-9afd-3399e2f9560d"
      },
      "outputs": [
        {
          "output_type": "stream",
          "name": "stdout",
          "text": [
            "nvcc: NVIDIA (R) Cuda compiler driver\n",
            "Copyright (c) 2005-2023 NVIDIA Corporation\n",
            "Built on Tue_Aug_15_22:02:13_PDT_2023\n",
            "Cuda compilation tools, release 12.2, V12.2.140\n",
            "Build cuda_12.2.r12.2/compiler.33191640_0\n"
          ]
        }
      ],
      "source": [
        "!nvcc --version"
      ]
    },
    {
      "cell_type": "code",
      "execution_count": 3,
      "metadata": {
        "colab": {
          "base_uri": "https://localhost:8080/"
        },
        "id": "a0NOiHO7bX5L",
        "outputId": "992cfdfa-05ed-4cc4-f197-ca553ce7be97"
      },
      "outputs": [
        {
          "output_type": "stream",
          "name": "stdout",
          "text": [
            "#define CUDNN_MAJOR 8\n",
            "#define CUDNN_MINOR 9\n",
            "#define CUDNN_PATCHLEVEL 6\n",
            "--\n",
            "#define CUDNN_VERSION (CUDNN_MAJOR * 1000 + CUDNN_MINOR * 100 + CUDNN_PATCHLEVEL)\n",
            "\n",
            "/* cannot use constexpr here since this is a C-only file */\n"
          ]
        }
      ],
      "source": [
        "!cat /usr/include/cudnn_version.h | grep CUDNN_MAJOR -A 2"
      ]
    },
    {
      "cell_type": "code",
      "source": [
        "!apt-get -y install cudnn9-cuda-12"
      ],
      "metadata": {
        "colab": {
          "base_uri": "https://localhost:8080/"
        },
        "id": "4cyDD8wjeca4",
        "outputId": "259000cc-4e66-46e2-8f23-80ee72aa717c"
      },
      "execution_count": 4,
      "outputs": [
        {
          "output_type": "stream",
          "name": "stdout",
          "text": [
            "Reading package lists... Done\n",
            "Building dependency tree... Done\n",
            "Reading state information... Done\n",
            "The following additional packages will be installed:\n",
            "  cudnn9-cuda-12-6 libcudnn9-cuda-12 libcudnn9-dev-cuda-12 libcudnn9-static-cuda-12\n",
            "The following NEW packages will be installed:\n",
            "  cudnn9-cuda-12 cudnn9-cuda-12-6 libcudnn9-cuda-12 libcudnn9-dev-cuda-12 libcudnn9-static-cuda-12\n",
            "0 upgraded, 5 newly installed, 0 to remove and 49 not upgraded.\n",
            "Need to get 672 MB of archives.\n",
            "After this operation, 1,694 MB of additional disk space will be used.\n",
            "Get:1 https://developer.download.nvidia.com/compute/cuda/repos/ubuntu2204/x86_64  libcudnn9-cuda-12 9.6.0.74-1 [334 MB]\n",
            "Get:2 https://developer.download.nvidia.com/compute/cuda/repos/ubuntu2204/x86_64  libcudnn9-dev-cuda-12 9.6.0.74-1 [34.3 kB]\n",
            "Get:3 https://developer.download.nvidia.com/compute/cuda/repos/ubuntu2204/x86_64  libcudnn9-static-cuda-12 9.6.0.74-1 [338 MB]\n",
            "Get:4 https://developer.download.nvidia.com/compute/cuda/repos/ubuntu2204/x86_64  cudnn9-cuda-12-6 9.6.0.74-1 [12.3 kB]\n",
            "Get:5 https://developer.download.nvidia.com/compute/cuda/repos/ubuntu2204/x86_64  cudnn9-cuda-12 9.6.0.74-1 [12.3 kB]\n",
            "Fetched 672 MB in 12s (57.2 MB/s)\n",
            "Selecting previously unselected package libcudnn9-cuda-12.\n",
            "(Reading database ... 123634 files and directories currently installed.)\n",
            "Preparing to unpack .../libcudnn9-cuda-12_9.6.0.74-1_amd64.deb ...\n",
            "Unpacking libcudnn9-cuda-12 (9.6.0.74-1) ...\n",
            "Selecting previously unselected package libcudnn9-dev-cuda-12.\n",
            "Preparing to unpack .../libcudnn9-dev-cuda-12_9.6.0.74-1_amd64.deb ...\n",
            "Unpacking libcudnn9-dev-cuda-12 (9.6.0.74-1) ...\n",
            "Selecting previously unselected package libcudnn9-static-cuda-12.\n",
            "Preparing to unpack .../libcudnn9-static-cuda-12_9.6.0.74-1_amd64.deb ...\n",
            "Unpacking libcudnn9-static-cuda-12 (9.6.0.74-1) ...\n",
            "Selecting previously unselected package cudnn9-cuda-12-6.\n",
            "Preparing to unpack .../cudnn9-cuda-12-6_9.6.0.74-1_amd64.deb ...\n",
            "Unpacking cudnn9-cuda-12-6 (9.6.0.74-1) ...\n",
            "Selecting previously unselected package cudnn9-cuda-12.\n",
            "Preparing to unpack .../cudnn9-cuda-12_9.6.0.74-1_amd64.deb ...\n",
            "Unpacking cudnn9-cuda-12 (9.6.0.74-1) ...\n",
            "Setting up libcudnn9-cuda-12 (9.6.0.74-1) ...\n",
            "Setting up libcudnn9-dev-cuda-12 (9.6.0.74-1) ...\n",
            "update-alternatives: using /usr/include/x86_64-linux-gnu/cudnn_v9.h to provide /usr/include/cudnn.h (libcudnn) in manual mode\n",
            "Setting up libcudnn9-static-cuda-12 (9.6.0.74-1) ...\n",
            "Setting up cudnn9-cuda-12-6 (9.6.0.74-1) ...\n",
            "Setting up cudnn9-cuda-12 (9.6.0.74-1) ...\n",
            "Processing triggers for libc-bin (2.35-0ubuntu3.4) ...\n",
            "/sbin/ldconfig.real: /usr/local/lib/libtcm_debug.so.1 is not a symbolic link\n",
            "\n",
            "/sbin/ldconfig.real: /usr/local/lib/libtbbbind_2_0.so.3 is not a symbolic link\n",
            "\n",
            "/sbin/ldconfig.real: /usr/local/lib/libumf.so.0 is not a symbolic link\n",
            "\n",
            "/sbin/ldconfig.real: /usr/local/lib/libtcm.so.1 is not a symbolic link\n",
            "\n",
            "/sbin/ldconfig.real: /usr/local/lib/libtbbbind_2_5.so.3 is not a symbolic link\n",
            "\n",
            "/sbin/ldconfig.real: /usr/local/lib/libhwloc.so.15 is not a symbolic link\n",
            "\n",
            "/sbin/ldconfig.real: /usr/local/lib/libur_adapter_level_zero.so.0 is not a symbolic link\n",
            "\n",
            "/sbin/ldconfig.real: /usr/local/lib/libur_adapter_opencl.so.0 is not a symbolic link\n",
            "\n",
            "/sbin/ldconfig.real: /usr/local/lib/libtbb.so.12 is not a symbolic link\n",
            "\n",
            "/sbin/ldconfig.real: /usr/local/lib/libtbbmalloc.so.2 is not a symbolic link\n",
            "\n",
            "/sbin/ldconfig.real: /usr/local/lib/libtbbmalloc_proxy.so.2 is not a symbolic link\n",
            "\n",
            "/sbin/ldconfig.real: /usr/local/lib/libtbbbind.so.3 is not a symbolic link\n",
            "\n",
            "/sbin/ldconfig.real: /usr/local/lib/libur_loader.so.0 is not a symbolic link\n",
            "\n"
          ]
        }
      ]
    },
    {
      "cell_type": "code",
      "source": [
        "!cat /usr/include/cudnn_version.h | grep CUDNN_MAJOR -A 2"
      ],
      "metadata": {
        "colab": {
          "base_uri": "https://localhost:8080/"
        },
        "id": "Kh2FP4rUegO5",
        "outputId": "6844d1c0-728d-4641-e7ea-910e4677a17a"
      },
      "execution_count": 5,
      "outputs": [
        {
          "output_type": "stream",
          "name": "stdout",
          "text": [
            "#define CUDNN_MAJOR 9\n",
            "#define CUDNN_MINOR 6\n",
            "#define CUDNN_PATCHLEVEL 0\n",
            "--\n",
            "#define CUDNN_VERSION (CUDNN_MAJOR * 10000 + CUDNN_MINOR * 100 + CUDNN_PATCHLEVEL)\n",
            "\n",
            "/* cannot use constexpr here since this is a C-only file */\n"
          ]
        }
      ]
    },
    {
      "cell_type": "code",
      "source": [
        "!git clone https://github.com/poeticoding/yolo_elixir.git"
      ],
      "metadata": {
        "colab": {
          "base_uri": "https://localhost:8080/"
        },
        "id": "aQA0iFeJYe_S",
        "outputId": "bac4afff-23db-4b06-b4e9-f1c8d32fc34f"
      },
      "execution_count": 6,
      "outputs": [
        {
          "output_type": "stream",
          "name": "stdout",
          "text": [
            "Cloning into 'yolo_elixir'...\n",
            "remote: Enumerating objects: 85, done.\u001b[K\n",
            "remote: Counting objects: 100% (85/85), done.\u001b[K\n",
            "remote: Compressing objects: 100% (70/70), done.\u001b[K\n",
            "remote: Total 85 (delta 11), reused 80 (delta 8), pack-reused 0 (from 0)\u001b[K\n",
            "Receiving objects: 100% (85/85), 6.07 MiB | 18.33 MiB/s, done.\n",
            "Resolving deltas: 100% (11/11), done.\n"
          ]
        }
      ]
    },
    {
      "cell_type": "code",
      "source": [
        "%cd yolo_elixir\n",
        "!pip install -r python/requirements.txt"
      ],
      "metadata": {
        "colab": {
          "base_uri": "https://localhost:8080/"
        },
        "id": "umhtG9_pYkH0",
        "outputId": "95def56c-1267-4538-87ed-1c1f43e1c375"
      },
      "execution_count": 7,
      "outputs": [
        {
          "output_type": "stream",
          "name": "stdout",
          "text": [
            "/content/yolo_elixir\n",
            "Collecting ultralytics==8.2.36 (from -r python/requirements.txt (line 1))\n",
            "  Downloading ultralytics-8.2.36-py3-none-any.whl.metadata (41 kB)\n",
            "\u001b[2K     \u001b[90m━━━━━━━━━━━━━━━━━━━━━━━━━━━━━━━━━━━━━━━━\u001b[0m \u001b[32m41.3/41.3 kB\u001b[0m \u001b[31m3.8 MB/s\u001b[0m eta \u001b[36m0:00:00\u001b[0m\n",
            "\u001b[?25hCollecting onnx==1.16.1 (from -r python/requirements.txt (line 2))\n",
            "  Downloading onnx-1.16.1-cp310-cp310-manylinux_2_17_x86_64.manylinux2014_x86_64.whl.metadata (16 kB)\n",
            "Collecting onnxruntime==1.18.0 (from -r python/requirements.txt (line 3))\n",
            "  Downloading onnxruntime-1.18.0-cp310-cp310-manylinux_2_27_x86_64.manylinux_2_28_x86_64.whl.metadata (4.3 kB)\n",
            "Collecting onnx_pytorch==0.1.5 (from -r python/requirements.txt (line 4))\n",
            "  Downloading onnx_pytorch-0.1.5-py3-none-any.whl.metadata (3.2 kB)\n",
            "Requirement already satisfied: requests in /usr/local/lib/python3.10/dist-packages (from -r python/requirements.txt (line 5)) (2.32.3)\n",
            "Requirement already satisfied: numpy<2.0.0 in /usr/local/lib/python3.10/dist-packages (from ultralytics==8.2.36->-r python/requirements.txt (line 1)) (1.26.4)\n",
            "Requirement already satisfied: matplotlib>=3.3.0 in /usr/local/lib/python3.10/dist-packages (from ultralytics==8.2.36->-r python/requirements.txt (line 1)) (3.8.0)\n",
            "Requirement already satisfied: opencv-python>=4.6.0 in /usr/local/lib/python3.10/dist-packages (from ultralytics==8.2.36->-r python/requirements.txt (line 1)) (4.10.0.84)\n",
            "Requirement already satisfied: pillow>=7.1.2 in /usr/local/lib/python3.10/dist-packages (from ultralytics==8.2.36->-r python/requirements.txt (line 1)) (11.0.0)\n",
            "Requirement already satisfied: pyyaml>=5.3.1 in /usr/local/lib/python3.10/dist-packages (from ultralytics==8.2.36->-r python/requirements.txt (line 1)) (6.0.2)\n",
            "Requirement already satisfied: scipy>=1.4.1 in /usr/local/lib/python3.10/dist-packages (from ultralytics==8.2.36->-r python/requirements.txt (line 1)) (1.13.1)\n",
            "Requirement already satisfied: torch>=1.8.0 in /usr/local/lib/python3.10/dist-packages (from ultralytics==8.2.36->-r python/requirements.txt (line 1)) (2.5.1+cu121)\n",
            "Requirement already satisfied: torchvision>=0.9.0 in /usr/local/lib/python3.10/dist-packages (from ultralytics==8.2.36->-r python/requirements.txt (line 1)) (0.20.1+cu121)\n",
            "Requirement already satisfied: tqdm>=4.64.0 in /usr/local/lib/python3.10/dist-packages (from ultralytics==8.2.36->-r python/requirements.txt (line 1)) (4.67.1)\n",
            "Requirement already satisfied: psutil in /usr/local/lib/python3.10/dist-packages (from ultralytics==8.2.36->-r python/requirements.txt (line 1)) (5.9.5)\n",
            "Requirement already satisfied: py-cpuinfo in /usr/local/lib/python3.10/dist-packages (from ultralytics==8.2.36->-r python/requirements.txt (line 1)) (9.0.0)\n",
            "Requirement already satisfied: pandas>=1.1.4 in /usr/local/lib/python3.10/dist-packages (from ultralytics==8.2.36->-r python/requirements.txt (line 1)) (2.2.2)\n",
            "Requirement already satisfied: seaborn>=0.11.0 in /usr/local/lib/python3.10/dist-packages (from ultralytics==8.2.36->-r python/requirements.txt (line 1)) (0.13.2)\n",
            "Collecting ultralytics-thop>=2.0.0 (from ultralytics==8.2.36->-r python/requirements.txt (line 1))\n",
            "  Downloading ultralytics_thop-2.0.13-py3-none-any.whl.metadata (9.4 kB)\n",
            "Requirement already satisfied: protobuf>=3.20.2 in /usr/local/lib/python3.10/dist-packages (from onnx==1.16.1->-r python/requirements.txt (line 2)) (4.25.5)\n",
            "Collecting coloredlogs (from onnxruntime==1.18.0->-r python/requirements.txt (line 3))\n",
            "  Downloading coloredlogs-15.0.1-py2.py3-none-any.whl.metadata (12 kB)\n",
            "Requirement already satisfied: flatbuffers in /usr/local/lib/python3.10/dist-packages (from onnxruntime==1.18.0->-r python/requirements.txt (line 3)) (24.3.25)\n",
            "Requirement already satisfied: packaging in /usr/local/lib/python3.10/dist-packages (from onnxruntime==1.18.0->-r python/requirements.txt (line 3)) (24.2)\n",
            "Requirement already satisfied: sympy in /usr/local/lib/python3.10/dist-packages (from onnxruntime==1.18.0->-r python/requirements.txt (line 3)) (1.13.1)\n",
            "Requirement already satisfied: pytest>=6.2.5 in /usr/local/lib/python3.10/dist-packages (from onnx_pytorch==0.1.5->-r python/requirements.txt (line 4)) (8.3.4)\n",
            "Requirement already satisfied: setuptools>=59.2.0 in /usr/local/lib/python3.10/dist-packages (from onnx_pytorch==0.1.5->-r python/requirements.txt (line 4)) (75.1.0)\n",
            "Requirement already satisfied: charset-normalizer<4,>=2 in /usr/local/lib/python3.10/dist-packages (from requests->-r python/requirements.txt (line 5)) (3.4.0)\n",
            "Requirement already satisfied: idna<4,>=2.5 in /usr/local/lib/python3.10/dist-packages (from requests->-r python/requirements.txt (line 5)) (3.10)\n",
            "Requirement already satisfied: urllib3<3,>=1.21.1 in /usr/local/lib/python3.10/dist-packages (from requests->-r python/requirements.txt (line 5)) (2.2.3)\n",
            "Requirement already satisfied: certifi>=2017.4.17 in /usr/local/lib/python3.10/dist-packages (from requests->-r python/requirements.txt (line 5)) (2024.12.14)\n",
            "Requirement already satisfied: contourpy>=1.0.1 in /usr/local/lib/python3.10/dist-packages (from matplotlib>=3.3.0->ultralytics==8.2.36->-r python/requirements.txt (line 1)) (1.3.1)\n",
            "Requirement already satisfied: cycler>=0.10 in /usr/local/lib/python3.10/dist-packages (from matplotlib>=3.3.0->ultralytics==8.2.36->-r python/requirements.txt (line 1)) (0.12.1)\n",
            "Requirement already satisfied: fonttools>=4.22.0 in /usr/local/lib/python3.10/dist-packages (from matplotlib>=3.3.0->ultralytics==8.2.36->-r python/requirements.txt (line 1)) (4.55.3)\n",
            "Requirement already satisfied: kiwisolver>=1.0.1 in /usr/local/lib/python3.10/dist-packages (from matplotlib>=3.3.0->ultralytics==8.2.36->-r python/requirements.txt (line 1)) (1.4.7)\n",
            "Requirement already satisfied: pyparsing>=2.3.1 in /usr/local/lib/python3.10/dist-packages (from matplotlib>=3.3.0->ultralytics==8.2.36->-r python/requirements.txt (line 1)) (3.2.0)\n",
            "Requirement already satisfied: python-dateutil>=2.7 in /usr/local/lib/python3.10/dist-packages (from matplotlib>=3.3.0->ultralytics==8.2.36->-r python/requirements.txt (line 1)) (2.8.2)\n",
            "Requirement already satisfied: pytz>=2020.1 in /usr/local/lib/python3.10/dist-packages (from pandas>=1.1.4->ultralytics==8.2.36->-r python/requirements.txt (line 1)) (2024.2)\n",
            "Requirement already satisfied: tzdata>=2022.7 in /usr/local/lib/python3.10/dist-packages (from pandas>=1.1.4->ultralytics==8.2.36->-r python/requirements.txt (line 1)) (2024.2)\n",
            "Requirement already satisfied: exceptiongroup>=1.0.0rc8 in /usr/local/lib/python3.10/dist-packages (from pytest>=6.2.5->onnx_pytorch==0.1.5->-r python/requirements.txt (line 4)) (1.2.2)\n",
            "Requirement already satisfied: iniconfig in /usr/local/lib/python3.10/dist-packages (from pytest>=6.2.5->onnx_pytorch==0.1.5->-r python/requirements.txt (line 4)) (2.0.0)\n",
            "Requirement already satisfied: pluggy<2,>=1.5 in /usr/local/lib/python3.10/dist-packages (from pytest>=6.2.5->onnx_pytorch==0.1.5->-r python/requirements.txt (line 4)) (1.5.0)\n",
            "Requirement already satisfied: tomli>=1 in /usr/local/lib/python3.10/dist-packages (from pytest>=6.2.5->onnx_pytorch==0.1.5->-r python/requirements.txt (line 4)) (2.2.1)\n",
            "Requirement already satisfied: mpmath<1.4,>=1.1.0 in /usr/local/lib/python3.10/dist-packages (from sympy->onnxruntime==1.18.0->-r python/requirements.txt (line 3)) (1.3.0)\n",
            "Requirement already satisfied: filelock in /usr/local/lib/python3.10/dist-packages (from torch>=1.8.0->ultralytics==8.2.36->-r python/requirements.txt (line 1)) (3.16.1)\n",
            "Requirement already satisfied: typing-extensions>=4.8.0 in /usr/local/lib/python3.10/dist-packages (from torch>=1.8.0->ultralytics==8.2.36->-r python/requirements.txt (line 1)) (4.12.2)\n",
            "Requirement already satisfied: networkx in /usr/local/lib/python3.10/dist-packages (from torch>=1.8.0->ultralytics==8.2.36->-r python/requirements.txt (line 1)) (3.4.2)\n",
            "Requirement already satisfied: jinja2 in /usr/local/lib/python3.10/dist-packages (from torch>=1.8.0->ultralytics==8.2.36->-r python/requirements.txt (line 1)) (3.1.4)\n",
            "Requirement already satisfied: fsspec in /usr/local/lib/python3.10/dist-packages (from torch>=1.8.0->ultralytics==8.2.36->-r python/requirements.txt (line 1)) (2024.10.0)\n",
            "Collecting humanfriendly>=9.1 (from coloredlogs->onnxruntime==1.18.0->-r python/requirements.txt (line 3))\n",
            "  Downloading humanfriendly-10.0-py2.py3-none-any.whl.metadata (9.2 kB)\n",
            "Requirement already satisfied: six>=1.5 in /usr/local/lib/python3.10/dist-packages (from python-dateutil>=2.7->matplotlib>=3.3.0->ultralytics==8.2.36->-r python/requirements.txt (line 1)) (1.17.0)\n",
            "Requirement already satisfied: MarkupSafe>=2.0 in /usr/local/lib/python3.10/dist-packages (from jinja2->torch>=1.8.0->ultralytics==8.2.36->-r python/requirements.txt (line 1)) (3.0.2)\n",
            "Downloading ultralytics-8.2.36-py3-none-any.whl (783 kB)\n",
            "\u001b[2K   \u001b[90m━━━━━━━━━━━━━━━━━━━━━━━━━━━━━━━━━━━━━━━━\u001b[0m \u001b[32m783.5/783.5 kB\u001b[0m \u001b[31m48.8 MB/s\u001b[0m eta \u001b[36m0:00:00\u001b[0m\n",
            "\u001b[?25hDownloading onnx-1.16.1-cp310-cp310-manylinux_2_17_x86_64.manylinux2014_x86_64.whl (15.9 MB)\n",
            "\u001b[2K   \u001b[90m━━━━━━━━━━━━━━━━━━━━━━━━━━━━━━━━━━━━━━━━\u001b[0m \u001b[32m15.9/15.9 MB\u001b[0m \u001b[31m101.8 MB/s\u001b[0m eta \u001b[36m0:00:00\u001b[0m\n",
            "\u001b[?25hDownloading onnxruntime-1.18.0-cp310-cp310-manylinux_2_27_x86_64.manylinux_2_28_x86_64.whl (6.8 MB)\n",
            "\u001b[2K   \u001b[90m━━━━━━━━━━━━━━━━━━━━━━━━━━━━━━━━━━━━━━━━\u001b[0m \u001b[32m6.8/6.8 MB\u001b[0m \u001b[31m111.4 MB/s\u001b[0m eta \u001b[36m0:00:00\u001b[0m\n",
            "\u001b[?25hDownloading onnx_pytorch-0.1.5-py3-none-any.whl (109 kB)\n",
            "\u001b[2K   \u001b[90m━━━━━━━━━━━━━━━━━━━━━━━━━━━━━━━━━━━━━━━━\u001b[0m \u001b[32m109.2/109.2 kB\u001b[0m \u001b[31m12.3 MB/s\u001b[0m eta \u001b[36m0:00:00\u001b[0m\n",
            "\u001b[?25hDownloading ultralytics_thop-2.0.13-py3-none-any.whl (26 kB)\n",
            "Downloading coloredlogs-15.0.1-py2.py3-none-any.whl (46 kB)\n",
            "\u001b[2K   \u001b[90m━━━━━━━━━━━━━━━━━━━━━━━━━━━━━━━━━━━━━━━━\u001b[0m \u001b[32m46.0/46.0 kB\u001b[0m \u001b[31m4.5 MB/s\u001b[0m eta \u001b[36m0:00:00\u001b[0m\n",
            "\u001b[?25hDownloading humanfriendly-10.0-py2.py3-none-any.whl (86 kB)\n",
            "\u001b[2K   \u001b[90m━━━━━━━━━━━━━━━━━━━━━━━━━━━━━━━━━━━━━━━━\u001b[0m \u001b[32m86.8/86.8 kB\u001b[0m \u001b[31m8.9 MB/s\u001b[0m eta \u001b[36m0:00:00\u001b[0m\n",
            "\u001b[?25hInstalling collected packages: onnx, humanfriendly, coloredlogs, ultralytics-thop, onnxruntime, ultralytics, onnx_pytorch\n",
            "Successfully installed coloredlogs-15.0.1 humanfriendly-10.0 onnx-1.16.1 onnx_pytorch-0.1.5 onnxruntime-1.18.0 ultralytics-8.2.36 ultralytics-thop-2.0.13\n"
          ]
        }
      ]
    },
    {
      "cell_type": "code",
      "source": [
        "!python python/yolov8_to_onnx.py n"
      ],
      "metadata": {
        "colab": {
          "base_uri": "https://localhost:8080/"
        },
        "id": "OgYfSF9wYwYN",
        "outputId": "959cc3d5-61db-4f42-d8d1-2c4aa075d7c1"
      },
      "execution_count": 8,
      "outputs": [
        {
          "output_type": "stream",
          "name": "stdout",
          "text": [
            "Downloading YoloV8n .pt file\n",
            "/usr/local/lib/python3.10/dist-packages/ultralytics/nn/tasks.py:743: FutureWarning: You are using `torch.load` with `weights_only=False` (the current default value), which uses the default pickle module implicitly. It is possible to construct malicious pickle data which will execute arbitrary code during unpickling (See https://github.com/pytorch/pytorch/blob/main/SECURITY.md#untrusted-models for more details). In a future release, the default value for `weights_only` will be flipped to `True`. This limits the functions that could be executed during unpickling. Arbitrary objects will no longer be allowed to be loaded via this mode unless they are explicitly allowlisted by the user via `torch.serialization.add_safe_globals`. We recommend you start setting `weights_only=True` for any use case where you don't have full control of the loaded file. Please open an issue on GitHub for any issues related to this experimental feature.\n",
            "  ckpt = torch.load(file, map_location=\"cpu\")\n",
            "Ultralytics YOLOv8.2.36 🚀 Python-3.10.12 torch-2.5.1+cu121 CPU (Intel Xeon 2.00GHz)\n",
            "YOLOv8n summary (fused): 168 layers, 3151904 parameters, 0 gradients, 8.7 GFLOPs\n",
            "\n",
            "\u001b[34m\u001b[1mPyTorch:\u001b[0m starting from 'models/yolov8n.pt' with input shape (1, 3, 640, 640) BCHW and output shape(s) (1, 84, 8400) (6.2 MB)\n",
            "\n",
            "\u001b[34m\u001b[1mONNX:\u001b[0m starting export with onnx 1.16.1 opset 9...\n",
            "\u001b[34m\u001b[1mONNX:\u001b[0m export success ✅ 0.8s, saved as 'models/yolov8n.onnx' (12.2 MB)\n",
            "\n",
            "Export complete (3.0s)\n",
            "Results saved to \u001b[1m/content/yolo_elixir/models\u001b[0m\n",
            "Predict:         yolo predict task=detect model=models/yolov8n.onnx imgsz=640  \n",
            "Validate:        yolo val task=detect model=models/yolov8n.onnx imgsz=640 data=coco.yaml  \n",
            "Visualize:       https://netron.app\n"
          ]
        }
      ]
    },
    {
      "cell_type": "code",
      "source": [
        "!python python/yolov8_to_onnx.py x"
      ],
      "metadata": {
        "colab": {
          "base_uri": "https://localhost:8080/"
        },
        "id": "3cKb0Ja8tE8D",
        "outputId": "bc509ed9-ed2e-4f20-c2bd-6c5d26ef248a"
      },
      "execution_count": 32,
      "outputs": [
        {
          "output_type": "stream",
          "name": "stdout",
          "text": [
            "models: directory already created\n",
            "Downloading YoloV8x .pt file\n",
            "/usr/local/lib/python3.10/dist-packages/ultralytics/nn/tasks.py:743: FutureWarning: You are using `torch.load` with `weights_only=False` (the current default value), which uses the default pickle module implicitly. It is possible to construct malicious pickle data which will execute arbitrary code during unpickling (See https://github.com/pytorch/pytorch/blob/main/SECURITY.md#untrusted-models for more details). In a future release, the default value for `weights_only` will be flipped to `True`. This limits the functions that could be executed during unpickling. Arbitrary objects will no longer be allowed to be loaded via this mode unless they are explicitly allowlisted by the user via `torch.serialization.add_safe_globals`. We recommend you start setting `weights_only=True` for any use case where you don't have full control of the loaded file. Please open an issue on GitHub for any issues related to this experimental feature.\n",
            "  ckpt = torch.load(file, map_location=\"cpu\")\n",
            "Ultralytics YOLOv8.2.36 🚀 Python-3.10.12 torch-2.5.1+cu121 CPU (Intel Xeon 2.00GHz)\n",
            "YOLOv8x summary (fused): 268 layers, 68200608 parameters, 0 gradients, 257.8 GFLOPs\n",
            "\n",
            "\u001b[34m\u001b[1mPyTorch:\u001b[0m starting from 'models/yolov8x.pt' with input shape (1, 3, 640, 640) BCHW and output shape(s) (1, 84, 8400) (130.5 MB)\n",
            "\n",
            "\u001b[34m\u001b[1mONNX:\u001b[0m starting export with onnx 1.16.1 opset 9...\n",
            "\u001b[34m\u001b[1mONNX:\u001b[0m export success ✅ 6.6s, saved as 'models/yolov8x.onnx' (260.4 MB)\n",
            "\n",
            "Export complete (16.2s)\n",
            "Results saved to \u001b[1m/content/yolo_elixir/models\u001b[0m\n",
            "Predict:         yolo predict task=detect model=models/yolov8x.onnx imgsz=640  \n",
            "Validate:        yolo val task=detect model=models/yolov8x.onnx imgsz=640 data=coco.yaml  \n",
            "Visualize:       https://netron.app\n"
          ]
        }
      ]
    },
    {
      "cell_type": "code",
      "source": [
        "%cd .."
      ],
      "metadata": {
        "colab": {
          "base_uri": "https://localhost:8080/"
        },
        "id": "2YLjA0H_Y8do",
        "outputId": "4ba9d9a6-4007-4c52-eaa9-6c7465374406"
      },
      "execution_count": 33,
      "outputs": [
        {
          "output_type": "stream",
          "name": "stdout",
          "text": [
            "/content\n"
          ]
        }
      ]
    },
    {
      "cell_type": "code",
      "execution_count": 10,
      "metadata": {
        "colab": {
          "base_uri": "https://localhost:8080/"
        },
        "id": "Cpa7KrfpOsDl",
        "outputId": "e9528f13-235d-41a0-c574-1b14ef988f72"
      },
      "outputs": [
        {
          "output_type": "stream",
          "name": "stdout",
          "text": [
            "\u001b[33m\r0% [Working]\u001b[0m\r            \rGet:1 https://cloud.r-project.org/bin/linux/ubuntu jammy-cran40/ InRelease [3,626 B]\n",
            "Hit:2 https://developer.download.nvidia.com/compute/cuda/repos/ubuntu2204/x86_64  InRelease\n",
            "Get:3 http://security.ubuntu.com/ubuntu jammy-security InRelease [129 kB]\n",
            "Hit:4 http://archive.ubuntu.com/ubuntu jammy InRelease\n",
            "Get:5 http://archive.ubuntu.com/ubuntu jammy-updates InRelease [128 kB]\n",
            "Get:6 https://r2u.stat.illinois.edu/ubuntu jammy InRelease [6,555 B]\n",
            "Hit:7 https://ppa.launchpadcontent.net/deadsnakes/ppa/ubuntu jammy InRelease\n",
            "Get:8 https://r2u.stat.illinois.edu/ubuntu jammy/main all Packages [8,566 kB]\n",
            "Hit:9 https://ppa.launchpadcontent.net/graphics-drivers/ppa/ubuntu jammy InRelease\n",
            "Hit:10 https://ppa.launchpadcontent.net/ubuntugis/ppa/ubuntu jammy InRelease\n",
            "Get:11 http://security.ubuntu.com/ubuntu jammy-security/restricted amd64 Packages [3,448 kB]\n",
            "Get:12 http://archive.ubuntu.com/ubuntu jammy-backports InRelease [127 kB]\n",
            "Get:13 http://archive.ubuntu.com/ubuntu jammy-updates/main amd64 Packages [2,830 kB]\n",
            "Get:14 http://security.ubuntu.com/ubuntu jammy-security/universe amd64 Packages [1,226 kB]\n",
            "Get:15 http://security.ubuntu.com/ubuntu jammy-security/main amd64 Packages [2,517 kB]\n",
            "Get:16 http://archive.ubuntu.com/ubuntu jammy-updates/universe amd64 Packages [1,517 kB]\n",
            "Get:17 http://archive.ubuntu.com/ubuntu jammy-updates/restricted amd64 Packages [3,614 kB]\n",
            "Get:18 http://archive.ubuntu.com/ubuntu jammy-backports/main amd64 Packages [81.4 kB]\n",
            "Get:19 http://archive.ubuntu.com/ubuntu jammy-backports/universe amd64 Packages [33.8 kB]\n",
            "Get:20 https://r2u.stat.illinois.edu/ubuntu jammy/main amd64 Packages [2,630 kB]\n",
            "Fetched 26.9 MB in 5s (5,367 kB/s)\n",
            "Reading package lists... Done\n",
            "Building dependency tree... Done\n",
            "Reading state information... Done\n",
            "50 packages can be upgraded. Run 'apt list --upgradable' to see them.\n",
            "\u001b[1;33mW: \u001b[0mSkipping acquire of configured file 'main/source/Sources' as repository 'https://r2u.stat.illinois.edu/ubuntu jammy InRelease' does not seem to provide it (sources.list entry misspelt?)\u001b[0m\n",
            "Reading package lists... Done\n",
            "Building dependency tree... Done\n",
            "Reading state information... Done\n",
            "curl is already the newest version (7.81.0-1ubuntu1.20).\n",
            "gpg is already the newest version (2.2.27-3ubuntu2.1).\n",
            "gpg set to manually installed.\n",
            "sudo is already the newest version (1.9.9-1ubuntu2.4).\n",
            "wget is already the newest version (1.21.2-2ubuntu1.1).\n",
            "0 upgraded, 0 newly installed, 0 to remove and 50 not upgraded.\n",
            "deb [signed-by=/etc/apt/keyrings/mise-archive-keyring.gpg arch=amd64] https://mise.jdx.dev/deb stable main\n",
            "Hit:1 https://cloud.r-project.org/bin/linux/ubuntu jammy-cran40/ InRelease\n",
            "Get:2 https://mise.jdx.dev/deb stable InRelease [2,065 B]\n",
            "Hit:3 https://developer.download.nvidia.com/compute/cuda/repos/ubuntu2204/x86_64  InRelease\n",
            "Get:4 https://mise.jdx.dev/deb stable/main amd64 Packages [366 B]\n",
            "Hit:5 http://security.ubuntu.com/ubuntu jammy-security InRelease\n",
            "Hit:6 http://archive.ubuntu.com/ubuntu jammy InRelease\n",
            "Hit:7 http://archive.ubuntu.com/ubuntu jammy-updates InRelease\n",
            "Hit:8 https://ppa.launchpadcontent.net/deadsnakes/ppa/ubuntu jammy InRelease\n",
            "Hit:9 http://archive.ubuntu.com/ubuntu jammy-backports InRelease\n",
            "Hit:10 https://ppa.launchpadcontent.net/graphics-drivers/ppa/ubuntu jammy InRelease\n",
            "Hit:11 https://r2u.stat.illinois.edu/ubuntu jammy InRelease\n",
            "Hit:12 https://ppa.launchpadcontent.net/ubuntugis/ppa/ubuntu jammy InRelease\n",
            "Fetched 2,431 B in 1s (1,977 B/s)\n",
            "Reading package lists... Done\n",
            "Building dependency tree... Done\n",
            "Reading state information... Done\n",
            "50 packages can be upgraded. Run 'apt list --upgradable' to see them.\n",
            "\u001b[1;33mW: \u001b[0mSkipping acquire of configured file 'main/source/Sources' as repository 'https://r2u.stat.illinois.edu/ubuntu jammy InRelease' does not seem to provide it (sources.list entry misspelt?)\u001b[0m\n",
            "Reading package lists... Done\n",
            "Building dependency tree... Done\n",
            "Reading state information... Done\n",
            "The following NEW packages will be installed:\n",
            "  mise\n",
            "0 upgraded, 1 newly installed, 0 to remove and 50 not upgraded.\n",
            "Need to get 13.5 MB of archives.\n",
            "After this operation, 37.8 MB of additional disk space will be used.\n",
            "Get:1 https://mise.jdx.dev/deb stable/main amd64 mise amd64 2024.12.20 [13.5 MB]\n",
            "Fetched 13.5 MB in 1s (12.7 MB/s)\n",
            "debconf: unable to initialize frontend: Dialog\n",
            "debconf: (No usable dialog-like program is installed, so the dialog based frontend cannot be used. at /usr/share/perl5/Debconf/FrontEnd/Dialog.pm line 78, <> line 1.)\n",
            "debconf: falling back to frontend: Readline\n",
            "debconf: unable to initialize frontend: Readline\n",
            "debconf: (This frontend requires a controlling tty.)\n",
            "debconf: falling back to frontend: Teletype\n",
            "dpkg-preconfigure: unable to re-open stdin: \n",
            "Selecting previously unselected package mise.\n",
            "(Reading database ... 123689 files and directories currently installed.)\n",
            "Preparing to unpack .../mise_2024.12.20_amd64.deb ...\n",
            "Unpacking mise (2024.12.20) ...\n",
            "Setting up mise (2024.12.20) ...\n",
            "Processing triggers for man-db (2.10.2-1) ...\n"
          ]
        }
      ],
      "source": [
        "!sudo apt update -y && sudo apt install -y gpg sudo wget curl\n",
        "!sudo install -dm 755 /etc/apt/keyrings\n",
        "!wget -qO - https://mise.jdx.dev/gpg-key.pub | gpg --dearmor | sudo tee /etc/apt/keyrings/mise-archive-keyring.gpg 1> /dev/null\n",
        "!echo \"deb [signed-by=/etc/apt/keyrings/mise-archive-keyring.gpg arch=amd64] https://mise.jdx.dev/deb stable main\" | sudo tee /etc/apt/sources.list.d/mise.list\n",
        "!sudo apt update\n",
        "!sudo apt install -y mise"
      ]
    },
    {
      "cell_type": "code",
      "source": [
        "import os\n",
        "\n",
        "os.environ['PATH'] = \"/root/.local/share/mise/shims:/root/.mix/escripts:\" + os.environ['PATH']"
      ],
      "metadata": {
        "id": "v-4hy6Ri7NjC"
      },
      "execution_count": 11,
      "outputs": []
    },
    {
      "cell_type": "code",
      "execution_count": 12,
      "metadata": {
        "colab": {
          "base_uri": "https://localhost:8080/"
        },
        "id": "W7z2XfB1SNjN",
        "outputId": "071b9cc7-83ae-484d-da6d-2a577c861ce5"
      },
      "outputs": [
        {
          "output_type": "stream",
          "name": "stdout",
          "text": [
            "\u001b[2K\u001b[2mmise\u001b[0m \u001b[34merlang\u001b[0m@27.2 install                                                   \u001b[34m⠒\u001b[0m \u001b[2m 1s\u001b[0m\u001b[34mGetting releases from GitHub...\u001b[m\n",
            "\u001b[2K\u001b[2mmise\u001b[0m \u001b[34merlang\u001b[0m@27.2 install                                                   \u001b[34m⠂\u001b[0m \u001b[2m 1s\u001b[0m\u001b[34mThe available releases are:\u001b[m\n",
            "17.5.6.10\n",
            "18.3.4.11\n",
            "19.3.6.13\n",
            "20.3.8.26\n",
            "21.3.8.24\n",
            "22.3.4.27\n",
            "23.3.4.20\n",
            "24.3.4.17\n",
            "25.3.2.16 *\n",
            "26.2.5.6 *\n",
            "27.2 *\n",
            "\u001b[2K\u001b[2mmise\u001b[0m \u001b[34merlang\u001b[0m@27.2 install                                                   \u001b[34m⠄\u001b[0m \u001b[2m 3s\u001b[0m\u001b[34mDownloading (from GitHub) Erlang/OTP 27.2 to /root/.cache/mise/erlang/kerl/archives...\u001b[m\n",
            "\u001b[2K\u001b[2mmise\u001b[0m \u001b[34merlang\u001b[0m@27.2 install                                                   \u001b[34m⠈\u001b[0m \u001b[2m 7s\u001b[0m\u001b[34mExtracting source code for normal build...\u001b[m\n",
            "\u001b[2K\u001b[2mmise\u001b[0m \u001b[34merlang\u001b[0m@27.2 install                                                   \u001b[34m⠦\u001b[0m \u001b[2m12s\u001b[0m\u001b[34mBuilding (normal) Erlang/OTP 27.2 (27.2); please wait...\u001b[m\n",
            "\u001b[36mInitializing (build) log file at /root/.cache/mise/erlang/kerl/builds/27.2/otp_build_27.2.log.\u001b[m\n",
            "\u001b[2K\u001b[2mmise\u001b[0m \u001b[34merlang\u001b[0m@27.2 install                                                   \u001b[34m⠤\u001b[0m \u001b[2m39s\u001b[0mAPPLICATIONS INFORMATION (See: /root/.cache/mise/erlang/kerl/builds/27.2/otp_build_27.2.log)\n",
            " * wx             : No OpenGL headers found, wx will NOT be usable\n",
            " * No GLU headers found, wx will NOT be usable\n",
            " * wxWidgets was not compiled with --enable-webview or wxWebView developer package is not installed, wxWebView will NOT be available\n",
            " *         wxWidgets must be installed on your system.\n",
            " *         Please check that wx-config is in path, the directory\n",
            " *         where wxWidgets libraries are installed (returned by\n",
            " *         'wx-config --libs' or 'wx-config --static --libs' command)\n",
            " *         is in LD_LIBRARY_PATH or equivalent variable and\n",
            " *         wxWidgets version is 3.0.2 or above.\n",
            "\n",
            "\u001b[2K\u001b[2mmise\u001b[0m \u001b[34merlang\u001b[0m@27.2 install                                                   \u001b[34m⠤\u001b[0m \u001b[2m 5m\u001b[0m\u001b[32mErlang/OTP 27.2 (27.2) has been successfully built.\u001b[m\n",
            "\u001b[34mInstalling Erlang/OTP 27.2 (27.2) in /root/.local/share/mise/installs/erlang/27.2...\u001b[m\n",
            "\u001b[36mInitializing (install) log file at /root/.cache/mise/erlang/kerl/builds/27.2/otp_install_27.2.log.\u001b[m\n",
            "\u001b[2K\u001b[2mmise\u001b[0m \u001b[34merlang\u001b[0m@27.2 install                                                   \u001b[34m⠤\u001b[0m \u001b[2m 5m\u001b[0m\u001b[36mYou can activate this installation running the following command:\u001b[m\n",
            "\u001b[36m. /root/.local/share/mise/installs/erlang/27.2/activate\u001b[m\n",
            "\u001b[36mLater on, you can leave the installation typing:\u001b[m\n",
            "\u001b[36mkerl_deactivate\u001b[m\n",
            "\u001b[2K\u001b[32mmise\u001b[0m \u001b[34merlang\u001b[0m@27.2 \u001b[38;5;10m✓\u001b[0m installed                                                    \u001b[32mmise\u001b[0m \u001b[36m~/.config/mise/config.toml\u001b[0m tools: \u001b[34merlang\u001b[0m@27.2\n"
          ]
        }
      ],
      "source": [
        "!mise use -g erlang@27.2"
      ]
    },
    {
      "cell_type": "code",
      "execution_count": 13,
      "metadata": {
        "colab": {
          "base_uri": "https://localhost:8080/"
        },
        "id": "g7BIHk16VOdD",
        "outputId": "8dffa568-1eaf-47de-e9e6-aba3d4912e2c"
      },
      "outputs": [
        {
          "output_type": "stream",
          "name": "stdout",
          "text": [
            "\u001b[2K\u001b[32mmise\u001b[0m \u001b[34melixir\u001b[0m@1.18.1-otp-27 \u001b[38;5;10m✓\u001b[0m installed                                           \u001b[32mmise\u001b[0m \u001b[36m~/.config/mise/config.toml\u001b[0m tools: \u001b[34melixir\u001b[0m@1.18.1-otp-27\n",
            "Erlang/OTP 27 [erts-15.2] [source] [64-bit] [smp:2:2] [ds:2:2:10] [async-threads:1] [jit:ns]\n",
            "\n",
            "Elixir 1.18.1 (compiled with Erlang/OTP 27)\n"
          ]
        }
      ],
      "source": [
        "!mise use -g elixir@1.18.1-otp-27\n",
        "!elixir -v"
      ]
    },
    {
      "cell_type": "code",
      "source": [
        "!mise use -g rust@1.83.0"
      ],
      "metadata": {
        "colab": {
          "base_uri": "https://localhost:8080/"
        },
        "id": "N3jAfiOTcCdo",
        "outputId": "47979520-5555-40ac-a888-2e95378ef387"
      },
      "execution_count": 22,
      "outputs": [
        {
          "output_type": "stream",
          "name": "stdout",
          "text": [
            "\u001b[2Kinfo: downloading installer\n",
            "\u001b[2Kinfo: profile set to 'default'\n",
            "\u001b[2Kinfo: default host triple is x86_64-unknown-linux-gnu\n",
            "\u001b[2Kinfo: skipping toolchain installation\n",
            "\u001b[2Kinfo: syncing channel updates for '1.83.0-x86_64-unknown-linux-gnu'\n",
            "\u001b[2Kinfo: latest update on 2024-11-28, rust version 1.83.0 (90b35a623 2024-11-26)\n",
            "\u001b[2Kinfo: downloading component 'cargo'\n",
            "\u001b[2Kinfo: downloading component 'clippy'\n",
            "\u001b[2Kinfo: downloading component 'rust-docs'\n",
            "\u001b[2Kinfo: downloading component 'rust-std'\n",
            "\u001b[2Kinfo: downloading component 'rustc'\n",
            "\u001b[2Kinfo: downloading component 'rustfmt'\n",
            "\u001b[2Kinfo: installing component 'cargo'\n",
            "\u001b[2Kinfo: installing component 'clippy'\n",
            "\u001b[2Kinfo: installing component 'rust-docs'\n",
            "\u001b[2Kinfo: installing component 'rust-std'\n",
            "\u001b[2Kinfo: installing component 'rustc'\n",
            "\u001b[2Kinfo: installing component 'rustfmt'\n",
            "\u001b[2Kinfo: default toolchain set to '1.83.0-x86_64-unknown-linux-gnu'\n",
            "\u001b[2Kinfo: checking for self-update\n",
            "\u001b[2K\u001b[32mmise\u001b[0m \u001b[34mrust\u001b[0m@1.83.0 \u001b[38;5;10m✓\u001b[0m installed                                                    \u001b[32mmise\u001b[0m \u001b[36m~/.config/mise/config.toml\u001b[0m tools: \u001b[34mrust\u001b[0m@1.83.0\n"
          ]
        }
      ]
    },
    {
      "cell_type": "code",
      "source": [
        "!cargo --version"
      ],
      "metadata": {
        "colab": {
          "base_uri": "https://localhost:8080/"
        },
        "id": "6gIKF1X9fLR4",
        "outputId": "d17ad547-02c2-4f1f-cae8-867aaa95e2d5"
      },
      "execution_count": 25,
      "outputs": [
        {
          "output_type": "stream",
          "name": "stdout",
          "text": [
            "cargo 1.83.0 (5ffbef321 2024-10-29)\n"
          ]
        }
      ]
    },
    {
      "cell_type": "code",
      "execution_count": 14,
      "metadata": {
        "colab": {
          "base_uri": "https://localhost:8080/"
        },
        "id": "eUu-mVsmV_4Y",
        "outputId": "1c879a61-8b96-4835-9e7a-b351c171a147"
      },
      "outputs": [
        {
          "output_type": "stream",
          "name": "stdout",
          "text": [
            "\u001b[32m* creating \u001b[0m/root/.mix/archives/hex-2.1.1\u001b[0m\n",
            "\u001b[32m* creating \u001b[0m/root/.mix/elixir/1-18/rebar3\u001b[0m\n",
            "Resolving Hex dependencies...\n",
            "Resolution completed in 1.445s\n",
            "New:\n",
            "\u001b[32m  aws_credentials 0.3.2\u001b[31m\u001b[0m\n",
            "\u001b[32m  aws_signature 0.3.2\u001b[31m\u001b[0m\n",
            "\u001b[32m  bandit 1.5.7\u001b[31m\u001b[0m\n",
            "\u001b[32m  castore 1.0.10\u001b[31m\u001b[0m\n",
            "\u001b[32m  decimal 2.3.0\u001b[31m\u001b[0m\n",
            "\u001b[32m  dns_cluster 0.1.3\u001b[31m\u001b[0m\n",
            "\u001b[32m  earmark_parser 1.4.41\u001b[31m\u001b[0m\n",
            "\u001b[32m  ecto 3.12.3\u001b[31m\u001b[0m\n",
            "\u001b[32m  eini_beam 2.2.4\u001b[31m\u001b[0m\n",
            "\u001b[32m  finch 0.19.0\u001b[31m\u001b[0m\n",
            "\u001b[32m  hpax 1.0.2\u001b[31m\u001b[0m\n",
            "\u001b[32m  iso8601 1.3.4\u001b[31m\u001b[0m\n",
            "\u001b[32m  jason 1.4.4\u001b[31m\u001b[0m\n",
            "\u001b[32m  jose 1.11.10\u001b[31m\u001b[0m\n",
            "\u001b[32m  jsx 3.1.0\u001b[31m\u001b[0m\n",
            "\u001b[32m  kubereq 0.3.1\u001b[31m\u001b[0m\n",
            "\u001b[32m  livebook 0.14.5\u001b[31m\u001b[0m\n",
            "\u001b[32m  mime 2.0.6\u001b[31m\u001b[0m\n",
            "\u001b[32m  mint 1.6.2\u001b[31m\u001b[0m\n",
            "\u001b[32m  mint_web_socket 1.0.4\u001b[31m\u001b[0m\n",
            "\u001b[32m  nimble_options 1.1.1\u001b[31m\u001b[0m\n",
            "\u001b[32m  nimble_pool 1.1.0\u001b[31m\u001b[0m\n",
            "\u001b[32m  phoenix 1.7.14\u001b[31m\u001b[0m\n",
            "\u001b[32m  phoenix_ecto 4.6.2\u001b[31m\u001b[0m\n",
            "\u001b[32m  phoenix_html 4.1.1\u001b[31m\u001b[0m\n",
            "\u001b[32m  phoenix_live_dashboard 0.8.4-rc.0\u001b[31m\u001b[0m\n",
            "\u001b[32m  phoenix_live_view 1.0.0-rc.6\u001b[31m\u001b[0m\n",
            "\u001b[32m  phoenix_pubsub 2.1.3\u001b[31m\u001b[0m\n",
            "\u001b[32m  phoenix_template 1.0.4\u001b[31m\u001b[0m\n",
            "\u001b[32m  plug 1.16.1\u001b[31m\u001b[0m\n",
            "\u001b[32m  plug_crypto 2.1.0\u001b[31m\u001b[0m\n",
            "\u001b[32m  pluggable 1.1.0\u001b[31m\u001b[0m\n",
            "\u001b[32m  protobuf 0.13.0\u001b[31m\u001b[0m\n",
            "\u001b[32m  req 0.5.6\u001b[31m\u001b[0m\n",
            "\u001b[32m  telemetry 1.3.0\u001b[31m\u001b[0m\n",
            "\u001b[32m  telemetry_metrics 1.0.0\u001b[31m\u001b[0m\n",
            "\u001b[32m  telemetry_poller 1.1.0\u001b[31m\u001b[0m\n",
            "\u001b[32m  thousand_island 1.3.7\u001b[31m\u001b[0m\n",
            "\u001b[32m  websock 0.5.3\u001b[31m\u001b[0m\n",
            "\u001b[32m  websock_adapter 0.5.8\u001b[31m\u001b[0m\n",
            "\u001b[32m  yamerl 0.10.0\u001b[31m\u001b[0m\n",
            "\u001b[32m  yaml_elixir 2.11.0\u001b[31m\u001b[0m\n",
            "* Getting livebook (Hex package)\n",
            "* Getting aws_credentials (Hex package)\n",
            "* Getting aws_signature (Hex package)\n",
            "* Getting bandit (Hex package)\n",
            "* Getting dns_cluster (Hex package)\n",
            "* Getting earmark_parser (Hex package)\n",
            "* Getting ecto (Hex package)\n",
            "* Getting jason (Hex package)\n",
            "* Getting jose (Hex package)\n",
            "* Getting kubereq (Hex package)\n",
            "* Getting mint_web_socket (Hex package)\n",
            "* Getting phoenix (Hex package)\n",
            "* Getting phoenix_ecto (Hex package)\n",
            "* Getting phoenix_html (Hex package)\n",
            "* Getting phoenix_live_dashboard (Hex package)\n",
            "* Getting phoenix_live_view (Hex package)\n",
            "* Getting plug (Hex package)\n",
            "* Getting plug_crypto (Hex package)\n",
            "* Getting protobuf (Hex package)\n",
            "* Getting req (Hex package)\n",
            "* Getting telemetry_metrics (Hex package)\n",
            "* Getting telemetry_poller (Hex package)\n",
            "* Getting yaml_elixir (Hex package)\n",
            "* Getting yamerl (Hex package)\n",
            "* Getting telemetry (Hex package)\n",
            "* Getting finch (Hex package)\n",
            "* Getting mime (Hex package)\n",
            "* Getting mint (Hex package)\n",
            "* Getting nimble_options (Hex package)\n",
            "* Getting nimble_pool (Hex package)\n",
            "* Getting hpax (Hex package)\n",
            "* Getting phoenix_template (Hex package)\n",
            "* Getting castore (Hex package)\n",
            "* Getting phoenix_pubsub (Hex package)\n",
            "* Getting websock_adapter (Hex package)\n",
            "* Getting websock (Hex package)\n",
            "* Getting pluggable (Hex package)\n",
            "* Getting decimal (Hex package)\n",
            "* Getting thousand_island (Hex package)\n",
            "* Getting eini (Hex package)\n",
            "* Getting iso8601 (Hex package)\n",
            "* Getting jsx (Hex package)\n",
            "You have added/upgraded packages you could sponsor, run `mix hex.sponsor` to learn more\n",
            "Resolving Hex dependencies...\n",
            "Resolution completed in 0.174s\n",
            "Unchanged:\n",
            "  aws_credentials 0.3.2\n",
            "  aws_signature 0.3.2\n",
            "  bandit 1.5.7\n",
            "  castore 1.0.10\n",
            "  decimal 2.3.0\n",
            "  dns_cluster 0.1.3\n",
            "  earmark_parser 1.4.41\n",
            "  ecto 3.12.3\n",
            "  eini_beam 2.2.4\n",
            "  finch 0.19.0\n",
            "  hpax 1.0.2\n",
            "  iso8601 1.3.4\n",
            "  jason 1.4.4\n",
            "  jose 1.11.10\n",
            "  jsx 3.1.0\n",
            "  kubereq 0.3.1\n",
            "  mime 2.0.6\n",
            "  mint 1.6.2\n",
            "  mint_web_socket 1.0.4\n",
            "  nimble_options 1.1.1\n",
            "  nimble_pool 1.1.0\n",
            "  phoenix 1.7.14\n",
            "  phoenix_ecto 4.6.2\n",
            "  phoenix_html 4.1.1\n",
            "  phoenix_live_dashboard 0.8.4-rc.0\n",
            "  phoenix_live_view 1.0.0-rc.6\n",
            "  phoenix_pubsub 2.1.3\n",
            "  phoenix_template 1.0.4\n",
            "  plug 1.16.1\n",
            "  plug_crypto 2.1.0\n",
            "  pluggable 1.1.0\n",
            "  protobuf 0.13.0\n",
            "  req 0.5.6\n",
            "  telemetry 1.3.0\n",
            "  telemetry_metrics 1.0.0\n",
            "  telemetry_poller 1.1.0\n",
            "  thousand_island 1.3.7\n",
            "  websock 0.5.3\n",
            "  websock_adapter 0.5.8\n",
            "  yamerl 0.10.0\n",
            "  yaml_elixir 2.11.0\n",
            "All dependencies are up to date\n",
            "==> earmark_parser\n",
            "Compiling 2 files (.xrl)\n",
            "Compiling 1 file (.yrl)\n",
            "Compiling 3 files (.erl)\n",
            "Compiling 46 files (.ex)\n",
            "    \u001b[33mwarning:\u001b[0m Tuple.append/2 is deprecated. Use insert_at instead\n",
            "    │\n",
            " 65 │     tag_tpl |> Tuple.append(Enum.reverse(lines)) |> Tuple.append(@verbatim)\n",
            "    │ \u001b[33m                     ~\u001b[0m\n",
            "    │\n",
            "    └─ lib/earmark_parser/helpers/html_parser.ex:65:22: EarmarkParser.Helpers.HtmlParser._parse_rest/3\n",
            "    └─ lib/earmark_parser/helpers/html_parser.ex:65:59: EarmarkParser.Helpers.HtmlParser._parse_rest/3\n",
            "    └─ lib/earmark_parser/helpers/html_parser.ex:69:39: EarmarkParser.Helpers.HtmlParser._parse_rest/3\n",
            "    └─ lib/earmark_parser/helpers/html_parser.ex:69:88: EarmarkParser.Helpers.HtmlParser._parse_rest/3\n",
            "    └─ lib/earmark_parser/helpers/html_parser.ex:70:39: EarmarkParser.Helpers.HtmlParser._parse_rest/3\n",
            "    └─ lib/earmark_parser/helpers/html_parser.ex:70:76: EarmarkParser.Helpers.HtmlParser._parse_rest/3\n",
            "    └─ lib/earmark_parser/helpers/html_parser.ex:71:40: EarmarkParser.Helpers.HtmlParser._parse_rest/3\n",
            "    └─ lib/earmark_parser/helpers/html_parser.ex:71:77: EarmarkParser.Helpers.HtmlParser._parse_rest/3\n",
            "\n",
            "Generated earmark_parser app\n",
            "==> livebook\n",
            "===> Analyzing applications...\n",
            "===> Compiling aws_signature\n",
            "==> pluggable\n",
            "Compiling 4 files (.ex)\n",
            "Generated pluggable app\n",
            "==> decimal\n",
            "Compiling 4 files (.ex)\n",
            "Generated decimal app\n",
            "==> mime\n",
            "Compiling 1 file (.ex)\n",
            "Generated mime app\n",
            "==> livebook\n",
            "===> Analyzing applications...\n",
            "===> Compiling iso8601\n",
            "==> nimble_options\n",
            "Compiling 3 files (.ex)\n",
            "Generated nimble_options app\n",
            "==> livebook\n",
            "===> Fetching rebar3_hex v7.0.8\n",
            "===> Fetching hex_core v0.10.1\n",
            "===> Fetching verl v1.1.1\n",
            "===> Analyzing applications...\n",
            "===> Compiling verl\n",
            "===> Compiling hex_core\n",
            "===> Compiling rebar3_hex\n",
            "===> Analyzing applications...\n",
            "===> Compiling eini\n",
            "===> Analyzing applications...\n",
            "===> Compiling telemetry\n",
            "==> telemetry_metrics\n",
            "Compiling 7 files (.ex)\n",
            "Generated telemetry_metrics app\n",
            "==> livebook\n",
            "===> Analyzing applications...\n",
            "===> Compiling telemetry_poller\n",
            "==> thousand_island\n",
            "Compiling 16 files (.ex)\n",
            "Generated thousand_island app\n",
            "==> jason\n",
            "Compiling 10 files (.ex)\n",
            "Generated jason app\n",
            "==> phoenix_html\n",
            "Compiling 6 files (.ex)\n",
            "Generated phoenix_html app\n",
            "==> phoenix_template\n",
            "Compiling 4 files (.ex)\n",
            "Generated phoenix_template app\n",
            "==> phoenix_pubsub\n",
            "Compiling 11 files (.ex)\n",
            "Generated phoenix_pubsub app\n",
            "==> plug_crypto\n",
            "Compiling 5 files (.ex)\n",
            "Generated plug_crypto app\n",
            "==> hpax\n",
            "Compiling 4 files (.ex)\n",
            "Generated hpax app\n",
            "==> livebook\n",
            "===> Analyzing applications...\n",
            "===> Compiling yamerl\n",
            "==> yaml_elixir\n",
            "Compiling 6 files (.ex)\n",
            "Generated yaml_elixir app\n",
            "==> dns_cluster\n",
            "Compiling 1 file (.ex)\n",
            "Generated dns_cluster app\n",
            "==> jose\n",
            "Compiling 112 files (.erl)\n",
            "Compiling 8 files (.ex)\n",
            "Generated jose app\n",
            "==> livebook\n",
            "===> Analyzing applications...\n",
            "===> Compiling jsx\n",
            "===> Fetching rebar3_lint v3.0.1\n",
            "===> Fetching elvis_core v3.0.1\n",
            "===> Fetching katana_code v2.0.2\n",
            "===> Fetching zipper v1.0.1\n",
            "===> Analyzing applications...\n",
            "===> Compiling zipper\n",
            "===> Compiling katana_code\n",
            "===> Compiling elvis_core\n",
            "===> Compiling rebar3_lint\n",
            "===> Analyzing applications...\n",
            "===> Compiling aws_credentials\n",
            "src/aws_credentials.erl:6:2: Warning: the callback gen_server:format_status(_,_) is deprecated; use format_status/1 instead\n",
            "\n",
            "==> ecto\n",
            "Compiling 56 files (.ex)\n",
            "Generated ecto app\n",
            "==> plug\n",
            "Compiling 1 file (.erl)\n",
            "Compiling 40 files (.ex)\n",
            "Generated plug app\n",
            "==> protobuf\n",
            "Compiling 38 files (.ex)\n",
            "     \u001b[33mwarning:\u001b[0m false.encode/1 is undefined (module false is not available or is yet to be defined)\n",
            "     │\n",
            " 174 │       with {:ok, map} <- to_encodable(struct, opts), do: jason.encode(map)\n",
            "     │ \u001b[33m                                                               ~\u001b[0m\n",
            "     │\n",
            "     └─ lib/protobuf/json.ex:174:64: Protobuf.JSON.encode/2\n",
            "\n",
            "     \u001b[33mwarning:\u001b[0m false.decode/1 is undefined (module false is not available or is yet to be defined)\n",
            "     │\n",
            " 283 │       with {:ok, json_data} <- jason.decode(iodata),\n",
            "     │ \u001b[33m                                     ~\u001b[0m\n",
            "     │\n",
            "     └─ lib/protobuf/json.ex:283:38: Protobuf.JSON.decode/2\n",
            "\n",
            "Generated protobuf app\n",
            "==> nimble_pool\n",
            "Compiling 2 files (.ex)\n",
            "Generated nimble_pool app\n",
            "==> castore\n",
            "Compiling 1 file (.ex)\n",
            "Generated castore app\n",
            "==> mint\n",
            "Compiling 1 file (.erl)\n",
            "Compiling 20 files (.ex)\n",
            "Generated mint app\n",
            "==> mint_web_socket\n",
            "Compiling 7 files (.ex)\n",
            "Generated mint_web_socket app\n",
            "==> finch\n",
            "Compiling 14 files (.ex)\n",
            "Generated finch app\n",
            "==> req\n",
            "Compiling 17 files (.ex)\n",
            "Generated req app\n",
            "==> kubereq\n",
            "Compiling 27 files (.ex)\n",
            "Generated kubereq app\n",
            "==> websock\n",
            "Compiling 1 file (.ex)\n",
            "Generated websock app\n",
            "==> bandit\n",
            "Compiling 50 files (.ex)\n",
            "Generated bandit app\n",
            "==> websock_adapter\n",
            "Compiling 4 files (.ex)\n",
            "Generated websock_adapter app\n",
            "==> phoenix\n",
            "Compiling 71 files (.ex)\n",
            "Generated phoenix app\n",
            "==> phoenix_live_view\n",
            "Compiling 39 files (.ex)\n",
            "     \u001b[33mwarning:\u001b[0m incompatible types given to String.to_atom/1:\n",
            "\n",
            "         String.to_atom(template)\n",
            "\n",
            "     given types:\n",
            "\n",
            "         \u001b[31mdynamic(false or {term(), binary()})\u001b[0m\n",
            "\n",
            "     but expected one of:\n",
            "\n",
            "         binary()\n",
            "\n",
            "     where \"template\" was given the type:\n",
            "\n",
            "         # type: dynamic(false or {term(), binary()})\n",
            "         # from: lib/phoenix_live_view/router.ex:300:18\n",
            "         template = Phoenix.LiveView.Utils.normalize_layout(template)\n",
            "\n",
            "     typing violation found at:\n",
            "     │\n",
            " 301 │         Map.put(acc, :root_layout, {mod, String.to_atom(template)})\n",
            "     │ \u001b[33m                                                ~\u001b[0m\n",
            "     │\n",
            "     └─ lib/phoenix_live_view/router.ex:301:49: Phoenix.LiveView.Router.validate_live_session_opts/3\n",
            "\n",
            "Generated phoenix_live_view app\n",
            "==> phoenix_live_dashboard\n",
            "Compiling 36 files (.ex)\n",
            "Generated phoenix_live_dashboard app\n",
            "==> phoenix_ecto\n",
            "Compiling 7 files (.ex)\n",
            "Generated phoenix_ecto app\n",
            "==> livebook\n",
            "Compiling 283 files (.ex)\n",
            "     \u001b[33mwarning:\u001b[0m List.zip/1 is deprecated. Use Enum.zip/1 instead\n",
            "     │\n",
            " 348 │     |> List.zip()\n",
            "     │ \u001b[33m            ~\u001b[0m\n",
            "     │\n",
            "     └─ lib/livebook/live_markdown/markdown_helpers.ex:348:13: Livebook.LiveMarkdown.MarkdownHelpers.max_length_per_column/1\n",
            "\n",
            "     \u001b[33mwarning:\u001b[0m Tuple.append/2 is deprecated. Use insert_at instead\n",
            "     │\n",
            " 745 │     Enum.map(funs, &Tuple.append(&1, type))\n",
            "     │ \u001b[33m                          ~\u001b[0m\n",
            "     │\n",
            "     └─ lib/livebook/intellisense/identifier_matcher.ex:745:27: Livebook.Intellisense.IdentifierMatcher.append_funs_type/2\n",
            "\n",
            "Generated livebook app\n",
            "Generated escript livebook with MIX_ENV=prod\n",
            "\u001b[32m* creating \u001b[0m/root/.mix/escripts/livebook\u001b[0m\n",
            "Erlang/OTP 27 [erts-15.2] [source] [64-bit] [smp:2:2] [ds:2:2:10] [async-threads:1] [jit:ns]\n",
            "\n",
            "Elixir 1.18.1 (compiled with Erlang/OTP 27)\n",
            "\n",
            "Livebook 0.14.5\n"
          ]
        }
      ],
      "source": [
        "!mix local.hex --force\n",
        "!mix local.rebar --force\n",
        "!mix escript.install hex livebook --force\n",
        "!livebook -v"
      ]
    },
    {
      "cell_type": "code",
      "execution_count": 16,
      "metadata": {
        "colab": {
          "base_uri": "https://localhost:8080/"
        },
        "id": "0lNSBWJp0WuK",
        "outputId": "1c33bd78-6c44-47e6-9cf6-ae09d6aa663e"
      },
      "outputs": [
        {
          "output_type": "stream",
          "name": "stdout",
          "text": [
            "deb https://ngrok-agent.s3.amazonaws.com buster main\n",
            "\u001b[33m\r0% [Working]\u001b[0m\r            \rHit:1 https://cloud.r-project.org/bin/linux/ubuntu jammy-cran40/ InRelease\n",
            "\u001b[33m\r0% [Connecting to archive.ubuntu.com (185.125.190.81)] [Connecting to security.\u001b[0m\r                                                                               \rHit:2 https://mise.jdx.dev/deb stable InRelease\n",
            "Hit:3 https://developer.download.nvidia.com/compute/cuda/repos/ubuntu2204/x86_64  InRelease\n",
            "Hit:4 http://archive.ubuntu.com/ubuntu jammy InRelease\n",
            "Hit:5 http://archive.ubuntu.com/ubuntu jammy-updates InRelease\n",
            "Hit:6 http://archive.ubuntu.com/ubuntu jammy-backports InRelease\n",
            "Hit:7 http://security.ubuntu.com/ubuntu jammy-security InRelease\n",
            "Hit:8 https://ppa.launchpadcontent.net/deadsnakes/ppa/ubuntu jammy InRelease\n",
            "Get:9 https://ngrok-agent.s3.amazonaws.com buster InRelease [20.3 kB]\n",
            "Hit:10 https://ppa.launchpadcontent.net/graphics-drivers/ppa/ubuntu jammy InRelease\n",
            "Hit:11 https://r2u.stat.illinois.edu/ubuntu jammy InRelease\n",
            "Hit:12 https://ppa.launchpadcontent.net/ubuntugis/ppa/ubuntu jammy InRelease\n",
            "Get:13 https://ngrok-agent.s3.amazonaws.com buster/main amd64 Packages [7,219 B]\n",
            "Fetched 27.5 kB in 1s (21.2 kB/s)\n",
            "Reading package lists... Done\n",
            "Building dependency tree... Done\n",
            "Reading state information... Done\n",
            "50 packages can be upgraded. Run 'apt list --upgradable' to see them.\n",
            "\u001b[1;33mW: \u001b[0mSkipping acquire of configured file 'main/source/Sources' as repository 'https://r2u.stat.illinois.edu/ubuntu jammy InRelease' does not seem to provide it (sources.list entry misspelt?)\u001b[0m\n",
            "Reading package lists... Done\n",
            "Building dependency tree... Done\n",
            "Reading state information... Done\n",
            "The following NEW packages will be installed:\n",
            "  ngrok\n",
            "0 upgraded, 1 newly installed, 0 to remove and 50 not upgraded.\n",
            "Need to get 9,884 kB of archives.\n",
            "After this operation, 0 B of additional disk space will be used.\n",
            "Get:1 https://ngrok-agent.s3.amazonaws.com buster/main amd64 ngrok amd64 3.19.0 [9,884 kB]\n",
            "Fetched 9,884 kB in 2s (4,205 kB/s)\n",
            "debconf: unable to initialize frontend: Dialog\n",
            "debconf: (No usable dialog-like program is installed, so the dialog based frontend cannot be used. at /usr/share/perl5/Debconf/FrontEnd/Dialog.pm line 78, <> line 1.)\n",
            "debconf: falling back to frontend: Readline\n",
            "debconf: unable to initialize frontend: Readline\n",
            "debconf: (This frontend requires a controlling tty.)\n",
            "debconf: falling back to frontend: Teletype\n",
            "dpkg-preconfigure: unable to re-open stdin: \n",
            "Selecting previously unselected package ngrok.\n",
            "(Reading database ... 123695 files and directories currently installed.)\n",
            "Preparing to unpack .../ngrok_3.19.0_amd64.deb ...\n",
            "Unpacking ngrok (3.19.0) ...\n",
            "Setting up ngrok (3.19.0) ...\n"
          ]
        }
      ],
      "source": [
        "!curl -s https://ngrok-agent.s3.amazonaws.com/ngrok.asc \\\n",
        "\t| sudo tee /etc/apt/trusted.gpg.d/ngrok.asc >/dev/null \\\n",
        "\t&& echo \"deb https://ngrok-agent.s3.amazonaws.com buster main\" \\\n",
        "\t| sudo tee /etc/apt/sources.list.d/ngrok.list \\\n",
        "\t&& sudo apt update \\\n",
        "\t&& sudo apt install ngrok"
      ]
    },
    {
      "cell_type": "code",
      "execution_count": 17,
      "metadata": {
        "colab": {
          "base_uri": "https://localhost:8080/"
        },
        "id": "xIYxvgBbh6Wt",
        "outputId": "c938e78a-f555-4710-c468-a62c21e4a14a"
      },
      "outputs": [
        {
          "name": "stdout",
          "output_type": "stream",
          "text": [
            "··········\n"
          ]
        }
      ],
      "source": [
        "from getpass import getpass\n",
        "\n",
        "token = getpass()"
      ]
    },
    {
      "cell_type": "code",
      "execution_count": 18,
      "metadata": {
        "colab": {
          "base_uri": "https://localhost:8080/"
        },
        "id": "rgt3tqKu0UP2",
        "outputId": "3a7f2fb6-f28a-4c82-888d-48afb8887143"
      },
      "outputs": [
        {
          "output_type": "stream",
          "name": "stdout",
          "text": [
            "Authtoken saved to configuration file: /root/.config/ngrok/ngrok.yml\n"
          ]
        }
      ],
      "source": [
        "!ngrok config add-authtoken \"$token\""
      ]
    },
    {
      "cell_type": "code",
      "execution_count": 34,
      "metadata": {
        "id": "1Bnqt0JG0lHN"
      },
      "outputs": [],
      "source": [
        "get_ipython().system_raw('ngrok http 8888 &')\n",
        "!sleep 5s"
      ]
    },
    {
      "cell_type": "code",
      "execution_count": 35,
      "metadata": {
        "colab": {
          "base_uri": "https://localhost:8080/"
        },
        "id": "2SgR2BTl0mIt",
        "outputId": "74784c64-4223-4013-b6e5-90c864ad37db"
      },
      "outputs": [
        {
          "output_type": "stream",
          "name": "stdout",
          "text": [
            "https://92b0-34-126-64-223.ngrok-free.app\n"
          ]
        }
      ],
      "source": [
        "!curl -s http://localhost:4040/api/tunnels | python3 -c \"import sys, json; print(json.load(sys.stdin)['tunnels'][0]['public_url'])\""
      ]
    },
    {
      "cell_type": "code",
      "execution_count": null,
      "metadata": {
        "colab": {
          "base_uri": "https://localhost:8080/"
        },
        "id": "o40n8mNr2Jc8",
        "outputId": "d37a4164-9fd2-4f2e-d4e2-a1b138fa1b07"
      },
      "outputs": [
        {
          "output_type": "stream",
          "name": "stdout",
          "text": [
            "[Livebook] Application running at http://localhost:8888/?token=3hxxqn4etbtkind3nvdsp65z4ydx7pjm\n",
            "\u001b[31m02:07:11.861 [error] ** (Bandit.HTTPError) Header read socket error: :closed\n",
            "\u001b[0m\u001b[31m02:07:18.272 [error] ** (Bandit.HTTPError) Header read socket error: :closed\n",
            "\u001b[0m\u001b[31m02:07:18.464 [error] ** (Bandit.HTTPError) Header read socket error: :closed\n",
            "\u001b[0mWARNING: All log messages before absl::InitializeLog() is called are written to STDERR\n",
            "I0000 00:00:1735178878.563224   53779 cuda_executor.cc:1040] successful NUMA node read from SysFS had negative value (-1), but there must be at least one NUMA node, so returning NUMA node zero. See more at https://github.com/torvalds/linux/blob/v6.0/Documentation/ABI/testing/sysfs-bus-pci#L344-L355\n",
            "I0000 00:00:1735178878.563655   53627 service.cc:146] XLA service 0x1138187d9c50 initialized for platform CUDA (this does not guarantee that XLA will be used). Devices:\n",
            "I0000 00:00:1735178878.563707   53627 service.cc:154]   StreamExecutor device (0): Tesla T4, Compute Capability 7.5\n",
            "I0000 00:00:1735178878.564232   53627 se_gpu_pjrt_client.cc:889] Using BFC allocator.\n",
            "I0000 00:00:1735178878.564314   53627 gpu_helpers.cc:114] XLA backend allocating 14252094259 bytes on device 0 for BFCAllocator.\n",
            "I0000 00:00:1735178878.564388   53627 gpu_helpers.cc:154] XLA backend will use up to 1583566028 bytes on device 0 for CollectiveBFCAllocator.\n",
            "I0000 00:00:1735178878.564582   53627 cuda_executor.cc:1040] successful NUMA node read from SysFS had negative value (-1), but there must be at least one NUMA node, so returning NUMA node zero. See more at https://github.com/torvalds/linux/blob/v6.0/Documentation/ABI/testing/sysfs-bus-pci#L344-L355\n",
            "\u001b[22m\n",
            "02:07:58.906 [info] Loaded cuDNN version 90600\n",
            "\u001b[0m\u001b[1m\u001b[32m    Updating\u001b[0m crates.io index\n",
            "\u001b[1m\u001b[32m Downloading\u001b[0m crates ...\n",
            "\u001b[1m\u001b[32m  Downloaded\u001b[0m regex v1.11.1\n",
            "\u001b[1m\u001b[32m  Downloaded\u001b[0m unicode-ident v1.0.13\n",
            "\u001b[1m\u001b[32m  Downloaded\u001b[0m quote v1.0.37\n",
            "\u001b[1m\u001b[32m  Downloaded\u001b[0m inventory v0.3.15\n",
            "\u001b[1m\u001b[32m  Downloaded\u001b[0m proc-macro2 v1.0.89\n",
            "\u001b[1m\u001b[32m  Downloaded\u001b[0m memchr v2.7.4\n",
            "\u001b[1m\u001b[32m  Downloaded\u001b[0m heck v0.5.0\n",
            "\u001b[1m\u001b[32m  Downloaded\u001b[0m aho-corasick v1.1.3\n",
            "\u001b[1m\u001b[32m  Downloaded\u001b[0m syn v2.0.87\n",
            "\u001b[1m\u001b[32m  Downloaded\u001b[0m regex-syntax v0.8.5\n",
            "\u001b[1m\u001b[32m  Downloaded\u001b[0m regex-automata v0.4.9\n",
            "\u001b[1m\u001b[32m  Downloaded\u001b[0m rustler_sys v2.4.3\n",
            "\u001b[1m\u001b[32m  Downloaded\u001b[0m rustler_codegen v0.34.0\n",
            "\u001b[1m\u001b[32m  Downloaded\u001b[0m rustler v0.34.0\n",
            "WARNING: All log messages before absl::InitializeLog() is called are written to STDERR\n",
            "I0000 00:00:1735178985.763349   54550 cuda_executor.cc:1040] successful NUMA node read from SysFS had negative value (-1), but there must be at least one NUMA node, so returning NUMA node zero. See more at https://github.com/torvalds/linux/blob/v6.0/Documentation/ABI/testing/sysfs-bus-pci#L344-L355\n",
            "I0000 00:00:1735178985.764527   53955 service.cc:146] XLA service 0x154df8443410 initialized for platform CUDA (this does not guarantee that XLA will be used). Devices:\n",
            "I0000 00:00:1735178985.764591   53955 service.cc:154]   StreamExecutor device (0): Tesla T4, Compute Capability 7.5\n",
            "I0000 00:00:1735178985.773151   53955 se_gpu_pjrt_client.cc:889] Using BFC allocator.\n",
            "I0000 00:00:1735178985.773240   53955 gpu_helpers.cc:114] XLA backend allocating 14252094259 bytes on device 0 for BFCAllocator.\n",
            "I0000 00:00:1735178985.773292   53955 gpu_helpers.cc:154] XLA backend will use up to 1583566028 bytes on device 0 for CollectiveBFCAllocator.\n",
            "I0000 00:00:1735178985.774924   53955 cuda_executor.cc:1040] successful NUMA node read from SysFS had negative value (-1), but there must be at least one NUMA node, so returning NUMA node zero. See more at https://github.com/torvalds/linux/blob/v6.0/Documentation/ABI/testing/sysfs-bus-pci#L344-L355\n",
            "\u001b[22m\n",
            "02:09:46.561 [info] Loaded cuDNN version 90600\n",
            "\u001b[0m"
          ]
        }
      ],
      "source": [
        "!livebook server --port 8888"
      ]
    }
  ],
  "metadata": {
    "accelerator": "GPU",
    "colab": {
      "provenance": [],
      "gpuType": "T4"
    },
    "kernelspec": {
      "display_name": "Python 3",
      "name": "python3"
    },
    "language_info": {
      "name": "python",
      "version": "3.11.6"
    }
  },
  "nbformat": 4,
  "nbformat_minor": 0
}